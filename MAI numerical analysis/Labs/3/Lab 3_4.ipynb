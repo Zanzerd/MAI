{
 "cells": [
  {
   "cell_type": "markdown",
   "metadata": {},
   "source": [
    "## Вычисление производных\n",
    "\n",
    "Вариант 18\n",
    "\n",
    "$$x_{i} = -0.2, 0.0, 0.2, 0.4, 0.6 $$\n",
    "\n",
    "$$y_{i} = 1.5722, 1.5708, 1.5694, 1.5593, 1.5273 $$\n",
    "\n",
    "для \n",
    "\n",
    "$$i = 0, 1, 2, 3, 4 $$\n",
    "\n",
    "соответственно.\n",
    "\n",
    "Вычисляем производные в точке $ X^{*} = 0.2 $"
   ]
  },
  {
   "cell_type": "code",
   "execution_count": 39,
   "metadata": {},
   "outputs": [],
   "source": [
    "x_arr = [-0.2, 0.0, 0.2, 0.4, 0.6]\n",
    "y_arr = [1.5722, 1.5708, 1.5694, 1.5593, 1.5273]\n",
    "\n",
    "x_star = 0.2"
   ]
  },
  {
   "cell_type": "code",
   "execution_count": 40,
   "metadata": {},
   "outputs": [],
   "source": [
    "import numpy as np\n",
    "\n",
    "def deriv(x, y, xp): #возвращает две производных: правостороннюю и левостороннюю \n",
    "    n = len(x_arr)\n",
    "    if n != len(y_arr):\n",
    "        print(\"Несоответствие размеров массивов\")\n",
    "    deriv = np.inf\n",
    "    lhs = deriv\n",
    "    rhs = deriv\n",
    "    \n",
    "    for i in range(n):\n",
    "        if x[i] <= xp and xp <= x[i+1]:\n",
    "            deriv = (y[i+1] - y[i])/(x[i+1] - x[i])\n",
    "            if xp == x[i+1]:\n",
    "                print(\"Граничная точка: найдены две производные: левосторонняя и правосторонняя\")\n",
    "                lhs = deriv\n",
    "            if xp == x[i]:\n",
    "                rhs = deriv\n",
    "                \n",
    "    if deriv == np.inf:\n",
    "        print(\"Не удалось найти производную\")\n",
    "    return lhs, rhs\n",
    "                \n",
    "        "
   ]
  },
  {
   "cell_type": "code",
   "execution_count": 41,
   "metadata": {},
   "outputs": [
    {
     "name": "stdout",
     "output_type": "stream",
     "text": [
      "Граничная точка: найдены две производные: левосторонняя и правосторонняя\n",
      "В точке 0.2 левосторонняя производная: -0.007000000000000339, правосторонняя: -0.05049999999999999\n",
      "Их полусумма:  -0.028750000000000164\n"
     ]
    }
   ],
   "source": [
    "lhs, rhs = deriv(x_arr, y_arr, x_star)\n",
    "print(\"В точке \" + str(x_star) + \" левосторонняя производная: \" + str(lhs) + \", правосторонняя: \" + str(rhs))\n",
    "print(\"Их полусумма: \", (lhs+rhs)/2)"
   ]
  },
  {
   "cell_type": "markdown",
   "metadata": {},
   "source": [
    "Теперь вычислим эту же производную со вторым порядком точности:"
   ]
  },
  {
   "cell_type": "code",
   "execution_count": 42,
   "metadata": {},
   "outputs": [],
   "source": [
    "def deriv_2p(x, y, xp):\n",
    "    n = len(x_arr)\n",
    "    if n != len(y_arr):\n",
    "        print(\"Несоответствие размеров массивов\")\n",
    "    \n",
    "    for i in range(n):\n",
    "        if x[i] <= xp and xp <= x[i+1]:\n",
    "            deriv = (y[i+1] - y[i])/(x[i+1] - x[i]) + ((((y[i+2] - y[i+1])/(x[i+2]-x[i+1])) - \n",
    "                                                        ((y[i+1] - y[i])/(x[i+1]-x[i])))/(x[i+2] - x[i]))*(2*xp - x[i] - x[i+1])\n",
    "            return deriv\n",
    "\n",
    "    return None"
   ]
  },
  {
   "cell_type": "code",
   "execution_count": 43,
   "metadata": {},
   "outputs": [
    {
     "data": {
      "text/plain": [
       "-0.028750000000000164"
      ]
     },
     "execution_count": 43,
     "metadata": {},
     "output_type": "execute_result"
    }
   ],
   "source": [
    "der = deriv_2p(x_arr, y_arr, x_star)\n",
    "der"
   ]
  },
  {
   "cell_type": "markdown",
   "metadata": {},
   "source": [
    "Результат вычисления со вторым порядком точности (так как у нас равномерная сетка) совпадает с полусуммой правосторонней и левосторонней производных, полученных с помощью предыдущей формулы."
   ]
  },
  {
   "cell_type": "markdown",
   "metadata": {},
   "source": [
    "Вычислим вторую производную со вторым порядком точности. "
   ]
  },
  {
   "cell_type": "code",
   "execution_count": 44,
   "metadata": {},
   "outputs": [],
   "source": [
    "def sec_deriv_2p(x, y, xp):\n",
    "    n = len(x_arr)\n",
    "    \n",
    "    for i in range(n):\n",
    "        if x[i] <= xp and xp <= x[i+1]:\n",
    "            deriv = 2*((((y[i+2] - y[i+1])/(x[i+2] - x[i+1])) - ((y[i+1] - y[i])/(x[i+1] - x[i]))) / (x[i+2] - x[i]))\n",
    "            \n",
    "            return deriv\n",
    "        \n",
    "    return None"
   ]
  },
  {
   "cell_type": "code",
   "execution_count": 45,
   "metadata": {},
   "outputs": [
    {
     "data": {
      "text/plain": [
       "-0.21749999999999825"
      ]
     },
     "execution_count": 45,
     "metadata": {},
     "output_type": "execute_result"
    }
   ],
   "source": [
    "der2 = sec_deriv_2p(x_arr, y_arr, x_star)\n",
    "der2"
   ]
  },
  {
   "cell_type": "code",
   "execution_count": null,
   "metadata": {},
   "outputs": [],
   "source": []
  }
 ],
 "metadata": {
  "kernelspec": {
   "display_name": "Python 3",
   "language": "python",
   "name": "python3"
  },
  "language_info": {
   "codemirror_mode": {
    "name": "ipython",
    "version": 3
   },
   "file_extension": ".py",
   "mimetype": "text/x-python",
   "name": "python",
   "nbconvert_exporter": "python",
   "pygments_lexer": "ipython3",
   "version": "3.7.9"
  }
 },
 "nbformat": 4,
 "nbformat_minor": 4
}
