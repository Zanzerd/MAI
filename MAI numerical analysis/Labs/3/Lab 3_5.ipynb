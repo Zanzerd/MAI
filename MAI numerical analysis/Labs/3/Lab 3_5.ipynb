{
 "cells": [
  {
   "cell_type": "markdown",
   "metadata": {},
   "source": [
    "## Численное интегрирование"
   ]
  },
  {
   "cell_type": "markdown",
   "metadata": {},
   "source": [
    "Вариант 18\n",
    "\n",
    "$$ y = \\frac{x}{16 - x^{4}} $$\n",
    "\n",
    "$$X_{0} = -1, X_{k} = 1, h_{1} = 0.5, h_{2} = 0.25 $$"
   ]
  },
  {
   "cell_type": "code",
   "execution_count": 35,
   "metadata": {},
   "outputs": [],
   "source": [
    "func = lambda x: x/(16 - (x**4))\n",
    "a = -1\n",
    "b = 1\n",
    "h1 = 0.5\n",
    "h2 = 0.25"
   ]
  },
  {
   "cell_type": "code",
   "execution_count": 36,
   "metadata": {},
   "outputs": [],
   "source": [
    "import numpy as np\n",
    "\n",
    "def integrate(func, a, b, h, eps, mode):\n",
    "\n",
    "    Q = 0\n",
    "    Q_prev = np.inf\n",
    "    N = int((b-a)/h)\n",
    "    i = 0\n",
    "    \n",
    "    while(abs(Q - Q_prev) >= eps): #критерий останова - разница между значением на сетке и значением на сетке с вдвое \n",
    "        i+=1                       #меньшим шагом меньше заданной точности - тогда берём значение на второй сетке\n",
    "        Q_prev = Q\n",
    "        mesh = np.linspace(a, b, N)\n",
    "        Q = 0\n",
    "        for i in range(N-1):\n",
    "            xk_prev = mesh[i]\n",
    "            xk = mesh[i+1]\n",
    "            if mode == 'rect':\n",
    "                Qk = h*func((xk_prev + xk)/2) #формула для элементарной квадратуры в виде прямоугольника\n",
    "            elif mode == 'trap':\n",
    "                Qk = (h/2)*(func(xk_prev) + func(xk)) #формула для элементарной квадратуры в виде трапеции\n",
    "            elif mode == 'simp':\n",
    "                Qk = (h/6)*(func(xk_prev) + 4*func((xk_prev + xk)/2) + func(xk)) #формула для элементарной квадратуры \n",
    "                                                                                 #в виде параболы\n",
    "            else:\n",
    "                print(\"Please select mode from: 'rect', 'trap', 'simp'\")\n",
    "                return None\n",
    "            Q += Qk\n",
    "            #print(abs(Q - Q_prev))\n",
    "        i+=1    \n",
    "        N = 2*N\n",
    "    return Q, i"
   ]
  },
  {
   "cell_type": "markdown",
   "metadata": {},
   "source": [
    "Метод прямоугольников:"
   ]
  },
  {
   "cell_type": "code",
   "execution_count": 37,
   "metadata": {},
   "outputs": [
    {
     "name": "stdout",
     "output_type": "stream",
     "text": [
      "Ответ -1.0408340855860843e-17 был получен методом прямоугольников за 3 итераций\n"
     ]
    }
   ],
   "source": [
    "eps = 1e-8\n",
    "\n",
    "val, it = integrate(func, a, b, h1, eps, 'rect')\n",
    "\n",
    "print(\"Ответ \" +str(val) + \" был получен методом прямоугольников за \" + str(it) + \" итераций\")"
   ]
  },
  {
   "cell_type": "markdown",
   "metadata": {},
   "source": [
    "Метод трапеций:"
   ]
  },
  {
   "cell_type": "code",
   "execution_count": 38,
   "metadata": {},
   "outputs": [
    {
     "name": "stdout",
     "output_type": "stream",
     "text": [
      "Ответ -3.469446951953614e-18 был получен методом трапеций за 3 итераций\n"
     ]
    }
   ],
   "source": [
    "eps = 1e-8\n",
    "\n",
    "val, it = integrate(func, a, b, h1, eps, 'trap')\n",
    "\n",
    "print(\"Ответ \" +str(val) + \" был получен методом трапеций за \" + str(it) + \" итераций\")"
   ]
  },
  {
   "cell_type": "markdown",
   "metadata": {},
   "source": [
    "Метод Симпсона:"
   ]
  },
  {
   "cell_type": "code",
   "execution_count": 39,
   "metadata": {},
   "outputs": [
    {
     "name": "stdout",
     "output_type": "stream",
     "text": [
      "Ответ -1.3877787807814457e-17 был получен методом Симпсона за 3 итераций\n"
     ]
    }
   ],
   "source": [
    "eps = 1e-8\n",
    "\n",
    "val, it = integrate(func, a, b, h1, eps, 'simp')\n",
    "\n",
    "print(\"Ответ \" +str(val) + \" был получен методом Симпсона за \" + str(it) + \" итераций\")"
   ]
  },
  {
   "cell_type": "code",
   "execution_count": null,
   "metadata": {},
   "outputs": [],
   "source": []
  }
 ],
 "metadata": {
  "kernelspec": {
   "display_name": "Python 3",
   "language": "python",
   "name": "python3"
  },
  "language_info": {
   "codemirror_mode": {
    "name": "ipython",
    "version": 3
   },
   "file_extension": ".py",
   "mimetype": "text/x-python",
   "name": "python",
   "nbconvert_exporter": "python",
   "pygments_lexer": "ipython3",
   "version": "3.7.9"
  }
 },
 "nbformat": 4,
 "nbformat_minor": 4
}
