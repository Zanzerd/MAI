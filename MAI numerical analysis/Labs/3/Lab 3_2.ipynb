{
 "cells": [
  {
   "cell_type": "markdown",
   "metadata": {},
   "source": [
    "## Построение кубического сплайна\n",
    "\n",
    "Вариант 18\n",
    "$$X^{*} = 3.0$$\n",
    "\n",
    "$$x_{i} = 0.0, 1.7, 3.4, 5.1, 6.8 $$\n",
    "\n",
    "$$f_{i} = 0.0, 3.0038, 5.2439, 7.3583, 9.4077$$\n",
    "\n",
    "для $$i = 0, 1, 2, 3, 4$$ соответственно"
   ]
  },
  {
   "cell_type": "code",
   "execution_count": 75,
   "metadata": {},
   "outputs": [],
   "source": [
    "x_arr = [0.0, 1.7, 3.4, 5.1, 6.8]\n",
    "y_arr = [0.0, 3.0038, 5.2439, 7.3583, 9.4077]\n",
    "\n",
    "h = [x_arr[i] - x_arr[i-1] for i in range(1, len(x_arr))]"
   ]
  },
  {
   "cell_type": "markdown",
   "metadata": {},
   "source": [
    "Запишем СЛАУ для коэффициента c:\n",
    "\n",
    "$\\begin{equation}\n",
    "    \\begin{cases}\n",
    "      6.8c_{2} + 1.7c_{3}  = -1.3477\\\\\n",
    "      1.7c_{2} + 6.8c_{3} + 1.7c_{4} = -0.2218\\\\\n",
    "      1.7c_{3} + 6.8c_{4} = -0.1147\n",
    "    \\end{cases}\\,.\n",
    "\\end{equation}$"
   ]
  },
  {
   "cell_type": "code",
   "execution_count": 76,
   "metadata": {},
   "outputs": [],
   "source": [
    "import numpy as np\n",
    "\n",
    "C = np.array([6.8, 1.7, 0, 1.7, 6.8, 1.7, 0, 1.7, 6.8])\n",
    "C = C.reshape((3, 3))\n",
    "\n",
    "d = np.array([-1.3477, -0.2218, -0.1147])\n"
   ]
  },
  {
   "cell_type": "markdown",
   "metadata": {},
   "source": [
    "Решим трёхдиагональную систему методом прогонки, используя функцию, написанную во 2 задании 1-ой лабораторной работы. "
   ]
  },
  {
   "cell_type": "code",
   "execution_count": 77,
   "metadata": {},
   "outputs": [],
   "source": [
    "def progonka(A, d):\n",
    "    N = A.shape[0]\n",
    "    A1 = A.copy()\n",
    "    x = np.zeros(N)\n",
    "    Q = np.zeros(N)\n",
    "    P = np.zeros(N)\n",
    "    P[0] = -(A1[0, 1])/(A1[0, 0]) #прямой ход: вычисляем прогоночные коэффициенты\n",
    "    Q[0] = d[0] / A1[0, 0] #отдельно для первого и последнего уравнений, циклом для всех остальных\n",
    "    for i in range(1, N-1):\n",
    "        P[i] = - (A1[i, i+1]) / (A1[i, i] + A1[i, i-1] * P[i-1]) \n",
    "        Q[i] = (d[i] - A1[i, i-1] * Q[i-1]) / (A1[i, i] + A1[i, i-1] * P[i-1])\n",
    "    P[-1] = 0\n",
    "    Q[-1] = (d[-1] - A1[-1, -2] * Q[-2]) / (A1[-1, -1] + A1[-1, -2] * P[-2])\n",
    "    #print(\"P: \", P)\n",
    "    #print(\"Q: \", Q)\n",
    "    \n",
    "    x[N-1] = Q[N-1] #обратный ход, вычисляем переменные начиная с последнего уравнения (его считаем отдельно)\n",
    "    for j in range(N-2, -1, -1): \n",
    "        x[j] = P[j] * x[j+1] + Q[j]\n",
    "    return x"
   ]
  },
  {
   "cell_type": "code",
   "execution_count": 78,
   "metadata": {},
   "outputs": [
    {
     "data": {
      "text/plain": [
       "array([-0.20423319,  0.02416807, -0.02290966])"
      ]
     },
     "execution_count": 78,
     "metadata": {},
     "output_type": "execute_result"
    }
   ],
   "source": [
    "cx = progonka(C, d)\n",
    "cx "
   ]
  },
  {
   "cell_type": "markdown",
   "metadata": {},
   "source": [
    "Остальные коэффициенты вычислим по формулам:\n",
    "$$ a_{i} = f_{i-1}, i = 1,2,3$$\n",
    "\n",
    "$$ b_{i} = \\frac{f_{i} - f_{i-1}}{h_{i}} - \\frac{1}{3}h_{i}(c_{i+1}+2c_{i}), i = 1,2$$\n",
    "\n",
    "$$ d_{i} = \\frac{c_{i+1} - c_{i}}{3h_{i}}, i = 1,2$$\n",
    "\n",
    "$$c_{1} = 0\\\\    b_{4} = \\frac{f_{4} - f{3}}{h_{4}} - \\frac{2}{3}h_{4}c_{4}, \\\\  d_{4} = -\\frac{c_{4}}{3h_{4}}$$"
   ]
  },
  {
   "cell_type": "code",
   "execution_count": 79,
   "metadata": {},
   "outputs": [],
   "source": [
    "a = [0.0, 3.0038, 5.2439, 7.3583]\n",
    "b = [1.8827, 1.5355, 1.2294, 1.2315]\n",
    "c = [0, -0.20423319,  0.02416807, -0.02290966]\n",
    "d = [-0.0401, 0.0447, -0.0092, 0.0044]"
   ]
  },
  {
   "cell_type": "code",
   "execution_count": 80,
   "metadata": {},
   "outputs": [],
   "source": [
    "def cubic_spline(x, a, b, c, d, xval):\n",
    "    n = len(x)\n",
    "    for i in range(n-1):\n",
    "        if x[i] <= xval and xval <= x[i+1]:\n",
    "            return a[i] + b[i]*(xval - x[i]) + c[i]*((xval - x[i])**2) + d[i]*((xval - x[i])**3)\n",
    "    "
   ]
  },
  {
   "cell_type": "markdown",
   "metadata": {},
   "source": [
    "Проверка в точках с заданными значениями функции:"
   ]
  },
  {
   "cell_type": "code",
   "execution_count": 81,
   "metadata": {},
   "outputs": [
    {
     "name": "stdout",
     "output_type": "stream",
     "text": [
      "Получили 0.0 , на самом деле: 0.0\n",
      "Получили 3.0035787000000003 , на самом деле: 3.0038\n",
      "Получили 5.2435271809 , на самом деле: 5.2439\n",
      "Получили 7.3585261223 , на самом деле: 7.3583\n",
      "Получили 9.407258282599999 , на самом деле: 9.4077\n"
     ]
    }
   ],
   "source": [
    "for i in range(5):\n",
    "    yval = cubic_spline(x_arr, a, b, c, d, x_arr[i])\n",
    "    print(\"Получили \" +str(yval), \", на самом деле: \" +str(y_arr[i]))"
   ]
  },
  {
   "cell_type": "markdown",
   "metadata": {},
   "source": [
    "Вычислим значение функции в точке $x = X^{*}$\n"
   ]
  },
  {
   "cell_type": "code",
   "execution_count": 82,
   "metadata": {},
   "outputs": [
    {
     "name": "stdout",
     "output_type": "stream",
     "text": [
      "4.7530018089\n"
     ]
    }
   ],
   "source": [
    "y_star = cubic_spline(x_arr, a, b, c, d, 3.0)\n",
    "print(y_star)"
   ]
  },
  {
   "cell_type": "markdown",
   "metadata": {},
   "source": [
    "Построим график полученного сплайна:"
   ]
  },
  {
   "cell_type": "code",
   "execution_count": 83,
   "metadata": {},
   "outputs": [
    {
     "data": {
      "text/plain": [
       "<matplotlib.collections.PathCollection at 0x20d5f4f0448>"
      ]
     },
     "execution_count": 83,
     "metadata": {},
     "output_type": "execute_result"
    },
    {
     "data": {
      "image/png": "[encoded data removed]",
      "text/plain": [
       "<Figure size 576x432 with 1 Axes>"
      ]
     },
     "metadata": {
      "needs_background": "light"
     },
     "output_type": "display_data"
    }
   ],
   "source": [
    "import matplotlib.pyplot as plt\n",
    "\n",
    "x_f = np.arange(0.0, 6.8, 0.01)\n",
    "y_f = [cubic_spline(x_arr, a, b, c, d, x_fi) for x_fi in x_f]\n",
    "\n",
    "fig, ax = plt.subplots(figsize=(8,6))\n",
    "ax.plot(x_f, y_f, color = 'red')\n",
    "ax.scatter(x_arr, y_arr, color = 'blue')"
   ]
  },
  {
   "cell_type": "code",
   "execution_count": null,
   "metadata": {},
   "outputs": [],
   "source": []
  }
 ],
 "metadata": {
  "kernelspec": {
   "display_name": "Python 3",
   "language": "python",
   "name": "python3"
  },
  "language_info": {
   "codemirror_mode": {
    "name": "ipython",
    "version": 3
   },
   "file_extension": ".py",
   "mimetype": "text/x-python",
   "name": "python",
   "nbconvert_exporter": "python",
   "pygments_lexer": "ipython3",
   "version": "3.7.9"
  }
 },
 "nbformat": 4,
 "nbformat_minor": 4
}
