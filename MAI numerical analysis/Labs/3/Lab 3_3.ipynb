{
 "cells": [
  {
   "cell_type": "markdown",
   "metadata": {},
   "source": [
    "## Метод наименьших квадратов\n",
    "\n",
    "Вариант 18 \n",
    "\n",
    "$$ x_{i} = 0.0, 1.7, 3.4, 5.1, 6.8, 8.5 $$\n",
    "\n",
    "$$ y_{i} = 0.0, 3.0038, 5.2439, 7.3583, 9.4077, 11.415 $$\n",
    "\n",
    "для $$i = 0, 1, 2, 3, 4, 5$$ соответственно"
   ]
  },
  {
   "cell_type": "code",
   "execution_count": 2,
   "metadata": {},
   "outputs": [],
   "source": [
    "x_arr = [0.0, 1.7, 3.4, 5.1, 6.8, 8.5]\n",
    "y_arr = [0.0, 3.0038, 5.2439, 7.3583, 9.4077, 11.415]"
   ]
  },
  {
   "cell_type": "markdown",
   "metadata": {},
   "source": [
    " Используем design matrix."
   ]
  },
  {
   "cell_type": "code",
   "execution_count": 3,
   "metadata": {},
   "outputs": [],
   "source": [
    "import numpy as np\n",
    "\n",
    "def design_matrix(x, m):\n",
    "    n = len(x)\n",
    "    D = np.zeros((n, m+1)) \n",
    "    for i in range(n):\n",
    "        for j in range(m+1):\n",
    "            D[i][j] = x[i]**j\n",
    "    return D\n",
    "    "
   ]
  },
  {
   "cell_type": "markdown",
   "metadata": {},
   "source": [
    "С помощью этой функции мы можем строить матрицы для аппроксимации многочленами разного порядка m."
   ]
  },
  {
   "cell_type": "code",
   "execution_count": 4,
   "metadata": {},
   "outputs": [
    {
     "data": {
      "text/plain": [
       "array([[  1.,   1.,   1.,   1.],\n",
       "       [  1.,   2.,   4.,   8.],\n",
       "       [  1.,   3.,   9.,  27.],\n",
       "       [  1.,   4.,  16.,  64.],\n",
       "       [  1.,   5.,  25., 125.]])"
      ]
     },
     "execution_count": 4,
     "metadata": {},
     "output_type": "execute_result"
    }
   ],
   "source": [
    "x_test = [1,2,3,4, 5]\n",
    "D = design_matrix(x_test, 3)\n",
    "D"
   ]
  },
  {
   "cell_type": "markdown",
   "metadata": {},
   "source": [
    "Построим многочлен 1-го порядка:"
   ]
  },
  {
   "cell_type": "code",
   "execution_count": 5,
   "metadata": {},
   "outputs": [
    {
     "name": "stdout",
     "output_type": "stream",
     "text": [
      "Приближающий многочлен первой степени: 0.4713714285714274*x + 1.3176655462184876\n"
     ]
    }
   ],
   "source": [
    "D = design_matrix(x_arr, 1)\n",
    "A = D.T @ D\n",
    "b = D.T @ y_arr\n",
    "beta = np.linalg.solve(A, b)\n",
    "poly = lambda x: beta[0] + beta[1]*x\n",
    "print(\"Приближающий многочлен первой степени: \" + str(beta[0]) + \"*x + \" + str(beta[1]))"
   ]
  },
  {
   "cell_type": "markdown",
   "metadata": {},
   "source": [
    "Посчитаем для него сумму квадратов ошибок:"
   ]
  },
  {
   "cell_type": "code",
   "execution_count": 6,
   "metadata": {},
   "outputs": [
    {
     "name": "stdout",
     "output_type": "stream",
     "text": [
      "Сумма квадратов ошибок:  0.48743019771428586\n"
     ]
    }
   ],
   "source": [
    "n = len(y_arr)\n",
    "summ = 0\n",
    "for i in range(n):\n",
    "    summ += (poly(x_arr[i]) - y_arr[i])**2\n",
    "print(\"Сумма квадратов ошибок: \", summ)"
   ]
  },
  {
   "cell_type": "markdown",
   "metadata": {},
   "source": [
    "Построим многочлен 2-го порядка:"
   ]
  },
  {
   "cell_type": "code",
   "execution_count": 122,
   "metadata": {},
   "outputs": [
    {
     "name": "stdout",
     "output_type": "stream",
     "text": [
      "Приближающий многочлен второй степени: 0.12938928571427327*x^2 + 1.6194144957983274*x -0.03549987642115758\n"
     ]
    }
   ],
   "source": [
    "D2 = design_matrix(x_arr, 2)\n",
    "A2 = D2.T @ D2\n",
    "b2 = D2.T @ y_arr\n",
    "beta2 = np.linalg.solve(A2, b2)\n",
    "poly2 = lambda x: beta2[0] + beta2[1]*x + beta2[2]*(x**2)\n",
    "print(\"Приближающий многочлен второй степени: \" + str(beta2[0]) + \"*x^2 + \" + str(beta2[1]) + \"*x \" + str(beta2[2]))"
   ]
  },
  {
   "cell_type": "markdown",
   "metadata": {},
   "source": [
    "Посчитаем для него сумму квадратов ошибок:"
   ]
  },
  {
   "cell_type": "code",
   "execution_count": 123,
   "metadata": {},
   "outputs": [
    {
     "name": "stdout",
     "output_type": "stream",
     "text": [
      "Сумма квадратов ошибок:  0.0944721966428572\n"
     ]
    }
   ],
   "source": [
    "n = len(y_arr)\n",
    "summ = 0\n",
    "for i in range(n):\n",
    "    summ += (poly2(x_arr[i]) - y_arr[i])**2\n",
    "print(\"Сумма квадратов ошибок: \", summ)"
   ]
  },
  {
   "cell_type": "code",
   "execution_count": 124,
   "metadata": {},
   "outputs": [
    {
     "data": {
      "text/plain": [
       "(0.0, 12.0)"
      ]
     },
     "execution_count": 124,
     "metadata": {},
     "output_type": "execute_result"
    },
    {
     "data": {
      "image/png": "[encoded data removed]",
      "text/plain": [
       "<Figure size 576x432 with 1 Axes>"
      ]
     },
     "metadata": {
      "needs_background": "light"
     },
     "output_type": "display_data"
    }
   ],
   "source": [
    "import matplotlib.pyplot as plt\n",
    "\n",
    "x_full = np.arange(0.0, 12, 0.01)\n",
    "p1_vals = [poly(x_i) for x_i in x_full]\n",
    "p2_vals = [poly2(x_i) for x_i in x_full]\n",
    "\n",
    "fig, ax = plt.subplots(figsize=(8,6))\n",
    "ax.plot(x_full, p1_vals , color = 'blue')\n",
    "ax.plot(x_full, p2_vals, color = 'red')\n",
    "ax.scatter(x_arr, y_arr, color = 'black')\n",
    "plt.ylim(0, 12)  \n",
    "plt.xlim(0, 12)"
   ]
  },
  {
   "cell_type": "markdown",
   "metadata": {},
   "source": [
    "На примере многочлена 1-й степени проверим, что мы правильно посчитали коэффициенты $\\beta$ - решим нормальную систему, вручную считая коэффициенты."
   ]
  },
  {
   "cell_type": "code",
   "execution_count": 106,
   "metadata": {},
   "outputs": [],
   "source": [
    "N = len(x_arr) - 1\n",
    "summ_x_y = 0\n",
    "summ_x_2 = 0\n",
    "summ_y = 0\n",
    "summ_x = 0\n",
    "for x_i, y_i in zip(x_arr, y_arr):\n",
    "    summ_x_y += x_i*y_i\n",
    "    summ_x_2 += (x_i)**2\n",
    "    summ_y += y_i\n",
    "    summ_x += x_i"
   ]
  },
  {
   "cell_type": "code",
   "execution_count": 8,
   "metadata": {},
   "outputs": [
    {
     "ename": "NameError",
     "evalue": "name 'N' is not defined",
     "output_type": "error",
     "traceback": [
      "\u001b[1;31m---------------------------------------------------------------------------\u001b[0m",
      "\u001b[1;31mNameError\u001b[0m                                 Traceback (most recent call last)",
      "\u001b[1;32m<ipython-input-8-4be8fd2f2eee>\u001b[0m in \u001b[0;36m<module>\u001b[1;34m\u001b[0m\n\u001b[1;32m----> 1\u001b[1;33m \u001b[0mA\u001b[0m \u001b[1;33m=\u001b[0m \u001b[0mnp\u001b[0m\u001b[1;33m.\u001b[0m\u001b[0marray\u001b[0m\u001b[1;33m(\u001b[0m\u001b[1;33m[\u001b[0m\u001b[0mN\u001b[0m\u001b[1;33m+\u001b[0m\u001b[1;36m1\u001b[0m\u001b[1;33m,\u001b[0m \u001b[0msumm_x\u001b[0m\u001b[1;33m,\u001b[0m \u001b[0msumm_x\u001b[0m\u001b[1;33m,\u001b[0m \u001b[0msumm_x_2\u001b[0m\u001b[1;33m]\u001b[0m\u001b[1;33m)\u001b[0m\u001b[1;33m\u001b[0m\u001b[1;33m\u001b[0m\u001b[0m\n\u001b[0m\u001b[0;32m      2\u001b[0m \u001b[0mA\u001b[0m \u001b[1;33m=\u001b[0m \u001b[0mA\u001b[0m\u001b[1;33m.\u001b[0m\u001b[0mreshape\u001b[0m\u001b[1;33m(\u001b[0m\u001b[1;33m(\u001b[0m\u001b[1;36m2\u001b[0m\u001b[1;33m,\u001b[0m\u001b[1;36m2\u001b[0m\u001b[1;33m)\u001b[0m\u001b[1;33m)\u001b[0m\u001b[1;33m\u001b[0m\u001b[1;33m\u001b[0m\u001b[0m\n\u001b[0;32m      3\u001b[0m \u001b[0mb\u001b[0m \u001b[1;33m=\u001b[0m \u001b[0mnp\u001b[0m\u001b[1;33m.\u001b[0m\u001b[0marray\u001b[0m\u001b[1;33m(\u001b[0m\u001b[1;33m[\u001b[0m\u001b[0msumm_y\u001b[0m\u001b[1;33m,\u001b[0m \u001b[0msumm_x_y\u001b[0m\u001b[1;33m]\u001b[0m\u001b[1;33m)\u001b[0m\u001b[1;33m\u001b[0m\u001b[1;33m\u001b[0m\u001b[0m\n\u001b[0;32m      4\u001b[0m \u001b[0mxb\u001b[0m \u001b[1;33m=\u001b[0m \u001b[0mnp\u001b[0m\u001b[1;33m.\u001b[0m\u001b[0mlinalg\u001b[0m\u001b[1;33m.\u001b[0m\u001b[0msolve\u001b[0m\u001b[1;33m(\u001b[0m\u001b[0mA\u001b[0m\u001b[1;33m,\u001b[0m \u001b[0mb\u001b[0m\u001b[1;33m)\u001b[0m\u001b[1;33m\u001b[0m\u001b[1;33m\u001b[0m\u001b[0m\n\u001b[0;32m      5\u001b[0m \u001b[0mprint\u001b[0m\u001b[1;33m(\u001b[0m\u001b[1;34m\"Вручную: \"\u001b[0m \u001b[1;33m+\u001b[0m \u001b[0mstr\u001b[0m\u001b[1;33m(\u001b[0m\u001b[0mxb\u001b[0m\u001b[1;33m)\u001b[0m \u001b[1;33m+\u001b[0m \u001b[1;34m\", с использованием design matrix: \"\u001b[0m \u001b[1;33m+\u001b[0m \u001b[0mstr\u001b[0m\u001b[1;33m(\u001b[0m\u001b[0mbeta\u001b[0m\u001b[1;33m)\u001b[0m\u001b[1;33m)\u001b[0m\u001b[1;33m\u001b[0m\u001b[1;33m\u001b[0m\u001b[0m\n",
      "\u001b[1;31mNameError\u001b[0m: name 'N' is not defined"
     ]
    }
   ],
   "source": [
    "A = np.array([N+1, summ_x, summ_x, summ_x_2])\n",
    "A = A.reshape((2,2))\n",
    "b = np.array([summ_y, summ_x_y])\n",
    "xb = np.linalg.solve(A, b)\n",
    "print(\"Вручную: \" + str(xb) + \", с использованием design matrix: \" + str(beta))"
   ]
  },
  {
   "cell_type": "code",
   "execution_count": 9,
   "metadata": {},
   "outputs": [],
   "source": []
  }
 ],
 "metadata": {
  "kernelspec": {
   "display_name": "Python 3",
   "language": "python",
   "name": "python3"
  },
  "language_info": {
   "codemirror_mode": {
    "name": "ipython",
    "version": 3
   },
   "file_extension": ".py",
   "mimetype": "text/x-python",
   "name": "python",
   "nbconvert_exporter": "python",
   "pygments_lexer": "ipython3",
   "version": "3.7.9"
  }
 },
 "nbformat": 4,
 "nbformat_minor": 4
}
