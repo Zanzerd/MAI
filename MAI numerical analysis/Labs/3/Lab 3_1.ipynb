{
 "cells": [
  {
   "cell_type": "markdown",
   "metadata": {},
   "source": [
    "## Интерполяция многочленами Лагранжа и Ньютона\n",
    "\n",
    "Вариант 18:\n",
    "$$ y = \\sqrt{x} + x $$\n",
    "\n",
    "а) $X_{i} = 0, 1.7, 3.4, 5.1$\n",
    "б) $X_{i} = 0, 1.7, 4.0, 5.1$\n",
    "\n",
    "$X^{*} = 3.0$"
   ]
  },
  {
   "cell_type": "code",
   "execution_count": 107,
   "metadata": {},
   "outputs": [],
   "source": [
    "import numpy as np\n",
    "\n",
    "func = lambda x: np.sqrt(x) + x\n",
    "\n",
    "X_a_arr = [0, 1.7, 3.4, 5.1]\n",
    "X_b_arr = [0, 1.7, 4.0, 5.1]"
   ]
  },
  {
   "cell_type": "code",
   "execution_count": 4,
   "metadata": {},
   "outputs": [
    {
     "name": "stdout",
     "output_type": "stream",
     "text": [
      "Значения функции в точках X_a:  [0.0, 3.0038404810405295, 5.243908891458577, 7.358317958127243]\n",
      "Значения функции в точках X_b:  [0.0, 3.0038404810405295, 6.0, 7.358317958127243]\n"
     ]
    }
   ],
   "source": [
    "y_a_arr = []\n",
    "y_b_arr = []\n",
    "\n",
    "for x_a in X_a_arr: \n",
    "    y_a_arr.append(func(x_a))\n",
    "    \n",
    "for x_b in X_b_arr:\n",
    "    y_b_arr.append(func(x_b))\n",
    "    \n",
    "print(\"Значения функции в точках X_a: \", y_a_arr)\n",
    "\n",
    "print(\"Значения функции в точках X_b: \", y_b_arr)"
   ]
  },
  {
   "cell_type": "markdown",
   "metadata": {},
   "source": [
    "### Многочлен Лагранжа"
   ]
  },
  {
   "cell_type": "code",
   "execution_count": 108,
   "metadata": {},
   "outputs": [],
   "source": [
    "def lagrange_k(x, k, xval):\n",
    "    prod = 1\n",
    "    for x_i in x:\n",
    "        if x_i == x[k]: #этот член произведения содержит 0 в знаменателе\n",
    "            continue\n",
    "        else:\n",
    "            prod *= (xval - x_i)/(x[k] - x_i) #формула для одного лагранжева многочлена \n",
    "    return prod\n",
    "        \n",
    "def lagrange(x, y, xval): #формула для итогового интерполяционного многочлена Лагранжа\n",
    "    summ = 0 \n",
    "    for i in range(len(x)):\n",
    "        summ += y[i]*lagrange_k(x, i, xval)\n",
    "    return summ "
   ]
  },
  {
   "cell_type": "markdown",
   "metadata": {},
   "source": [
    "Построим графики изначальной функции (красным цветом) и интерполяционного многочлена (синим цветом) на области определения (0, 5.1)"
   ]
  },
  {
   "cell_type": "markdown",
   "metadata": {},
   "source": [
    "Интерполяция для пункта а):"
   ]
  },
  {
   "cell_type": "code",
   "execution_count": 109,
   "metadata": {},
   "outputs": [
    {
     "data": {
      "text/plain": [
       "[<matplotlib.lines.Line2D at 0x2e3d15a6408>]"
      ]
     },
     "execution_count": 109,
     "metadata": {},
     "output_type": "execute_result"
    },
    {
     "data": {
      "image/png": "[encoded data removed]",
      "text/plain": [
       "<Figure size 576x432 with 1 Axes>"
      ]
     },
     "metadata": {
      "needs_background": "light"
     },
     "output_type": "display_data"
    }
   ],
   "source": [
    "import matplotlib.pyplot as plt\n",
    "\n",
    "x_full = np.arange(0, 5.1, 0.01)\n",
    "y_full = [func(x_f) for x_f in x_full]\n",
    "lagr_arr = [lagrange(X_a_arr, y_a_arr, x_f) for x_f in x_full]\n",
    "\n",
    "fig, ax = plt.subplots(figsize=(8,6))\n",
    "ax.plot(x_full, y_full, color = 'red')\n",
    "ax.plot(x_full, lagr_arr, color = 'blue')"
   ]
  },
  {
   "cell_type": "markdown",
   "metadata": {},
   "source": [
    "Интерполяция для пункта б):"
   ]
  },
  {
   "cell_type": "code",
   "execution_count": 12,
   "metadata": {},
   "outputs": [
    {
     "data": {
      "text/plain": [
       "[<matplotlib.lines.Line2D at 0x2e3d1316e48>]"
      ]
     },
     "execution_count": 12,
     "metadata": {},
     "output_type": "execute_result"
    },
    {
     "data": {
      "image/png": "[encoded data removed]",
      "text/plain": [
       "<Figure size 576x432 with 1 Axes>"
      ]
     },
     "metadata": {
      "needs_background": "light"
     },
     "output_type": "display_data"
    }
   ],
   "source": [
    "lagr_arr = [lagrange(X_b_arr, y_b_arr, x_f) for x_f in x_full]\n",
    "\n",
    "fig, ax = plt.subplots(figsize=(8,6))\n",
    "ax.plot(x_full, y_full, color = 'red')\n",
    "ax.plot(x_full, lagr_arr, color = 'blue')"
   ]
  },
  {
   "cell_type": "markdown",
   "metadata": {},
   "source": [
    "Оба графика похожи и для обоих среднее отличие интерполяционного многочлена от изначальной функции невелико."
   ]
  },
  {
   "cell_type": "markdown",
   "metadata": {},
   "source": [
    "Вычислим значение интерполяционного многочлена, точное значение функции и абсолютную погрешность интерполяции в точке $X_{*} = 3.0$\n",
    "\n",
    "Случай а):"
   ]
  },
  {
   "cell_type": "code",
   "execution_count": 17,
   "metadata": {},
   "outputs": [
    {
     "name": "stdout",
     "output_type": "stream",
     "text": [
      "Точное значение функции в точке 3.0: y = 4.732050807568877\n",
      "Значение интерполяционного многочлена в точке 3.0: y = 4.75177757938548\n",
      "Абсолютная погрешность интерполяции:  0.019726771816602984\n"
     ]
    }
   ],
   "source": [
    "x_star = 3.0\n",
    "\n",
    "true_y_star = func(x_star)\n",
    "lagr_y_star = lagrange(X_a_arr, y_a_arr, x_star)\n",
    "\n",
    "print(\"Точное значение функции в точке \" + str(x_star) + \": y = \" + str(true_y_star))\n",
    "print(\"Значение интерполяционного многочлена в точке \" + str(x_star) + \": y = \" + str(lagr_y_star))\n",
    "print(\"Абсолютная погрешность интерполяции: \", abs(true_y_star - lagr_y_star))"
   ]
  },
  {
   "cell_type": "markdown",
   "metadata": {},
   "source": [
    "Случай б):"
   ]
  },
  {
   "cell_type": "code",
   "execution_count": 18,
   "metadata": {},
   "outputs": [
    {
     "name": "stdout",
     "output_type": "stream",
     "text": [
      "Точное значение функции в точке 3.0: y = 4.732050807568877\n",
      "Значение интерполяционного многочлена в точке 3.0: y = 4.774713393520687\n",
      "Абсолютная погрешность интерполяции:  0.042662585951810605\n"
     ]
    }
   ],
   "source": [
    "x_star = 3.0\n",
    "\n",
    "true_y_star = func(x_star)\n",
    "lagr_y_star = lagrange(X_b_arr, y_b_arr, x_star)\n",
    "\n",
    "print(\"Точное значение функции в точке \" + str(x_star) + \": y = \" + str(true_y_star))\n",
    "print(\"Значение интерполяционного многочлена в точке \" + str(x_star) + \": y = \" + str(lagr_y_star))\n",
    "print(\"Абсолютная погрешность интерполяции: \", abs(true_y_star - lagr_y_star))"
   ]
  },
  {
   "cell_type": "markdown",
   "metadata": {},
   "source": [
    "### Многочлен Ньютона"
   ]
  },
  {
   "cell_type": "code",
   "execution_count": 101,
   "metadata": {},
   "outputs": [],
   "source": [
    "def div_diff(x_arr, y_arr):\n",
    "    \n",
    "    n = len(x_arr)\n",
    "    if n != len(y_arr):\n",
    "        print(\"Ошибка в несоответствии размеров массивов\")\n",
    "        return\n",
    "    \n",
    "    if n == 1:\n",
    "        diff = y_arr[0]\n",
    "    else:\n",
    "        diff = (div_diff(x_arr[0:n-1], y_arr[0:n-1]) - div_diff(x_arr[1:n], y_arr[1:n]))/(x_arr[0] - x_arr[n-1])\n",
    "    return diff\n",
    "\n",
    "def Newton(x_arr, y_arr, x_val):\n",
    "    \n",
    "    n = len(x_arr)\n",
    "    summ = y_arr[0]\n",
    "    for i in range(n):\n",
    "        prod = 1\n",
    "        for j in range(i):\n",
    "            prod *= (x_val-x_arr[j])\n",
    "            #print(prod)\n",
    "        #print(i)\n",
    "        summ += (div_diff(x_arr[0:i+1], y_arr[0:i+1])) * prod\n",
    "        #print(summ)\n",
    "    return summ"
   ]
  },
  {
   "cell_type": "markdown",
   "metadata": {},
   "source": [
    "Построим графики изначальной функции (красным цветом) и интерполяционного многочлена (синим цветом) на области определения (0, 5.1)\n",
    "\n",
    "Интерполяция для пункта а):"
   ]
  },
  {
   "cell_type": "code",
   "execution_count": 102,
   "metadata": {},
   "outputs": [
    {
     "data": {
      "text/plain": [
       "[<matplotlib.lines.Line2D at 0x2e3d14b6fc8>]"
      ]
     },
     "execution_count": 102,
     "metadata": {},
     "output_type": "execute_result"
    },
    {
     "data": {
      "image/png": "[encoded data removed]",
      "text/plain": [
       "<Figure size 576x432 with 1 Axes>"
      ]
     },
     "metadata": {
      "needs_background": "light"
     },
     "output_type": "display_data"
    }
   ],
   "source": [
    "newton_arr = [Newton(X_a_arr, y_a_arr, x_f) for x_f in x_full]\n",
    "\n",
    "fig, ax = plt.subplots(figsize=(8,6))\n",
    "ax.plot(x_full, y_full, color = 'red')\n",
    "ax.plot(x_full, newton_arr, color = 'blue')"
   ]
  },
  {
   "cell_type": "markdown",
   "metadata": {},
   "source": [
    "Для пункта б):"
   ]
  },
  {
   "cell_type": "code",
   "execution_count": 103,
   "metadata": {},
   "outputs": [
    {
     "data": {
      "text/plain": [
       "[<matplotlib.lines.Line2D at 0x2e3d1538d08>]"
      ]
     },
     "execution_count": 103,
     "metadata": {},
     "output_type": "execute_result"
    },
    {
     "data": {
      "image/png": "[encoded data removed]",
      "text/plain": [
       "<Figure size 576x432 with 1 Axes>"
      ]
     },
     "metadata": {
      "needs_background": "light"
     },
     "output_type": "display_data"
    }
   ],
   "source": [
    "newton_arr2 = [Newton(X_b_arr, y_b_arr, x_f) for x_f in x_full]\n",
    "\n",
    "fig, ax = plt.subplots(figsize=(8,6))\n",
    "ax.plot(x_full, y_full, color = 'red')\n",
    "ax.plot(x_full, newton_arr2, color = 'blue')"
   ]
  },
  {
   "cell_type": "markdown",
   "metadata": {},
   "source": [
    "Вычислим значение интерполяционного многочлена, точное значение функции и абсолютную погрешность интерполяции в точке $X_{*} = 3.0$\n",
    "\n",
    "Случай а):"
   ]
  },
  {
   "cell_type": "code",
   "execution_count": 105,
   "metadata": {},
   "outputs": [
    {
     "name": "stdout",
     "output_type": "stream",
     "text": [
      "Точное значение функции в точке 3.0: y = 4.732050807568877\n",
      "Значение интерполяционного многочлена в точке 3.0: y = 4.75177757938548\n",
      "Абсолютная погрешность интерполяции:  0.019726771816602984\n"
     ]
    }
   ],
   "source": [
    "x_star = 3.0\n",
    "\n",
    "true_y_star = func(x_star)\n",
    "newt_y_star = Newton(X_a_arr, y_a_arr, x_star)\n",
    "\n",
    "print(\"Точное значение функции в точке \" + str(x_star) + \": y = \" + str(true_y_star))\n",
    "print(\"Значение интерполяционного многочлена в точке \" + str(x_star) + \": y = \" + str(newt_y_star))\n",
    "print(\"Абсолютная погрешность интерполяции: \", abs(true_y_star - newt_y_star))"
   ]
  },
  {
   "cell_type": "markdown",
   "metadata": {},
   "source": [
    "Случай б):"
   ]
  },
  {
   "cell_type": "code",
   "execution_count": 106,
   "metadata": {},
   "outputs": [
    {
     "name": "stdout",
     "output_type": "stream",
     "text": [
      "Точное значение функции в точке 3.0: y = 4.732050807568877\n",
      "Значение интерполяционного многочлена в точке 3.0: y = 4.774713393520688\n",
      "Абсолютная погрешность интерполяции:  0.042662585951811494\n"
     ]
    }
   ],
   "source": [
    "x_star = 3.0\n",
    "\n",
    "true_y_star = func(x_star)\n",
    "newt_y_star = Newton(X_b_arr, y_b_arr, x_star)\n",
    "\n",
    "print(\"Точное значение функции в точке \" + str(x_star) + \": y = \" + str(true_y_star))\n",
    "print(\"Значение интерполяционного многочлена в точке \" + str(x_star) + \": y = \" + str(newt_y_star))\n",
    "print(\"Абсолютная погрешность интерполяции: \", abs(true_y_star - newt_y_star))"
   ]
  },
  {
   "cell_type": "code",
   "execution_count": null,
   "metadata": {},
   "outputs": [],
   "source": []
  }
 ],
 "metadata": {
  "kernelspec": {
   "display_name": "Python 3",
   "language": "python",
   "name": "python3"
  },
  "language_info": {
   "codemirror_mode": {
    "name": "ipython",
    "version": 3
   },
   "file_extension": ".py",
   "mimetype": "text/x-python",
   "name": "python",
   "nbconvert_exporter": "python",
   "pygments_lexer": "ipython3",
   "version": "3.7.9"
  }
 },
 "nbformat": 4,
 "nbformat_minor": 4
}
