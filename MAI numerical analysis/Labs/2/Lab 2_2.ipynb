{
 "cells": [
  {
   "cell_type": "markdown",
   "metadata": {},
   "source": [
    "Вариант 18\n",
    "\n",
    "$\\begin{equation}\n",
    "    \\begin{cases}\n",
    "      4x_{1} - \\cos(x_{2}) = 0\\\\\n",
    "      4x_{2} - e^{x_{1}} = 0\n",
    "    \\end{cases}\\,.\n",
    "\\end{equation}$"
   ]
  },
  {
   "cell_type": "code",
   "execution_count": 108,
   "metadata": {},
   "outputs": [],
   "source": [
    "import numpy as np\n",
    "import matplotlib.pyplot as plt\n",
    "\n",
    "eq1 = lambda x1, x2: 4*x1 - np.cos(x2)\n",
    "eq2 = lambda x1, x2: 4*x2 - np.exp(x1)"
   ]
  },
  {
   "cell_type": "markdown",
   "metadata": {},
   "source": [
    "Построим на плоскости в интересующей нас области кривые $f_{1}(x_{1}, x_{2}) = 0$ и $f_{2}(x_{1}, x_{2}) = 0$, получим:"
   ]
  },
  {
   "cell_type": "code",
   "execution_count": 2,
   "metadata": {},
   "outputs": [
    {
     "ename": "NameError",
     "evalue": "name 'np' is not defined",
     "output_type": "error",
     "traceback": [
      "\u001b[1;31m---------------------------------------------------------------------------\u001b[0m",
      "\u001b[1;31mNameError\u001b[0m                                 Traceback (most recent call last)",
      "\u001b[1;32m<ipython-input-2-afe4bc24d9fc>\u001b[0m in \u001b[0;36m<module>\u001b[1;34m\u001b[0m\n\u001b[0;32m      4\u001b[0m \u001b[0meq1_arr_zero\u001b[0m \u001b[1;33m=\u001b[0m \u001b[1;33m[\u001b[0m\u001b[1;33m]\u001b[0m\u001b[1;33m\u001b[0m\u001b[1;33m\u001b[0m\u001b[0m\n\u001b[0;32m      5\u001b[0m \u001b[0meq2_arr_zero\u001b[0m \u001b[1;33m=\u001b[0m \u001b[1;33m[\u001b[0m\u001b[1;33m]\u001b[0m\u001b[1;33m\u001b[0m\u001b[1;33m\u001b[0m\u001b[0m\n\u001b[1;32m----> 6\u001b[1;33m \u001b[0mx_vals\u001b[0m \u001b[1;33m=\u001b[0m \u001b[0mnp\u001b[0m\u001b[1;33m.\u001b[0m\u001b[0marange\u001b[0m\u001b[1;33m(\u001b[0m\u001b[1;33m-\u001b[0m\u001b[1;36m20\u001b[0m\u001b[1;33m,\u001b[0m \u001b[1;36m20\u001b[0m\u001b[1;33m,\u001b[0m \u001b[1;36m0.01\u001b[0m\u001b[1;33m)\u001b[0m\u001b[1;33m\u001b[0m\u001b[1;33m\u001b[0m\u001b[0m\n\u001b[0m\u001b[0;32m      7\u001b[0m \u001b[0mx1_vals_zero\u001b[0m \u001b[1;33m=\u001b[0m \u001b[1;33m[\u001b[0m\u001b[0meq1_zero\u001b[0m\u001b[1;33m(\u001b[0m\u001b[0mx_val\u001b[0m\u001b[1;33m)\u001b[0m \u001b[1;32mfor\u001b[0m \u001b[0mx_val\u001b[0m \u001b[1;32min\u001b[0m \u001b[0mx_vals\u001b[0m\u001b[1;33m]\u001b[0m\u001b[1;33m\u001b[0m\u001b[1;33m\u001b[0m\u001b[0m\n\u001b[0;32m      8\u001b[0m \u001b[0mx2_vals_zero\u001b[0m \u001b[1;33m=\u001b[0m \u001b[1;33m[\u001b[0m\u001b[0meq2_zero\u001b[0m\u001b[1;33m(\u001b[0m\u001b[0mx_val\u001b[0m\u001b[1;33m)\u001b[0m \u001b[1;32mfor\u001b[0m \u001b[0mx_val\u001b[0m \u001b[1;32min\u001b[0m \u001b[0mx_vals\u001b[0m\u001b[1;33m]\u001b[0m\u001b[1;33m\u001b[0m\u001b[1;33m\u001b[0m\u001b[0m\n",
      "\u001b[1;31mNameError\u001b[0m: name 'np' is not defined"
     ]
    }
   ],
   "source": [
    "eq1_zero = lambda x2: np.cos(x2)/4\n",
    "eq2_zero = lambda x1: np.exp(x1)/4\n",
    "\n",
    "eq1_arr_zero = []\n",
    "eq2_arr_zero = []\n",
    "x_vals = np.arange(-20, 20, 0.01)\n",
    "x1_vals_zero = [eq1_zero(x_val) for x_val in x_vals]\n",
    "x2_vals_zero = [eq2_zero(x_val) for x_val in x_vals]\n",
    "\n",
    "fig, ax = plt.subplots(figsize=(8,6))\n",
    "ax.plot(x1_vals_zero, x_vals, color = 'red')\n",
    "ax.plot(x_vals, x2_vals_zero, color = 'blue')\n",
    "plt.ylim(-3, 3)  \n",
    "plt.xlim(-0.3, 0.3)\n",
    "plt.axhline(0, color='black')\n",
    "plt.axvline(0, color='black')"
   ]
  },
  {
   "cell_type": "markdown",
   "metadata": {},
   "source": [
    "Из графика понятно, что решение системы уравнений лежит где-то в прямоугольнике $0.2 < x_{1} < 0.3$,   $0.1 < x_{2}< 0.4$\n",
    "\n",
    "Возьмём для начального приближения точку $x = (0.25, 0.25)$"
   ]
  },
  {
   "cell_type": "markdown",
   "metadata": {},
   "source": [
    "## Метод Ньютона"
   ]
  },
  {
   "cell_type": "markdown",
   "metadata": {},
   "source": [
    "Используем функции из предыдущих лабораторных для решения СЛАУ."
   ]
  },
  {
   "cell_type": "code",
   "execution_count": 110,
   "metadata": {},
   "outputs": [],
   "source": [
    "def lu_pivot(a):\n",
    "    N = a.shape[0]\n",
    "    u = a.copy()\n",
    "    L = np.eye(N)\n",
    "    swap_array = [] # в этот массив записываются перестановки строк матрицы\n",
    "    maxi = 0 \n",
    "    for j in range(N-1): \n",
    "        piv = u[0, :] #строка с максимальным по модулю элементом (pivot)\n",
    "        for i in range(N): \n",
    "            if abs(u[i, j]) > abs(piv[j]):\n",
    "                piv = u[i, :]\n",
    "                maxi = i \n",
    "        if maxi > j:\n",
    "            u[[j, maxi], :] = u[[maxi, j], :] #поднимаем строку с максимальным элементом наверх\n",
    "            swap_array.append([j, maxi]) \n",
    "        lam = np.eye(N)\n",
    "        gamma = u[j+1:, j] / u[j, j] \n",
    "        lam[j+1:, j] = -gamma \n",
    "        u = lam @ u #домножая на матрицу Лямбда зануляем соответствующий столбец \n",
    "        lam[j+1:, j] = gamma #это уже будет матрица обратная к Лямбда, из произведения этих матриц мы строим L\n",
    "        L = L @ lam \n",
    "    return L, u, swap_array\n",
    "\n",
    "def solve_slau(A, b):\n",
    "    N = A.shape[0]\n",
    "    L, u, swap = lu_pivot(A)\n",
    "    x = np.zeros(N)\n",
    "    z = np.zeros(N)\n",
    "    z[0] = b[0] # решаем систему Lz  = b, где z = Ux (прямой ход метода Гаусса)\n",
    "    for i in range(1, N): \n",
    "        z[i] = b[i]\n",
    "        for j in range(0, i):\n",
    "            z[i] -= L[i, j] * z[j]\n",
    "            \n",
    "    x[N-1] = z[N-1] / u[N-1, N-1] #решаем систему Ux = z (обратный ход)\n",
    "    for i in range(N-2, -1, -1): #идём с конца\n",
    "        x[i] = z[i] / u[i, i]\n",
    "        for j in range(i+1, N):\n",
    "            x[i] -= (u[i, j] * x[j]) / u[i, i]\n",
    "    return x, swap\n",
    "\n",
    "def norm_2_vec(x): # счиатет 2-норму для вектора\n",
    "    sum_sq = 0\n",
    "    for y in x:\n",
    "        sum_sq += y ** 2\n",
    "    return np.sqrt(sum_sq)"
   ]
  },
  {
   "cell_type": "code",
   "execution_count": 111,
   "metadata": {},
   "outputs": [],
   "source": [
    "def newton_sys(eq1, eq2, x0, eps):\n",
    "    x_next = x0\n",
    "    it = 0\n",
    "    while True:\n",
    "        x = x_next\n",
    "        xk_1 = x[0]\n",
    "        xk_2 = x[1]\n",
    "        J_xk = np.array([[4, np.sin(xk_2)], [-np.exp(xk_1), 4]])\n",
    "        f_xk = np.array([eq1(xk_1, xk_2), eq2(xk_1, xk_2)])\n",
    "        d_xk, swap = solve_slau(J, -f_xk)\n",
    "        x_next = x + d_xk\n",
    "        it+=1\n",
    "        if norm_2_vec(x_next - x) <= eps:\n",
    "            break\n",
    "    return x_next, it"
   ]
  },
  {
   "cell_type": "markdown",
   "metadata": {},
   "source": [
    "Протестируем функцию:"
   ]
  },
  {
   "cell_type": "code",
   "execution_count": 112,
   "metadata": {},
   "outputs": [
    {
     "name": "stdout",
     "output_type": "stream",
     "text": [
      "Корень [0.23754123 0.31703182] был найден методом Ньютона за 13 итераций\n"
     ]
    }
   ],
   "source": [
    "eps = 1e-10\n",
    "x0 = [0.25, 0.25]\n",
    "\n",
    "\n",
    "root, it = newton_sys(eq1, eq2, x0, eps)\n",
    "print(\"Корень \" + str(root) + \" был найден методом Ньютона за \" + str(it) + \" итераций\")"
   ]
  },
  {
   "cell_type": "markdown",
   "metadata": {},
   "source": [
    "Подставим значения в исходную систему для проверки:"
   ]
  },
  {
   "cell_type": "code",
   "execution_count": 114,
   "metadata": {},
   "outputs": [],
   "source": [
    "np.testing.assert_almost_equal(eq1(root[0], root[1]), 0)\n",
    "np.testing.assert_almost_equal(eq2(root[0], root[1]), 0)"
   ]
  },
  {
   "cell_type": "markdown",
   "metadata": {},
   "source": [
    "## Метод простых итераций"
   ]
  },
  {
   "cell_type": "markdown",
   "metadata": {},
   "source": [
    "Возьмём в качестве функций $\\phi_{1}$ и $\\phi_{2} $ следующие функции: \n",
    "\n",
    "$$ \\phi_{1} = \\frac{\\cos(x_{2})}{4} \\quad \\quad \\phi_{2} = \\frac{e^{x_{1}}}{4} $$"
   ]
  },
  {
   "cell_type": "markdown",
   "metadata": {},
   "source": [
    "Проверим выполнение достаточного условия сходимости метода простых итераций в области G - прямоугольнике $0.2 < x_{1} < 0.3$,   $0.1 < x_{2}< 0.4$\n",
    "\n",
    "$$\\frac{\\partial \\phi_{1}(x_{1},x_{2})}{x_{1}} = 0 \\quad\\quad \\frac{\\partial \\phi_{1}(x_{1},x_{2})}{x_{2}} = -\\frac{\\sin(x_{2})}{4} $$\n",
    "\n",
    "$$\\frac{\\partial \\phi_{2}(x_{1},x_{2})}{x_{1}} = \\frac{e^{x_{1}}}{4} \\quad\\quad \\frac{\\partial \\phi_{2}(x_{1},x_{2})}{x_{2}} = 0$$\n",
    "\n",
    "В области G имеем:\n",
    "\n",
    "$$\\left\\| \\frac{\\partial \\phi_{1}(x_{1},x_{2})}{x_{1}} \\right\\| + \\left\\| \\frac{\\partial \\phi_{1}(x_{1},x_{2})}{x_{2}}  \\right\\| = \\left\\| -\\frac{\\sin(x_{2})}{4} \\right\\| \\leqslant 0.25 $$\n",
    "\n",
    "$$\\left\\| \\frac{\\partial \\phi_{2}(x_{1},x_{2})}{x_{1}} \\right\\| + \\left\\| \\frac{\\partial \\phi_{2}(x_{1},x_{2})}{x_{2}}  \\right\\| = \\left\\| \\frac{e^{x_{1}}}{4} \\right\\| \\leqslant 0.372956 \\approx 0.373 $$ \n",
    "\n",
    "Следовательно, если последовательные приближения точки x не покинут точки области G, метод сойдётся, и условие завершения вычислений можно записать в следующем виде:\n",
    "\n",
    "$$ \\frac{q}{1-q} \\left| x^{(k+1)} - x^{(k)} \\right| = \\frac{0.373}{1-0.373} \\left| x^{(k+1)} - x^{(k)} \\right| \\approx 0.595 \\left| x^{(k+1)} - x^{(k)} \\right| \\leqslant \\varepsilon $$"
   ]
  },
  {
   "cell_type": "code",
   "execution_count": 115,
   "metadata": {},
   "outputs": [],
   "source": [
    "phi1 = lambda x2: np.cos(x2)/4\n",
    "phi2 = lambda x1: np.exp(x1)/4"
   ]
  },
  {
   "cell_type": "code",
   "execution_count": 116,
   "metadata": {},
   "outputs": [],
   "source": [
    "def simple_iter_sys(phi1, phi2, x0, eps):\n",
    "    x_next = x0\n",
    "    it = 0\n",
    "    while True:\n",
    "        x = x_next\n",
    "        x_next = np.array([phi1(x[1]), phi2(x[0])])\n",
    "        it+=1\n",
    "        if 0.595*norm_2_vec(x_next - x) <= eps:\n",
    "            break\n",
    "    return x_next, it"
   ]
  },
  {
   "cell_type": "code",
   "execution_count": 117,
   "metadata": {},
   "outputs": [
    {
     "name": "stdout",
     "output_type": "stream",
     "text": [
      "Корень [0.23754123 0.31703182] был найден методом простых итераций за 13 итераций\n"
     ]
    }
   ],
   "source": [
    "eps = 1e-10\n",
    "x0 = [0.5, 0.5]\n",
    "\n",
    "root, it = simple_iter_sys(phi1, phi2, x0, eps)\n",
    "print(\"Корень \" + str(root) + \" был найден методом простых итераций за \" + str(it) + \" итераций\")"
   ]
  },
  {
   "cell_type": "markdown",
   "metadata": {},
   "source": [
    "Проверка"
   ]
  },
  {
   "cell_type": "code",
   "execution_count": 118,
   "metadata": {},
   "outputs": [],
   "source": [
    "np.testing.assert_almost_equal(eq1(root[0], root[1]), 0)\n",
    "np.testing.assert_almost_equal(eq2(root[0], root[1]), 0)"
   ]
  },
  {
   "cell_type": "code",
   "execution_count": null,
   "metadata": {},
   "outputs": [],
   "source": []
  }
 ],
 "metadata": {
  "kernelspec": {
   "display_name": "Python 3",
   "language": "python",
   "name": "python3"
  },
  "language_info": {
   "codemirror_mode": {
    "name": "ipython",
    "version": 3
   },
   "file_extension": ".py",
   "mimetype": "text/x-python",
   "name": "python",
   "nbconvert_exporter": "python",
   "pygments_lexer": "ipython3",
   "version": "3.7.9"
  }
 },
 "nbformat": 4,
 "nbformat_minor": 4
}
