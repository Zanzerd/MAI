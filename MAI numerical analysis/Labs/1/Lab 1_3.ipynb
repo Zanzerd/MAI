{
 "cells": [
  {
   "cell_type": "markdown",
   "metadata": {},
   "source": [
    "## Метод простых итераций\n"
   ]
  },
  {
   "cell_type": "markdown",
   "metadata": {},
   "source": [
    "Вариант 17"
   ]
  },
  {
   "cell_type": "code",
   "execution_count": 1,
   "metadata": {},
   "outputs": [],
   "source": [
    "import numpy as np"
   ]
  },
  {
   "cell_type": "code",
   "execution_count": 2,
   "metadata": {},
   "outputs": [
    {
     "name": "stdout",
     "output_type": "stream",
     "text": [
      "Матрица системы: \n",
      "[[-19   2  -1  -8]\n",
      " [  2  14   0  -4]\n",
      " [  6  -5 -20  -6]\n",
      " [ -6   4  -2  15]]\n",
      "Правая часть: \n",
      "[38 20 52 43]\n"
     ]
    }
   ],
   "source": [
    "N = 4\n",
    "A = np.array([-19, 2, -1, -8, 2, 14, 0, -4, 6, -5, -20, -6, -6, 4, -2, 15])\n",
    "A = np.reshape(A, (N, N))\n",
    "b = np.array([38, 20, 52, 43])\n",
    "print(\"Матрица системы: \\n\" + str(A) + \"\\nПравая часть: \\n\" + str(b))"
   ]
  },
  {
   "cell_type": "markdown",
   "metadata": {},
   "source": [
    "Проверим условие диагонального преобладания матрицы по строкам"
   ]
  },
  {
   "cell_type": "code",
   "execution_count": 285,
   "metadata": {},
   "outputs": [
    {
     "name": "stdout",
     "output_type": "stream",
     "text": [
      "Матрица системы - диагонально преобладающая по строкам\n"
     ]
    }
   ],
   "source": [
    "check = np.zeros(N)\n",
    "count_z = 0\n",
    "\n",
    "for i in range(N):\n",
    "    row_sum = 0\n",
    "    for j in range(N):\n",
    "        if i != j:\n",
    "            row_sum += abs(A[i, j])\n",
    "    if abs(A[i, i]) > row_sum:\n",
    "        check[i] = 1\n",
    "        \n",
    "count_z       \n",
    "for c in check:\n",
    "    if c == 0:\n",
    "        count_z += 1\n",
    "if count_z > 0:\n",
    "    print(\"Матрица системы не является диагонально преобладающей по строкам\")\n",
    "else: \n",
    "    print(\"Матрица системы - диагонально преобладающая по строкам\")\n"
   ]
  },
  {
   "cell_type": "markdown",
   "metadata": {},
   "source": [
    "Это означает, что можно использовать метод Якоби.\n",
    "\n",
    "Преобразования метода Якоби можно представить в матричном виде следующим образом:\n",
    "\n",
    "1) Исходная система: \n",
    "$$A x = b$$\n",
    "\n",
    "2) Выделим матрицу D, состоящую из элементов главной диагонали матрицы A (все остальные элементы - нули):\n",
    "$$ A = D + (A - D) $$\n",
    "\n",
    "3) Представим x в виде:\n",
    "$$x = D^{-1} (D - A) x + D^{-1} b\\;.$$\n",
    "\n",
    "4) Тогда метод простых итераций примет вид:\n",
    "$$x_{n + 1} = B x_{n} + c\\;,$$\n",
    "\n",
    "где\n",
    "\n",
    "$$B = D^{-1} (D - A) \\qquad \\text{и} \\qquad c = D^{-1} b $$"
   ]
  },
  {
   "cell_type": "code",
   "execution_count": 286,
   "metadata": {},
   "outputs": [],
   "source": [
    "def norm_2(A): # считает 2-норму для матрицы\n",
    "    sum_sq = 0\n",
    "    for x in A:\n",
    "        for y in x:\n",
    "            sum_sq += y ** 2\n",
    "    return np.sqrt(sum_sq)\n",
    "\n",
    "def norm_2_vec(x): # счиатет 2-норму для вектора\n",
    "    sum_sq = 0\n",
    "    for y in x:\n",
    "        sum_sq += y ** 2\n",
    "    return np.sqrt(sum_sq)\n",
    "\n",
    "def Jacobi_iter(A, b, max_iter, eps): \n",
    "    diag_1 = np.diag(A) # выделяем диагональные элементы\n",
    "    B = -A.copy()\n",
    "    np.fill_diagonal(B, 0) # D - A\n",
    "    D = np.diag(diag_1) \n",
    "    invD = np.diag(1./diag_1) \n",
    "    BB = invD @ B # матрица B\n",
    "    c = invD @ b # коэффициенты c\n",
    "    norm_BB = norm_2(BB) #нужно для условия останова\n",
    "    coef = norm_BB / (1-norm_BB)\n",
    "    \n",
    "    x = c # берём x(0) = c\n",
    "    for i in range(max_iter): \n",
    "        x_prev = x\n",
    "        x = BB @ x + c\n",
    "        if coef * norm_2_vec(x - x_prev) < eps:\n",
    "            break\n",
    "    \n",
    "    return x, i #возвратим также количество итераций "
   ]
  },
  {
   "cell_type": "code",
   "execution_count": 287,
   "metadata": {},
   "outputs": [
    {
     "name": "stdout",
     "output_type": "stream",
     "text": [
      "Решение системы x = [-2.  2. -4.  1.] достигнуто за 38 итераций с точностью 1e-08\n"
     ]
    }
   ],
   "source": [
    "eps = 1e-8\n",
    "x, i = Jacobi_iter(A, b, 1000, eps)\n",
    "print(\"Решение системы x = \" + str(x) + \" достигнуто за \" +str(i) + \" итераций с точностью \" + str(eps))\n",
    "\n",
    "#Самопроверка\n",
    "np.testing.assert_almost_equal(A @ x - b, 0)"
   ]
  },
  {
   "cell_type": "markdown",
   "metadata": {},
   "source": [
    "Построим априорную оценку числа итераций для обоих методов и сравним с числом итераций, которое получилось у нас."
   ]
  },
  {
   "cell_type": "code",
   "execution_count": 290,
   "metadata": {},
   "outputs": [
    {
     "data": {
      "text/plain": [
       "182.27952601426156"
      ]
     },
     "execution_count": 290,
     "metadata": {},
     "output_type": "execute_result"
    }
   ],
   "source": [
    "\n",
    "B = -A.copy()\n",
    "np.fill_diagonal(B, 0) # D - A\n",
    "D = np.diag(diag_1) \n",
    "invD = np.diag(1./diag_1) \n",
    "BB = invD @ B # матрица B\n",
    "c = invD @ b # коэффициенты c\n",
    "\n",
    "expr = (np.log(eps) - np.log(norm_2_vec(c)) + np.log(1-norm_2(BB)))/np.log(norm_2(BB))\n",
    "expr"
   ]
  },
  {
   "cell_type": "markdown",
   "metadata": {},
   "source": [
    "Получилось очень сильно завышенное число итераций."
   ]
  },
  {
   "cell_type": "markdown",
   "metadata": {},
   "source": [
    "## Метод Зейделя\n"
   ]
  },
  {
   "cell_type": "markdown",
   "metadata": {},
   "source": [
    "Запишем формулу для итерации методом Зейделя в форме: \n",
    "\n",
    "$$ Dx_{n+1} + Lx_{n+1} + Ux_{n} $$\n",
    "\n",
    "где L - нижняя треугольная матрица с нулями на главной диагонали, полученная из матрицы системы, U - верхняя треугольная с нулями на главной диагонали, D - матрица с главной диагональю исходной матрицы и нулями в остальных местах.\n",
    "\n",
    "Эту формулу можно переписать в следующем виде:\n",
    "\n",
    "$$ x_{n+1} = -(D + L)^{-1}Ux_{n} + (D + L)^{-1}b $$\n",
    "\n",
    "и использовать в качестве формулы для метода простых итераций"
   ]
  },
  {
   "cell_type": "code",
   "execution_count": 269,
   "metadata": {},
   "outputs": [],
   "source": [
    "def Seidel_iter(A, b, max_iter, eps):\n",
    "    \n",
    "    B = A.copy()\n",
    "    diag_1 = np.diag(B)\n",
    "    D = np.diag(diag_1) #Матрица с главной диагональю исходной матрицы и нулями в остальных местах\n",
    "    L = np.tril(B, -1) #Нижняя треугольная с нулями на главной диагонали\n",
    "    U = np.triu(B, 1) #Верхняя треугольная с нулями на главной диагонали\n",
    "    \n",
    "    DpL_inv = np.linalg.inv(D + L)\n",
    "    BB = DpL_inv @ U\n",
    "    c = DpL_inv @ b\n",
    "    x = b\n",
    "    \n",
    "    U_norm = norm_2(U)\n",
    "    BB_norm = norm_2(BB)\n",
    "    coef = U_norm / (1-BB_norm)\n",
    "    \n",
    "    for i in range(max_iter):\n",
    "        x_prev = x\n",
    "        x = -BB @ x + c\n",
    "        if coef * norm_2_vec(x - x_prev) < eps:\n",
    "            break\n",
    "    return x, BB, i #return BB only to check conditions of convergence later on "
   ]
  },
  {
   "cell_type": "code",
   "execution_count": 273,
   "metadata": {},
   "outputs": [
    {
     "name": "stdout",
     "output_type": "stream",
     "text": [
      "Решение системы x = [-2.  2. -4.  1.] достигнуто за 31 итераций с точностью 1e-08\n"
     ]
    }
   ],
   "source": [
    "eps = 1e-8\n",
    "x2, BB, i = Seidel_iter(A, b, 1000, eps)\n",
    "\n",
    "print(\"Решение системы x = \" + str(x) + \" достигнуто за \" +str(i) + \" итераций с точностью \" + str(eps))"
   ]
  },
  {
   "cell_type": "markdown",
   "metadata": {},
   "source": [
    "Для решения системы методом Зейделя потребовалось на 7 итераций меньше"
   ]
  },
  {
   "cell_type": "code",
   "execution_count": 291,
   "metadata": {},
   "outputs": [
    {
     "data": {
      "text/plain": [
       "115.7090285954391"
      ]
     },
     "execution_count": 291,
     "metadata": {},
     "output_type": "execute_result"
    }
   ],
   "source": [
    "B = A.copy()\n",
    "diag_1 = np.diag(B)\n",
    "D = np.diag(diag_1) #Матрица с главной диагональю исходной матрицы и нулями в остальных местах\n",
    "L = np.tril(B, -1) #Нижняя треугольная с нулями на главной диагонали\n",
    "U = np.triu(B, 1) #Верхняя треугольная с нулями на главной диагонали\n",
    "    \n",
    "DpL_inv = np.linalg.inv(D + L)\n",
    "BB = DpL_inv @ U\n",
    "c = DpL_inv @ b\n",
    "x = b\n",
    "\n",
    "expr = (np.log(eps) - np.log(norm_2_vec(c)) + np.log(1-norm_2(BB)))/np.log(norm_2(BB))\n",
    "expr"
   ]
  },
  {
   "cell_type": "markdown",
   "metadata": {},
   "source": [
    "Снова получилось очень сильно завышенное число итераций."
   ]
  }
 ],
 "metadata": {
  "kernelspec": {
   "display_name": "Python 3",
   "language": "python",
   "name": "python3"
  },
  "language_info": {
   "codemirror_mode": {
    "name": "ipython",
    "version": 3
   },
   "file_extension": ".py",
   "mimetype": "text/x-python",
   "name": "python",
   "nbconvert_exporter": "python",
   "pygments_lexer": "ipython3",
   "version": "3.7.9"
  }
 },
 "nbformat": 4,
 "nbformat_minor": 4
}
