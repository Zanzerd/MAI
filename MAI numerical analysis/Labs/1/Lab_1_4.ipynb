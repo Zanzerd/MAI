{
 "cells": [
  {
   "cell_type": "markdown",
   "metadata": {},
   "source": [
    "## Метод вращений"
   ]
  },
  {
   "cell_type": "markdown",
   "metadata": {},
   "source": [
    "Вариант 17"
   ]
  },
  {
   "cell_type": "code",
   "execution_count": 2,
   "metadata": {},
   "outputs": [
    {
     "data": {
      "text/plain": [
       "array([[ 5, -3, -4],\n",
       "       [-3, -3,  4],\n",
       "       [-4,  4,  0]])"
      ]
     },
     "execution_count": 2,
     "metadata": {},
     "output_type": "execute_result"
    }
   ],
   "source": [
    "import numpy as np\n",
    "\n",
    "N = 3\n",
    "A = np.array([5, -3, -4, -3, -3, 4, -4, 4, 0])\n",
    "A = np.reshape(A, (N,N))\n",
    "A"
   ]
  },
  {
   "cell_type": "code",
   "execution_count": 17,
   "metadata": {},
   "outputs": [],
   "source": [
    "def rotations_iter(A, eps, maxiter):\n",
    "    N = A.shape[0]\n",
    "    A1 = A.copy()\n",
    "    U_total = np.eye(N)\n",
    "    k = 0\n",
    "    \n",
    "    while(k < maxiter):\n",
    "        max_a = 0 #максимальный по модулю недиагональный элемент\n",
    "        ind_i = 0 #его строка\n",
    "        ind_j = 0#его столбец\n",
    "        phi = 0 #угол вращения\n",
    "        summ = 0\n",
    "        \n",
    "        #ищем максимальный по модулю недиагональный элемент \n",
    "        for j in range(N):\n",
    "            for i in range(j):\n",
    "                summ += A1[i, j] ** 2 #сюда же добавим вычисление корня суммы квадратов для условия остановки\n",
    "                if abs(A1[i, j]) > abs(max_a):\n",
    "                    max_a = A1[i, j]\n",
    "                    ind_i = i\n",
    "                    ind_j = j\n",
    "                    \n",
    "        #условие остановки алгоритма проверяется для матрицы, полученной на предыдущей итерации            \n",
    "        summ = np.sqrt(summ)\n",
    "        #print(summ)\n",
    "        if summ < eps:\n",
    "            break\n",
    "        \n",
    "        #считаем угол\n",
    "        denominator = A1[ind_i, ind_i] - A1[ind_j, ind_j]\n",
    "        if denominator == 0:\n",
    "            phi = np.pi / 4\n",
    "        else:\n",
    "            phi = 0.5 * np.arctan(2*A1[ind_i, ind_j] / denominator) \n",
    "        \n",
    "        #заполняем матрицу вращения\n",
    "        U_k = np.eye(N) \n",
    "        U_k[ind_i, ind_i] = np.cos(phi)\n",
    "        U_k[ind_j, ind_j] = np.cos(phi)\n",
    "        U_k[ind_i, ind_j] = -np.sin(phi)\n",
    "        U_k[ind_j, ind_i] = np.sin(phi)\n",
    "        U_total = U_total @ U_k\n",
    "        \n",
    "        A1 = U_k.T @ A1 @ U_k #считаем новую матрицу с обнулённым элементом\n",
    "        k+=1\n",
    "        #print(U_k)\n",
    "        #print(A1)\n",
    "        \n",
    "    lambdas = [A1[i, i] for i in range(N)] \n",
    "    evectors = [U_total[:, j] for j in range(N)]\n",
    "    \n",
    "    return lambdas, evectors\n",
    "        #print(max_a)      "
   ]
  },
  {
   "cell_type": "code",
   "execution_count": 1,
   "metadata": {},
   "outputs": [
    {
     "ename": "NameError",
     "evalue": "name 'rotations_iter' is not defined",
     "output_type": "error",
     "traceback": [
      "\u001b[1;31m---------------------------------------------------------------------------\u001b[0m",
      "\u001b[1;31mNameError\u001b[0m                                 Traceback (most recent call last)",
      "\u001b[1;32m<ipython-input-1-cc8ef3c2750f>\u001b[0m in \u001b[0;36m<module>\u001b[1;34m\u001b[0m\n\u001b[0;32m      1\u001b[0m \u001b[0meps\u001b[0m \u001b[1;33m=\u001b[0m \u001b[1;36m1e-8\u001b[0m\u001b[1;33m\u001b[0m\u001b[1;33m\u001b[0m\u001b[0m\n\u001b[1;32m----> 2\u001b[1;33m \u001b[0mlambdas_A\u001b[0m\u001b[1;33m,\u001b[0m \u001b[0mevectors_A\u001b[0m \u001b[1;33m=\u001b[0m \u001b[0mrotations_iter\u001b[0m\u001b[1;33m(\u001b[0m\u001b[0mA\u001b[0m\u001b[1;33m,\u001b[0m \u001b[0meps\u001b[0m\u001b[1;33m,\u001b[0m \u001b[1;36m1000\u001b[0m\u001b[1;33m)\u001b[0m\u001b[1;33m\u001b[0m\u001b[1;33m\u001b[0m\u001b[0m\n\u001b[0m\u001b[0;32m      3\u001b[0m \u001b[0mprint\u001b[0m\u001b[1;33m(\u001b[0m\u001b[1;34m\"Собственные значения матрицы A с точностью до \"\u001b[0m \u001b[1;33m+\u001b[0m\u001b[0mstr\u001b[0m\u001b[1;33m(\u001b[0m\u001b[0meps\u001b[0m\u001b[1;33m)\u001b[0m \u001b[1;33m+\u001b[0m \u001b[1;34m\": \\n\"\u001b[0m \u001b[1;33m+\u001b[0m \u001b[0mstr\u001b[0m\u001b[1;33m(\u001b[0m\u001b[0mlambdas_A\u001b[0m\u001b[1;33m)\u001b[0m\u001b[1;33m)\u001b[0m\u001b[1;33m\u001b[0m\u001b[1;33m\u001b[0m\u001b[0m\n\u001b[0;32m      4\u001b[0m \u001b[0mprint\u001b[0m\u001b[1;33m(\u001b[0m\u001b[1;34m\"Собственные векторы матрицы A:\"\u001b[0m\u001b[1;33m)\u001b[0m\u001b[1;33m\u001b[0m\u001b[1;33m\u001b[0m\u001b[0m\n\u001b[0;32m      5\u001b[0m \u001b[1;32mfor\u001b[0m \u001b[0mev\u001b[0m \u001b[1;32min\u001b[0m \u001b[0mevectors_A\u001b[0m\u001b[1;33m:\u001b[0m\u001b[1;33m\u001b[0m\u001b[1;33m\u001b[0m\u001b[0m\n",
      "\u001b[1;31mNameError\u001b[0m: name 'rotations_iter' is not defined"
     ]
    }
   ],
   "source": [
    "eps = 1e-8\n",
    "lambdas_A, evectors_A = rotations_iter(A, eps, 1000)\n",
    "print(\"Собственные значения матрицы A с точностью до \" +str(eps) + \": \\n\" + str(lambdas_A))\n",
    "print(\"Собственные векторы матрицы A:\")\n",
    "for ev in evectors_A:\n",
    "    print(ev)"
   ]
  },
  {
   "cell_type": "markdown",
   "metadata": {},
   "source": [
    "Проанализируем (графически) зависимость погрешности вычислений от числа итераций на примере собственных значений матрицы. В качестве истинного значения возьмём список lambdas_A."
   ]
  },
  {
   "cell_type": "code",
   "execution_count": 59,
   "metadata": {},
   "outputs": [
    {
     "data": {
      "text/plain": [
       "Text(0, 0.5, 'mean absolute error')"
      ]
     },
     "execution_count": 59,
     "metadata": {},
     "output_type": "execute_result"
    },
    {
     "data": {
      "image/png": "[encoded data removed]",
      "text/plain": [
       "<Figure size 576x432 with 1 Axes>"
      ]
     },
     "metadata": {
      "needs_background": "light"
     },
     "output_type": "display_data"
    }
   ],
   "source": [
    "import matplotlib.pyplot as plt\n",
    "\n",
    "lambdas = []\n",
    "evs = []\n",
    "maes = []\n",
    "\n",
    "for it in range(10):\n",
    "    ld, ev = rotations_iter(A, eps, it)\n",
    "    lambdas.append(ld)\n",
    "    evs.append(ev)ы\n",
    "\n",
    "n = len(lambdas_A)\n",
    "for lam in lambdas:\n",
    "    mae = 0\n",
    "    for x, y in zip(lam, lambdas_A):\n",
    "        mae += abs(y - x)\n",
    "    mae = mae/n \n",
    "    maes.append(mae)\n",
    "\n",
    "    \n",
    "fig, ax = plt.subplots(figsize=(8,6))\n",
    "ax.plot(range(1,11), maes)\n",
    "ax.set_xlabel('количество итераций метода вращений')\n",
    "ax.set_ylabel('mean absolute error')\n",
    "        "
   ]
  },
  {
   "cell_type": "code",
   "execution_count": null,
   "metadata": {},
   "outputs": [],
   "source": []
  }
 ],
 "metadata": {
  "kernelspec": {
   "display_name": "Python 3",
   "language": "python",
   "name": "python3"
  },
  "language_info": {
   "codemirror_mode": {
    "name": "ipython",
    "version": 3
   },
   "file_extension": ".py",
   "mimetype": "text/x-python",
   "name": "python",
   "nbconvert_exporter": "python",
   "pygments_lexer": "ipython3",
   "version": "3.7.9"
  }
 },
 "nbformat": 4,
 "nbformat_minor": 4
}
