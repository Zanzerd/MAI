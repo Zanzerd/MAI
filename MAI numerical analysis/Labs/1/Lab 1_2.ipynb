{
 "cells": [
  {
   "cell_type": "markdown",
   "metadata": {},
   "source": [
    "## Метод прогонки\n"
   ]
  },
  {
   "cell_type": "code",
   "execution_count": 1,
   "metadata": {},
   "outputs": [],
   "source": [
    "import numpy as np"
   ]
  },
  {
   "cell_type": "markdown",
   "metadata": {},
   "source": [
    "Вариант 17"
   ]
  },
  {
   "cell_type": "code",
   "execution_count": 2,
   "metadata": {},
   "outputs": [
    {
     "name": "stdout",
     "output_type": "stream",
     "text": [
      "Матрица системы: \n",
      " [[ -6.   5.   0.   0.   0.]\n",
      " [ -1.  13.   6.   0.   0.]\n",
      " [  0.  -9. -15.  -4.   0.]\n",
      " [  0.   0.  -1.  -7.   1.]\n",
      " [  0.   0.   0.   9. -18.]]\n",
      "правая часть: \n",
      " [ 51 100 -12  47  90]\n"
     ]
    }
   ],
   "source": [
    "N = 5\n",
    "A = np.zeros((N, N))\n",
    "A[0, 0] = -6\n",
    "A[0, 1] = 5\n",
    "A[1, 0] = -1\n",
    "A[1, 1] = 13\n",
    "A[1, 2] = 6\n",
    "A[2, 1] = -9\n",
    "A[2, 2] = -15\n",
    "A[2, 3] = -4\n",
    "A[3, 2] = -1\n",
    "A[3, 3] = -7\n",
    "A[3, 4] = 1\n",
    "A[4, 3] = 9\n",
    "A[4, 4] = -18\n",
    "\n",
    "d = np.array([51, 100, -12, 47, 90])\n",
    "\n",
    "print(\"Матрица системы: \\n\", A)\n",
    "print(\"правая часть: \\n\", d)"
   ]
  },
  {
   "cell_type": "code",
   "execution_count": 3,
   "metadata": {},
   "outputs": [],
   "source": [
    "def progonka(A, d):\n",
    "    N = A.shape[0]\n",
    "    A1 = A.copy()\n",
    "    x = np.zeros(N)\n",
    "    Q = np.zeros(N)\n",
    "    P = np.zeros(N)\n",
    "    P[0] = -(A1[0, 1])/(A1[0, 0]) #прямой ход: вычисляем прогоночные коэффициенты\n",
    "    Q[0] = d[0] / A1[0, 0] #отдельно для первого и последнего уравнений, циклом для всех остальных\n",
    "    for i in range(1, N-1):\n",
    "        P[i] = - (A1[i, i+1]) / (A1[i, i] + A1[i, i-1] * P[i-1]) \n",
    "        Q[i] = (d[i] - A1[i, i-1] * Q[i-1]) / (A1[i, i] + A1[i, i-1] * P[i-1])\n",
    "    P[-1] = 0\n",
    "    Q[-1] = (d[-1] - A1[-1, -2] * Q[-2]) / (A1[-1, -1] + A1[-1, -2] * P[-2])\n",
    "    #print(\"P: \", P)\n",
    "    #print(\"Q: \", Q)\n",
    "    \n",
    "    x[N-1] = Q[N-1] #обратный ход, вычисляем переменные начиная с последнего уравнения (его считаем отдельно)\n",
    "    for j in range(N-2, -1, -1): \n",
    "        x[j] = P[j] * x[j+1] + Q[j]\n",
    "    return x"
   ]
  },
  {
   "cell_type": "code",
   "execution_count": 4,
   "metadata": {},
   "outputs": [
    {
     "name": "stdout",
     "output_type": "stream",
     "text": [
      "x =  [-1.25426422  8.69488293 -2.38129039 -7.63364763 -8.81682382]\n"
     ]
    }
   ],
   "source": [
    "x = progonka(A, d)\n",
    "print(\"x = \", x)"
   ]
  },
  {
   "cell_type": "code",
   "execution_count": 12,
   "metadata": {},
   "outputs": [],
   "source": [
    "np.testing.assert_allclose(A  @ x, d)"
   ]
  },
  {
   "cell_type": "markdown",
   "metadata": {},
   "source": [
    "Пример для самопроверки (из методички, все иксы равны 1)"
   ]
  },
  {
   "cell_type": "code",
   "execution_count": 14,
   "metadata": {},
   "outputs": [
    {
     "data": {
      "text/plain": [
       "array([1., 1., 1., 1.])"
      ]
     },
     "execution_count": 14,
     "metadata": {},
     "output_type": "execute_result"
    }
   ],
   "source": [
    "A = np.zeros((4,4))\n",
    "A[0, 0] = 8\n",
    "A[0, 1] = -2\n",
    "A[1, 0] = -1\n",
    "A[1, 1] = 6\n",
    "A[1, 2] = -2\n",
    "A[2, 1] = 2\n",
    "A[2, 2] = 10\n",
    "A[2, 3] = -4\n",
    "A[3, 2] = -1\n",
    "A[3, 3] = 6\n",
    "\n",
    "d = np.array([6,3,8,5])\n",
    "\n",
    "x = progonka(A, d)\n",
    "x"
   ]
  },
  {
   "cell_type": "code",
   "execution_count": null,
   "metadata": {},
   "outputs": [],
   "source": []
  }
 ],
 "metadata": {
  "kernelspec": {
   "display_name": "Python 3",
   "language": "python",
   "name": "python3"
  },
  "language_info": {
   "codemirror_mode": {
    "name": "ipython",
    "version": 3
   },
   "file_extension": ".py",
   "mimetype": "text/x-python",
   "name": "python",
   "nbconvert_exporter": "python",
   "pygments_lexer": "ipython3",
   "version": "3.7.9"
  }
 },
 "nbformat": 4,
 "nbformat_minor": 4
}
