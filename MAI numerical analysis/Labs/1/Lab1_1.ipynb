{
 "cells": [
  {
   "cell_type": "markdown",
   "metadata": {},
   "source": [
    "Вариант 17"
   ]
  },
  {
   "cell_type": "code",
   "execution_count": 10,
   "metadata": {},
   "outputs": [],
   "source": [
    "import numpy as np"
   ]
  },
  {
   "cell_type": "code",
   "execution_count": 32,
   "metadata": {},
   "outputs": [
    {
     "data": {
      "text/plain": [
       "array([[ 8, -5,  9, -8],\n",
       "       [ 8,  8, -5, -8],\n",
       "       [ 5, -4, -6, -2],\n",
       "       [ 8,  3,  6,  6]])"
      ]
     },
     "execution_count": 32,
     "metadata": {},
     "output_type": "execute_result"
    }
   ],
   "source": [
    "A = np.array([8, -5, 9, -8, 8, 8, -5, -8, 5, -4, -6, -2, 8, 3, 6, 6])\n",
    "A = np.reshape(A, (4,4))\n",
    "b = np.array([13, 38, 14, -95])\n",
    "A\n"
   ]
  },
  {
   "cell_type": "markdown",
   "metadata": {},
   "source": [
    "### Функции"
   ]
  },
  {
   "cell_type": "markdown",
   "metadata": {},
   "source": [
    "LU разложение с выбором главного элемента:"
   ]
  },
  {
   "cell_type": "code",
   "execution_count": 33,
   "metadata": {},
   "outputs": [],
   "source": [
    "def lu_pivot(a):\n",
    "    N = a.shape[0]\n",
    "    u = a.copy()\n",
    "    L = np.eye(N)\n",
    "    swap_array = [] # в этот массив записываются перестановки строк матрицы\n",
    "    maxi = 0 \n",
    "    for j in range(N-1): \n",
    "        piv = u[0, :] #строка с максимальным по модулю элементом (pivot)\n",
    "        for i in range(N): \n",
    "            if abs(u[i, j]) > abs(piv[j]):\n",
    "                piv = u[i, :]\n",
    "                maxi = i \n",
    "        if maxi > j:\n",
    "            u[[j, maxi], :] = u[[maxi, j], :] #поднимаем строку с максимальным элементом наверх\n",
    "            swap_array.append([j, maxi]) \n",
    "        lam = np.eye(N)\n",
    "        gamma = u[j+1:, j] / u[j, j] \n",
    "        lam[j+1:, j] = -gamma \n",
    "        u = lam @ u #домножая на матрицу Лямбда зануляем соответствующий столбец \n",
    "        lam[j+1:, j] = gamma #это уже будет матрица обратная к Лямбда, из произведения этих матриц мы строим L\n",
    "        L = L @ lam \n",
    "    return L, u, swap_array"
   ]
  },
  {
   "cell_type": "markdown",
   "metadata": {},
   "source": [
    "Вычисление определителя: "
   ]
  },
  {
   "cell_type": "code",
   "execution_count": 34,
   "metadata": {},
   "outputs": [
    {
     "name": "stdout",
     "output_type": "stream",
     "text": [
      "[[ 8 -5  9 -8]\n",
      " [ 8  8 -5 -8]\n",
      " [ 5 -4 -6 -2]\n",
      " [ 8  3  6  6]]\n",
      "[[ 8. -5.  9. -8.]\n",
      " [ 8.  8. -5. -8.]\n",
      " [ 5. -4. -6. -2.]\n",
      " [ 8.  3.  6.  6.]]\n"
     ]
    },
    {
     "data": {
      "text/plain": [
       "[]"
      ]
     },
     "execution_count": 34,
     "metadata": {},
     "output_type": "execute_result"
    }
   ],
   "source": [
    "L, u, swap = lu_pivot(A)\n",
    "print(A)\n",
    "print(L @ u)\n",
    "swap"
   ]
  },
  {
   "cell_type": "code",
   "execution_count": 35,
   "metadata": {},
   "outputs": [],
   "source": [
    "def determinant(A):\n",
    "    N = A.shape[0]\n",
    "    L, u, s = lu_pivot(A)\n",
    "    det_u = det_L = 1\n",
    "    for i in range(N):\n",
    "        det_u *= u[i, i]\n",
    "        det_L *= L[i, i]\n",
    "    det_A = det_u * det_L\n",
    "    return det_A"
   ]
  },
  {
   "cell_type": "markdown",
   "metadata": {},
   "source": [
    "Решение СЛАУ:"
   ]
  },
  {
   "cell_type": "code",
   "execution_count": 36,
   "metadata": {},
   "outputs": [],
   "source": [
    "def solve_slau(A, b):\n",
    "    N = A.shape[0]\n",
    "    L, u, swap = lu_pivot(A)\n",
    "    x = np.zeros(N)\n",
    "    z = np.zeros(N)\n",
    "    z[0] = b[0] # решаем систему Lz  = b, где z = Ux (прямой ход метода Гаусса)\n",
    "    for i in range(1, N): \n",
    "        z[i] = b[i]\n",
    "        for j in range(0, i):\n",
    "            z[i] -= L[i, j] * z[j]\n",
    "            \n",
    "    x[N-1] = z[N-1] / u[N-1, N-1] #решаем систему Ux = z (обратный ход)\n",
    "    for i in range(N-2, -1, -1): #идём с конца\n",
    "        x[i] = z[i] / u[i, i]\n",
    "        for j in range(i+1, N):\n",
    "            x[i] -= (u[i, j] * x[j]) / u[i, i]\n",
    "    return x\n",
    "            "
   ]
  },
  {
   "cell_type": "markdown",
   "metadata": {},
   "source": [
    "Нахождение обратной матрицы:"
   ]
  },
  {
   "cell_type": "code",
   "execution_count": 37,
   "metadata": {},
   "outputs": [],
   "source": [
    "def invert(A):\n",
    "    A1 = A.copy()\n",
    "    N = A1.shape[0]\n",
    "    E = np.eye(N)\n",
    "    A_inv = np.zeros(A1.shape)\n",
    "    for i in range(N):\n",
    "        b = E[:, i]\n",
    "        A_inv[:, i] = solve_slau(A1, b)\n",
    "    return A_inv"
   ]
  },
  {
   "cell_type": "markdown",
   "metadata": {},
   "source": [
    "### Тесты"
   ]
  },
  {
   "cell_type": "markdown",
   "metadata": {},
   "source": [
    "Вычисление определителя:"
   ]
  },
  {
   "cell_type": "code",
   "execution_count": 7,
   "metadata": {},
   "outputs": [
    {
     "name": "stdout",
     "output_type": "stream",
     "text": [
      "Определитель матрицы: 20050.0\n"
     ]
    }
   ],
   "source": [
    "L, u, swap = lu_pivot(A)\n",
    "np.testing.assert_allclose(L @ u, A)\n",
    "D = determinant(A)\n",
    "print(\"Определитель матрицы:\", D)"
   ]
  },
  {
   "cell_type": "markdown",
   "metadata": {},
   "source": [
    "Решение СЛАУ:"
   ]
  },
  {
   "cell_type": "code",
   "execution_count": 8,
   "metadata": {},
   "outputs": [
    {
     "name": "stdout",
     "output_type": "stream",
     "text": [
      "x = [-4. -3. -1. -8.]\n"
     ]
    }
   ],
   "source": [
    "x = solve_slau(A, b)\n",
    "np.testing.assert_allclose(A @ x, b)\n",
    "print(\"x =\", x)"
   ]
  },
  {
   "cell_type": "code",
   "execution_count": 9,
   "metadata": {},
   "outputs": [
    {
     "name": "stdout",
     "output_type": "stream",
     "text": [
      "Произведение матрицы на обратную к ней должно давать единичную: \n",
      " [[1. 0. 0. 0.]\n",
      " [0. 1. 0. 0.]\n",
      " [0. 0. 1. 0.]\n",
      " [0. 0. 0. 1.]]\n"
     ]
    }
   ],
   "source": [
    "A_inv = invert(A)\n",
    "E2 = A @ A_inv\n",
    "eps = 1e-15\n",
    "E2[np.abs(E2) < eps] = 0\n",
    "print(\"Произведение матрицы на обратную к ней должно давать единичную: \\n\",E2)"
   ]
  },
  {
   "cell_type": "code",
   "execution_count": null,
   "metadata": {},
   "outputs": [],
   "source": []
  }
 ],
 "metadata": {
  "kernelspec": {
   "display_name": "Python 3",
   "language": "python",
   "name": "python3"
  },
  "language_info": {
   "codemirror_mode": {
    "name": "ipython",
    "version": 3
   },
   "file_extension": ".py",
   "mimetype": "text/x-python",
   "name": "python",
   "nbconvert_exporter": "python",
   "pygments_lexer": "ipython3",
   "version": "3.7.9"
  }
 },
 "nbformat": 4,
 "nbformat_minor": 4
}
