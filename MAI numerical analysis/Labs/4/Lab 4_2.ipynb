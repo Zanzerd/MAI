{
 "cells": [
  {
   "cell_type": "markdown",
   "metadata": {},
   "source": [
    "## Краевая задача для ОДУ 2-го порядка"
   ]
  },
  {
   "cell_type": "markdown",
   "metadata": {},
   "source": [
    "Вариант 18\n",
    "\n",
    "$$ xy'' - (x+1)y' - 2(x-1)y = 0 \\\\ \n",
    "y'(0) = 4, \\\\ \n",
    "y'(1) - 2y(1) = - 9e^{-1} $$\n",
    "\n",
    "\n",
    "Точное решение: \n",
    "\n",
    "$$ y(x) = e^{2x} + (3x+1)e^{-x} $$"
   ]
  },
  {
   "cell_type": "markdown",
   "metadata": {},
   "source": [
    "### Конечно-разностный метод"
   ]
  },
  {
   "cell_type": "markdown",
   "metadata": {},
   "source": [
    "В этой задаче: \n",
    "$$p(x) = (x+1), q(x) = 2(x-1), f(x) = 0, N = 10$$\n",
    "\n",
    "Аппроксимируем граничное условие 3-го рода $y'(1) - 2y(1) = -9e^{-1}$ следующим образом:\n",
    "\n",
    "$$ \\frac{y_{n} - y_{n-1}}{h} - 2y_{n} = -9e^{-1} $$\n",
    "\n",
    "а граничное условие 2-го рода $y'(0) = 4$ следующим:\n",
    "\n",
    "$$\\frac{y_{1} - y_{0}}{h} = 4 $$"
   ]
  },
  {
   "cell_type": "code",
   "execution_count": 1,
   "metadata": {},
   "outputs": [],
   "source": [
    "import numpy as np \n",
    "px = lambda x: x+1\n",
    "qx = lambda x: 2*(x-1)"
   ]
  },
  {
   "cell_type": "markdown",
   "metadata": {},
   "source": [
    "Используем функцию решения трёхдиагональной СЛАУ из 1-ой лабораторной."
   ]
  },
  {
   "cell_type": "code",
   "execution_count": 2,
   "metadata": {},
   "outputs": [],
   "source": [
    "def progonka(A, d):\n",
    "    N = A.shape[0]\n",
    "    A1 = A.copy()\n",
    "    x = np.zeros(N)\n",
    "    Q = np.zeros(N)\n",
    "    P = np.zeros(N)\n",
    "    P[0] = -(A1[0, 1])/(A1[0, 0]) #прямой ход: вычисляем прогоночные коэффициенты\n",
    "    Q[0] = d[0] / A1[0, 0] #отдельно для первого и последнего уравнений, циклом для всех остальных\n",
    "    for i in range(1, N-1):\n",
    "        P[i] = - (A1[i, i+1]) / (A1[i, i] + A1[i, i-1] * P[i-1]) \n",
    "        Q[i] = (d[i] - A1[i, i-1] * Q[i-1]) / (A1[i, i] + A1[i, i-1] * P[i-1])\n",
    "    P[-1] = 0\n",
    "    Q[-1] = (d[-1] - A1[-1, -2] * Q[-2]) / (A1[-1, -1] + A1[-1, -2] * P[-2])\n",
    "    #print(\"P: \", P)\n",
    "    #print(\"Q: \", Q)\n",
    "    \n",
    "    x[N-1] = Q[N-1] #обратный ход, вычисляем переменные начиная с последнего уравнения (его считаем отдельно)\n",
    "    for j in range(N-2, -1, -1): \n",
    "        x[j] = P[j] * x[j+1] + Q[j]\n",
    "    return x"
   ]
  },
  {
   "cell_type": "code",
   "execution_count": 3,
   "metadata": {},
   "outputs": [],
   "source": [
    "def findiff_solve(p, q, fx, a, b, h):\n",
    "    \n",
    "    num_steps = int((b-a)/h)\n",
    "    x = np.arange(a, b+h, h)\n",
    "    y = np.empty(num_steps+1)\n",
    "    N = y.shape[0]-1\n",
    "    \n",
    "    A12 = (1/h)\n",
    "    A13 = -(1/h)\n",
    "    b1 = 4\n",
    "    An1 = -(1/h)\n",
    "    An2 = (1/h) - 2\n",
    "    bn = -9*np.exp(-1)\n",
    "                                 \n",
    "    A = np.zeros((y.shape[0], y.shape[0]))\n",
    "    A[0][0] = A12\n",
    "    A[0][1] = A13\n",
    "    A[N][N-1] = An1\n",
    "    A[N][N] = An2\n",
    "    for k in range(1, N):\n",
    "        A[k][k-1] = (1 - 0.5*(p(x[k])*h))\n",
    "        A[k][k] = (-2 + (h**2)*q(x[k]))\n",
    "        A[k][k+1] = (1 + 0.5*(p(x[k])*h))\n",
    "    b = np.zeros(y.shape[0])\n",
    "    b[0] = b1\n",
    "    b[N] = bn\n",
    "    y = progonka(A, b)\n",
    "    return x, y\n",
    "    \n",
    "                          \n",
    "    "
   ]
  },
  {
   "cell_type": "code",
   "execution_count": 4,
   "metadata": {},
   "outputs": [],
   "source": [
    "x1, y1 = findiff_solve(px, qx, 0, 0, 1, 0.01)"
   ]
  },
  {
   "cell_type": "code",
   "execution_count": 5,
   "metadata": {},
   "outputs": [
    {
     "data": {
      "image/png": "[encoded data removed]",
      "text/plain": [
       "<Figure size 1008x576 with 1 Axes>"
      ]
     },
     "metadata": {
      "needs_background": "light"
     },
     "output_type": "display_data"
    }
   ],
   "source": [
    "import matplotlib.pyplot as plt\n",
    "\n",
    "true_func = lambda x: np.exp(2*x) + (3*x + 1)*np.exp(-x)\n",
    "x_arr = np.arange(0, 1, 0.001)\n",
    "true_arr = [true_func(xi) for xi in x_arr]\n",
    "\n",
    "fig, ax = plt.subplots(figsize = [14,8])\n",
    "ax.plot(x_arr, true_arr, 'r-', lw = 2, label = 'Точное решение')\n",
    "ax.plot(x1, y1, 'b--', lw = 2, label = 'Решение конечно-разностным методом')\n",
    "plt.legend(loc='best')\n",
    "plt.grid(True)\n"
   ]
  },
  {
   "cell_type": "markdown",
   "metadata": {},
   "source": [
    "### Метод стрельбы"
   ]
  },
  {
   "cell_type": "markdown",
   "metadata": {},
   "source": [
    "$$ xy'' - (x+1)y' - 2(x-1)y = 0 \\\\ \n",
    "y'(0) = 4, \\\\ \n",
    "y'(1) - 2y(1) = - 9e^{-1} $$\n"
   ]
  },
  {
   "cell_type": "markdown",
   "metadata": {},
   "source": [
    "Введём замену переменных и сведём исходную задачу к системе дифф. уравнений первого порядка: \n",
    "$$ \n",
    "\\begin{equation}\n",
    "    \\begin{cases}\n",
    "      y' = w \\\\ \n",
    "      w' = \\frac{(x+1)w + 2(x-1)y}{x}\n",
    "    \\end{cases}\\,.\n",
    "\\end{equation}\n",
    "\\\\ w(0) = 4 \\\\ w(1) = -9e^{-1} + 2y(1)\n",
    "$$\n",
    "\n",
    "Вместо исходной задачи сформулируем задачу Коши с начальными условиями:\n",
    "$$\n",
    "w(0) = 4 \\\\\n",
    "w'(0) = -9e^{-1} + 2y(1) \n",
    "$$"
   ]
  },
  {
   "cell_type": "code",
   "execution_count": 6,
   "metadata": {},
   "outputs": [],
   "source": [
    "func = lambda x, y, w: ((x+1)*w + 2*(x-1)*y)/(x)\n",
    "yb = lambda y1: -9*np.exp(-1) + 2*y1\n"
   ]
  },
  {
   "cell_type": "markdown",
   "metadata": {},
   "source": [
    "Используем метод Рунге-Кутты 4 порядка точности. "
   ]
  },
  {
   "cell_type": "code",
   "execution_count": 58,
   "metadata": {},
   "outputs": [],
   "source": [
    "def RK_solve_4(func, y0, w0, h, a, b, eps):\n",
    "    \n",
    "    a1 = 0; a2 = 0.5; a3 = 0.5; a4 = 1 #коэфициенты для 4 порядка точности\n",
    "    b21 = 0.5; b31 = 0; b32 = 0.5; \n",
    "    b41 = 0; b42 = 0; b43 = 0.5\n",
    "    c1 = 1/6; c2 = 1/3; c3 = 1/3; c3 = 1/6\n",
    "    num_steps = int((b-a)/h)\n",
    "    tt = np.arange(a, b+h, h) #сам отрезок х\n",
    "    y = np.zeros(num_steps+1)\n",
    "    w = np.zeros(num_steps+1)\n",
    "    y[0] = y0\n",
    "    w[0] = w0\n",
    "    for k in range(num_steps):\n",
    "        Kk1 = h*func(tt[k], y[k], w[k]) #сами формулы Рунге-Кутты\n",
    "        Lk1 = h*w[k]\n",
    "        Kk2 = h*func(tt[k] + 0.5*h, y[k] + 0.5*Kk1, w[k] + 0.5*Lk1)\n",
    "        Lk2 = h*(w[k] + 0.5*Lk1)\n",
    "        Kk3 = h*func(tt[k] + 0.5*h, y[k] + 0.5*Kk2, w[k] + 0.5*Lk2 )\n",
    "        Lk3 = h*(w[k] + 0.5*Lk2)\n",
    "        Kk4 = h*func(tt[k] + h, y[k] + Kk3, w[k] + Lk3)\n",
    "        Lk4 = h*(w[k] + Lk3)\n",
    "        dyk = (1/6)*(Kk1 + 2*Kk2 + 2*Kk3 + Kk4)\n",
    "        dwk = (1/6)*(Lk1 + 2*Lk2 + 2*Lk3 + Lk4)\n",
    "        #print(dyk)\n",
    "            \n",
    "        y[k+1] = y[k] + dyk\n",
    "        w[k+1] = w[k] + dwk\n",
    "    return tt, y, w"
   ]
  },
  {
   "cell_type": "code",
   "execution_count": 61,
   "metadata": {},
   "outputs": [],
   "source": [
    "def euler_solve(func, w0, h, a, b, eps):\n",
    "    num_steps = int((b-a)/h)\n",
    "    w = np.full(num_steps+1, np.inf)\n",
    "    tt = np.arange(a, b+h, h) #сам отрезок х\n",
    "    w[0] = w0\n",
    "    for k in range(num_steps):\n",
    "        w[k+1] = w[k] + h*func(tt[k], y[k], w[k])\n",
    "        \n",
    "    return tt, w"
   ]
  },
  {
   "cell_type": "code",
   "execution_count": 62,
   "metadata": {},
   "outputs": [],
   "source": [
    "def shoot(th0, th1, func, y0, yb, h, a, b, eps):\n",
    "    print('a')\n",
    "    tt1, w1 = euler_solve(func, y0, h, a, b, 1e-2) #подставляем theta0 вместо w'(0)\n",
    "    print('a')\n",
    "    tt2, w2 = euler_solve(func, y0, th1, h, a, b, 1e-2) #подставляем theta1 вместо w'(0)\n",
    "    print('a')\n",
    "    print(y1)\n",
    "    yt0 = y1[-1]\n",
    "    yt1 = y2[-1]\n",
    "    th_prev = th1\n",
    "    th_2prev = th0\n",
    "    phi_prev = yt1 - yb(yt1)\n",
    "    phi_2prev = yt0 - yb(yt0)\n",
    "    print(phi_prev)\n",
    "    while True:\n",
    "        th_n = th_prev - ((th_prev - th_2prev)/(phi_prev - phi_2prev))*phi_prev\n",
    "        tt, w = euler_solve(func, y0, th_n, h, a, b, 1e-2)\n",
    "        th_2prev = th_prev\n",
    "        th_prev = th_n\n",
    "        phi_2prev = phi_prev\n",
    "        phi_prev = y[-1] - yb(y[-1])\n",
    "        #print(phi_prev)\n",
    "        if (phi_prev <= eps):\n",
    "            break\n",
    "    return tt, y, w\n",
    "    \n",
    "    \n",
    "    "
   ]
  },
  {
   "cell_type": "code",
   "execution_count": 63,
   "metadata": {},
   "outputs": [
    {
     "name": "stdout",
     "output_type": "stream",
     "text": [
      "a\n"
     ]
    },
    {
     "name": "stderr",
     "output_type": "stream",
     "text": [
      "C:\\ProgramData\\Miniconda3\\lib\\site-packages\\ipykernel_launcher.py:1: RuntimeWarning: divide by zero encountered in double_scalars\n",
      "  \"\"\"Entry point for launching an IPython kernel.\n",
      "C:\\ProgramData\\Miniconda3\\lib\\site-packages\\ipykernel_launcher.py:1: RuntimeWarning: invalid value encountered in double_scalars\n",
      "  \"\"\"Entry point for launching an IPython kernel.\n"
     ]
    },
    {
     "ename": "KeyboardInterrupt",
     "evalue": "",
     "output_type": "error",
     "traceback": [
      "\u001b[1;31m---------------------------------------------------------------------------\u001b[0m",
      "\u001b[1;31mKeyboardInterrupt\u001b[0m                         Traceback (most recent call last)",
      "\u001b[1;32m<ipython-input-63-e4d8990cee21>\u001b[0m in \u001b[0;36m<module>\u001b[1;34m\u001b[0m\n\u001b[0;32m      5\u001b[0m \u001b[0meps\u001b[0m \u001b[1;33m=\u001b[0m \u001b[1;36m1e-3\u001b[0m\u001b[1;33m\u001b[0m\u001b[1;33m\u001b[0m\u001b[0m\n\u001b[0;32m      6\u001b[0m \u001b[1;33m\u001b[0m\u001b[0m\n\u001b[1;32m----> 7\u001b[1;33m \u001b[0mtt\u001b[0m\u001b[1;33m,\u001b[0m \u001b[0my\u001b[0m\u001b[1;33m,\u001b[0m \u001b[0mw\u001b[0m \u001b[1;33m=\u001b[0m \u001b[0mshoot\u001b[0m\u001b[1;33m(\u001b[0m\u001b[0mth0\u001b[0m\u001b[1;33m,\u001b[0m \u001b[0mth1\u001b[0m\u001b[1;33m,\u001b[0m \u001b[0mfunc\u001b[0m\u001b[1;33m,\u001b[0m \u001b[1;36m4\u001b[0m\u001b[1;33m,\u001b[0m \u001b[0myb\u001b[0m\u001b[1;33m,\u001b[0m \u001b[0mh\u001b[0m\u001b[1;33m,\u001b[0m \u001b[0ma\u001b[0m\u001b[1;33m,\u001b[0m \u001b[0mb\u001b[0m\u001b[1;33m,\u001b[0m \u001b[0meps\u001b[0m\u001b[1;33m)\u001b[0m\u001b[1;33m\u001b[0m\u001b[1;33m\u001b[0m\u001b[0m\n\u001b[0m",
      "\u001b[1;32m<ipython-input-62-ed55e7f81394>\u001b[0m in \u001b[0;36mshoot\u001b[1;34m(th0, th1, func, y0, yb, h, a, b, eps)\u001b[0m\n\u001b[0;32m      1\u001b[0m \u001b[1;32mdef\u001b[0m \u001b[0mshoot\u001b[0m\u001b[1;33m(\u001b[0m\u001b[0mth0\u001b[0m\u001b[1;33m,\u001b[0m \u001b[0mth1\u001b[0m\u001b[1;33m,\u001b[0m \u001b[0mfunc\u001b[0m\u001b[1;33m,\u001b[0m \u001b[0my0\u001b[0m\u001b[1;33m,\u001b[0m \u001b[0myb\u001b[0m\u001b[1;33m,\u001b[0m \u001b[0mh\u001b[0m\u001b[1;33m,\u001b[0m \u001b[0ma\u001b[0m\u001b[1;33m,\u001b[0m \u001b[0mb\u001b[0m\u001b[1;33m,\u001b[0m \u001b[0meps\u001b[0m\u001b[1;33m)\u001b[0m\u001b[1;33m:\u001b[0m\u001b[1;33m\u001b[0m\u001b[1;33m\u001b[0m\u001b[0m\n\u001b[0;32m      2\u001b[0m     \u001b[0mprint\u001b[0m\u001b[1;33m(\u001b[0m\u001b[1;34m'a'\u001b[0m\u001b[1;33m)\u001b[0m\u001b[1;33m\u001b[0m\u001b[1;33m\u001b[0m\u001b[0m\n\u001b[1;32m----> 3\u001b[1;33m     \u001b[0mtt1\u001b[0m\u001b[1;33m,\u001b[0m \u001b[0my1\u001b[0m\u001b[1;33m,\u001b[0m \u001b[0mw1\u001b[0m \u001b[1;33m=\u001b[0m \u001b[0meuler_solve\u001b[0m\u001b[1;33m(\u001b[0m\u001b[0mfunc\u001b[0m\u001b[1;33m,\u001b[0m \u001b[0my0\u001b[0m\u001b[1;33m,\u001b[0m \u001b[0mth0\u001b[0m\u001b[1;33m,\u001b[0m \u001b[0mh\u001b[0m\u001b[1;33m,\u001b[0m \u001b[0ma\u001b[0m\u001b[1;33m,\u001b[0m \u001b[0mb\u001b[0m\u001b[1;33m,\u001b[0m \u001b[1;36m1e-2\u001b[0m\u001b[1;33m)\u001b[0m \u001b[1;31m#подставляем theta0 вместо w'(0)\u001b[0m\u001b[1;33m\u001b[0m\u001b[1;33m\u001b[0m\u001b[0m\n\u001b[0m\u001b[0;32m      4\u001b[0m     \u001b[0mprint\u001b[0m\u001b[1;33m(\u001b[0m\u001b[1;34m'a'\u001b[0m\u001b[1;33m)\u001b[0m\u001b[1;33m\u001b[0m\u001b[1;33m\u001b[0m\u001b[0m\n\u001b[0;32m      5\u001b[0m     \u001b[0mtt2\u001b[0m\u001b[1;33m,\u001b[0m \u001b[0my2\u001b[0m\u001b[1;33m,\u001b[0m \u001b[0mw2\u001b[0m \u001b[1;33m=\u001b[0m \u001b[0meuler_solve\u001b[0m\u001b[1;33m(\u001b[0m\u001b[0mfunc\u001b[0m\u001b[1;33m,\u001b[0m \u001b[0my0\u001b[0m\u001b[1;33m,\u001b[0m \u001b[0mth1\u001b[0m\u001b[1;33m,\u001b[0m \u001b[0mh\u001b[0m\u001b[1;33m,\u001b[0m \u001b[0ma\u001b[0m\u001b[1;33m,\u001b[0m \u001b[0mb\u001b[0m\u001b[1;33m,\u001b[0m \u001b[1;36m1e-2\u001b[0m\u001b[1;33m)\u001b[0m \u001b[1;31m#подставляем theta1 вместо w'(0)\u001b[0m\u001b[1;33m\u001b[0m\u001b[1;33m\u001b[0m\u001b[0m\n",
      "\u001b[1;32m<ipython-input-61-f4d310419131>\u001b[0m in \u001b[0;36meuler_solve\u001b[1;34m(func, y0, w0, h, a, b, eps)\u001b[0m\n\u001b[0;32m     15\u001b[0m         \u001b[1;32mfor\u001b[0m \u001b[0mk\u001b[0m \u001b[1;32min\u001b[0m \u001b[0mrange\u001b[0m\u001b[1;33m(\u001b[0m\u001b[0mnum_steps\u001b[0m\u001b[1;33m)\u001b[0m\u001b[1;33m:\u001b[0m\u001b[1;33m\u001b[0m\u001b[1;33m\u001b[0m\u001b[0m\n\u001b[0;32m     16\u001b[0m             \u001b[0mw\u001b[0m\u001b[1;33m[\u001b[0m\u001b[0mk\u001b[0m\u001b[1;33m+\u001b[0m\u001b[1;36m1\u001b[0m\u001b[1;33m]\u001b[0m \u001b[1;33m=\u001b[0m \u001b[0mw\u001b[0m\u001b[1;33m[\u001b[0m\u001b[0mk\u001b[0m\u001b[1;33m]\u001b[0m \u001b[1;33m+\u001b[0m \u001b[0mh\u001b[0m\u001b[1;33m*\u001b[0m\u001b[0mfunc\u001b[0m\u001b[1;33m(\u001b[0m\u001b[0mtt\u001b[0m\u001b[1;33m[\u001b[0m\u001b[0mk\u001b[0m\u001b[1;33m]\u001b[0m\u001b[1;33m,\u001b[0m \u001b[0my\u001b[0m\u001b[1;33m[\u001b[0m\u001b[0mk\u001b[0m\u001b[1;33m]\u001b[0m\u001b[1;33m,\u001b[0m \u001b[0mw\u001b[0m\u001b[1;33m[\u001b[0m\u001b[0mk\u001b[0m\u001b[1;33m]\u001b[0m\u001b[1;33m)\u001b[0m\u001b[1;33m\u001b[0m\u001b[1;33m\u001b[0m\u001b[0m\n\u001b[1;32m---> 17\u001b[1;33m             \u001b[0my\u001b[0m\u001b[1;33m[\u001b[0m\u001b[0mk\u001b[0m\u001b[1;33m+\u001b[0m\u001b[1;36m1\u001b[0m\u001b[1;33m]\u001b[0m \u001b[1;33m=\u001b[0m \u001b[0my\u001b[0m\u001b[1;33m[\u001b[0m\u001b[0mk\u001b[0m\u001b[1;33m]\u001b[0m \u001b[1;33m+\u001b[0m \u001b[0mh\u001b[0m\u001b[1;33m*\u001b[0m\u001b[0mw\u001b[0m\u001b[1;33m[\u001b[0m\u001b[0mk\u001b[0m\u001b[1;33m]\u001b[0m\u001b[1;33m\u001b[0m\u001b[1;33m\u001b[0m\u001b[0m\n\u001b[0m\u001b[0;32m     18\u001b[0m         \u001b[1;32mif\u001b[0m \u001b[0my_prev\u001b[0m\u001b[1;33m[\u001b[0m\u001b[0mold_lim\u001b[0m\u001b[1;33m]\u001b[0m \u001b[1;33m-\u001b[0m \u001b[0my\u001b[0m\u001b[1;33m[\u001b[0m\u001b[0mold_lim\u001b[0m\u001b[1;33m]\u001b[0m \u001b[1;33m<=\u001b[0m \u001b[0meps\u001b[0m\u001b[1;33m:\u001b[0m \u001b[1;31m#Рунге-Ромберг\u001b[0m\u001b[1;33m\u001b[0m\u001b[1;33m\u001b[0m\u001b[0m\n\u001b[0;32m     19\u001b[0m             \u001b[0mprint\u001b[0m\u001b[1;33m(\u001b[0m\u001b[0my_prev\u001b[0m\u001b[1;33m[\u001b[0m\u001b[0mold_lim\u001b[0m\u001b[1;33m]\u001b[0m \u001b[1;33m-\u001b[0m \u001b[0my\u001b[0m\u001b[1;33m[\u001b[0m\u001b[0mold_lim\u001b[0m\u001b[1;33m]\u001b[0m\u001b[1;33m)\u001b[0m\u001b[1;33m\u001b[0m\u001b[1;33m\u001b[0m\u001b[0m\n",
      "\u001b[1;31mKeyboardInterrupt\u001b[0m: "
     ]
    }
   ],
   "source": [
    "th0 = 1.0\n",
    "th1 = 0.8\n",
    "h = 0.1\n",
    "a = 0; b = 1\n",
    "eps = 1e-3\n",
    "\n",
    "tt, y, w = shoot(th0, th1, func, 4, yb, h, a, b, eps)"
   ]
  },
  {
   "cell_type": "code",
   "execution_count": 34,
   "metadata": {},
   "outputs": [
    {
     "ename": "NameError",
     "evalue": "name 'tt' is not defined",
     "output_type": "error",
     "traceback": [
      "\u001b[1;31m---------------------------------------------------------------------------\u001b[0m",
      "\u001b[1;31mNameError\u001b[0m                                 Traceback (most recent call last)",
      "\u001b[1;32m<ipython-input-34-9d6b2861d1cc>\u001b[0m in \u001b[0;36m<module>\u001b[1;34m\u001b[0m\n\u001b[0;32m      1\u001b[0m \u001b[0mfig\u001b[0m\u001b[1;33m,\u001b[0m \u001b[0max\u001b[0m \u001b[1;33m=\u001b[0m \u001b[0mplt\u001b[0m\u001b[1;33m.\u001b[0m\u001b[0msubplots\u001b[0m\u001b[1;33m(\u001b[0m\u001b[0mfigsize\u001b[0m \u001b[1;33m=\u001b[0m \u001b[1;33m[\u001b[0m\u001b[1;36m14\u001b[0m\u001b[1;33m,\u001b[0m\u001b[1;36m8\u001b[0m\u001b[1;33m]\u001b[0m\u001b[1;33m)\u001b[0m\u001b[1;33m\u001b[0m\u001b[1;33m\u001b[0m\u001b[0m\n\u001b[0;32m      2\u001b[0m \u001b[0max\u001b[0m\u001b[1;33m.\u001b[0m\u001b[0mplot\u001b[0m\u001b[1;33m(\u001b[0m\u001b[0mx_arr\u001b[0m\u001b[1;33m,\u001b[0m \u001b[0mtrue_arr\u001b[0m\u001b[1;33m,\u001b[0m \u001b[1;34m'r-'\u001b[0m\u001b[1;33m,\u001b[0m \u001b[0mlw\u001b[0m \u001b[1;33m=\u001b[0m \u001b[1;36m2\u001b[0m\u001b[1;33m,\u001b[0m \u001b[0mlabel\u001b[0m \u001b[1;33m=\u001b[0m \u001b[1;34m'Точное решение'\u001b[0m\u001b[1;33m)\u001b[0m\u001b[1;33m\u001b[0m\u001b[1;33m\u001b[0m\u001b[0m\n\u001b[1;32m----> 3\u001b[1;33m \u001b[0max\u001b[0m\u001b[1;33m.\u001b[0m\u001b[0mplot\u001b[0m\u001b[1;33m(\u001b[0m\u001b[0mtt\u001b[0m\u001b[1;33m,\u001b[0m \u001b[0my\u001b[0m\u001b[1;33m,\u001b[0m \u001b[1;34m'b--'\u001b[0m\u001b[1;33m,\u001b[0m \u001b[0mlw\u001b[0m \u001b[1;33m=\u001b[0m \u001b[1;36m2\u001b[0m\u001b[1;33m,\u001b[0m \u001b[0mlabel\u001b[0m \u001b[1;33m=\u001b[0m \u001b[1;34m\"Для y Методом стрельбы\"\u001b[0m\u001b[1;33m)\u001b[0m\u001b[1;33m\u001b[0m\u001b[1;33m\u001b[0m\u001b[0m\n\u001b[0m\u001b[0;32m      4\u001b[0m \u001b[0max\u001b[0m\u001b[1;33m.\u001b[0m\u001b[0mplot\u001b[0m\u001b[1;33m(\u001b[0m\u001b[0mtt\u001b[0m\u001b[1;33m,\u001b[0m \u001b[0mw\u001b[0m\u001b[1;33m,\u001b[0m \u001b[1;34m'm--'\u001b[0m\u001b[1;33m,\u001b[0m \u001b[0mlw\u001b[0m \u001b[1;33m=\u001b[0m \u001b[1;36m2\u001b[0m\u001b[1;33m,\u001b[0m \u001b[0mlabel\u001b[0m \u001b[1;33m=\u001b[0m \u001b[1;34m\"Для w Методом стрельбы\"\u001b[0m\u001b[1;33m)\u001b[0m\u001b[1;33m\u001b[0m\u001b[1;33m\u001b[0m\u001b[0m\n\u001b[0;32m      5\u001b[0m \u001b[0mplt\u001b[0m\u001b[1;33m.\u001b[0m\u001b[0mlegend\u001b[0m\u001b[1;33m(\u001b[0m\u001b[0mloc\u001b[0m\u001b[1;33m=\u001b[0m\u001b[1;34m'best'\u001b[0m\u001b[1;33m)\u001b[0m\u001b[1;33m\u001b[0m\u001b[1;33m\u001b[0m\u001b[0m\n",
      "\u001b[1;31mNameError\u001b[0m: name 'tt' is not defined"
     ]
    },
    {
     "data": {
      "image/png": "[encoded data removed]",
      "text/plain": [
       "<Figure size 1008x576 with 1 Axes>"
      ]
     },
     "metadata": {
      "needs_background": "light"
     },
     "output_type": "display_data"
    }
   ],
   "source": [
    "fig, ax = plt.subplots(figsize = [14,8])\n",
    "ax.plot(x_arr, true_arr, 'r-', lw = 2, label = 'Точное решение')\n",
    "ax.plot(tt, y, 'b--', lw = 2, label = \"Для y Методом стрельбы\")\n",
    "ax.plot(tt, w, 'm--', lw = 2, label = \"Для w Методом стрельбы\")\n",
    "plt.legend(loc='best')\n",
    "plt.grid(True)\n",
    "plt.ylim([0,5])"
   ]
  },
  {
   "cell_type": "code",
   "execution_count": null,
   "metadata": {},
   "outputs": [],
   "source": []
  },
  {
   "cell_type": "code",
   "execution_count": null,
   "metadata": {},
   "outputs": [],
   "source": []
  }
 ],
 "metadata": {
  "kernelspec": {
   "display_name": "Python 3",
   "language": "python",
   "name": "python3"
  },
  "language_info": {
   "codemirror_mode": {
    "name": "ipython",
    "version": 3
   },
   "file_extension": ".py",
   "mimetype": "text/x-python",
   "name": "python",
   "nbconvert_exporter": "python",
   "pygments_lexer": "ipython3",
   "version": "3.7.9"
  }
 },
 "nbformat": 4,
 "nbformat_minor": 4
}
