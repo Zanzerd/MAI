{
 "cells": [
  {
   "cell_type": "code",
   "execution_count": 24,
   "metadata": {},
   "outputs": [],
   "source": [
    "import numpy as np\n",
    "from scipy import stats\n",
    "import random\n",
    "import pandas as pd"
   ]
  },
  {
   "cell_type": "markdown",
   "metadata": {},
   "source": [
    "### Распределение Тьюки"
   ]
  },
  {
   "cell_type": "code",
   "execution_count": 25,
   "metadata": {},
   "outputs": [],
   "source": [
    "def Tukey(m, d, sigma, delta, N = 100):\n",
    "    X = [random.gauss(m, d) for i in range(N)]\n",
    "    Y = [random.gauss(m, sigma) for i in range(N)]\n",
    "    Z = [random.random() for i in range(N)]\n",
    "    U = [X[i] if Z[i] > delta else Y[i] for i in range(N)]\n",
    "    return U"
   ]
  },
  {
   "cell_type": "code",
   "execution_count": 26,
   "metadata": {},
   "outputs": [],
   "source": [
    "def mean(X):\n",
    "    return sum(X)/len(X)"
   ]
  },
  {
   "cell_type": "markdown",
   "metadata": {},
   "source": [
    "### Критерий Стьюдента\n"
   ]
  },
  {
   "cell_type": "code",
   "execution_count": 27,
   "metadata": {},
   "outputs": [],
   "source": [
    "def Stud(X, Y):\n",
    "    Xs = mean(X)\n",
    "    Ys = mean(Y)\n",
    "    m = len(X)\n",
    "    n = len(Y)\n",
    "    S = (((sum([(x - Xs) ** 2 for x in X])) + sum([(y - Ys) for y in Y])) / (m + n)) ** 0.5\n",
    "    T = - (Xs - Ys) / (S * (1/m + 1/n) ** 0.5)\n",
    "    if T > 1.65:\n",
    "        return 1\n",
    "    return 0"
   ]
  },
  {
   "cell_type": "code",
   "execution_count": 28,
   "metadata": {},
   "outputs": [],
   "source": [
    "def rang(X,Y):\n",
    "    Z = sorted(X + Y)\n",
    "    R = []\n",
    "    XY = []\n",
    "    i = 1\n",
    "    while i <= len(Z):\n",
    "        c = Z.count(Z[i-1])\n",
    "        if c == 1:\n",
    "            R.append(i)\n",
    "            if Z[i-1] in X:\n",
    "                XY.append('x')\n",
    "            else:\n",
    "                XY.append('y')\n",
    "        else:\n",
    "            xs = X.count(Z[i-1])\n",
    "            for j in range(c):\n",
    "                R.append(i + (c-1) / 2)\n",
    "            for j in range(xs):\n",
    "                XY.append('x')\n",
    "            for j in range(c - xs):\n",
    "                XY.append('y')\n",
    "        i+=c\n",
    "    return R,XY"
   ]
  },
  {
   "cell_type": "markdown",
   "metadata": {},
   "source": [
    "### Критерий Уилкоксона"
   ]
  },
  {
   "cell_type": "code",
   "execution_count": 29,
   "metadata": {},
   "outputs": [],
   "source": [
    "def Wilc(X,Y):\n",
    "    m = len(X)\n",
    "    n = len(Y)\n",
    "    R, XY = rang(X, Y)\n",
    "    W = sum([R[i] for i in range(len(R)) if XY[i] == 'y'])\n",
    "    M = (m + n + 1) * m / 2\n",
    "    D = (m + n + 1) * m * n / 12\n",
    "    W = (W - M) / D ** 0.5\n",
    "    if W > 1.645:\n",
    "        return 1\n",
    "    return 0"
   ]
  },
  {
   "cell_type": "code",
   "execution_count": 30,
   "metadata": {},
   "outputs": [
    {
     "data": {
      "text/plain": [
       "1"
      ]
     },
     "execution_count": 30,
     "metadata": {},
     "output_type": "execute_result"
    }
   ],
   "source": [
    "X_Stud = Tukey(0, 0.9, 0, 0.3, 20)\n",
    "Y_Stud = Tukey(0.25, 0.9, 0, 0.3, 20)\n",
    "Stud(X_Stud,Y_Stud)"
   ]
  },
  {
   "cell_type": "code",
   "execution_count": 31,
   "metadata": {},
   "outputs": [
    {
     "data": {
      "text/plain": [
       "1"
      ]
     },
     "execution_count": 31,
     "metadata": {},
     "output_type": "execute_result"
    }
   ],
   "source": [
    "X_Stud1 = Tukey(0, 0.9, 0, 0.9, 50)\n",
    "Y_Stud1 = Tukey(1, 0.9, 0.3, 0.9, 50)\n",
    "Wilc(X_Stud1,Y_Stud1)"
   ]
  },
  {
   "cell_type": "code",
   "execution_count": 32,
   "metadata": {},
   "outputs": [],
   "source": [
    "sigma = np.linspace(16,30,100)\n",
    "plot1 = np.zeros((100))\n",
    "plot2 = np.zeros((100))\n",
    "for i in range(0,100):\n",
    "    Wilcoxon_error = 0\n",
    "    Student_error = 0\n",
    "    for j in range(0,100):\n",
    "        X_Stud = Tukey(0, 3, sigma[i], 0.1, 100)\n",
    "        Y_Stud = Tukey(2, 3, sigma[i], 0.1, 100)\n",
    "        Wilcoxon_error += Wilc(X_Stud,Y_Stud)\n",
    "        Student_error += Stud(X_Stud,Y_Stud)\n",
    "    plot1[i] = (100-Wilcoxon_error)/100\n",
    "    plot2[i] = (100-Student_error)/100"
   ]
  },
  {
   "cell_type": "code",
   "execution_count": 33,
   "metadata": {},
   "outputs": [
    {
     "data": {
      "text/plain": [
       "array([0.  , 0.01, 0.02, 0.03, 0.03, 0.01, 0.02, 0.01, 0.02, 0.  , 0.  ,\n",
       "       0.02, 0.03, 0.01, 0.  , 0.  , 0.01, 0.03, 0.  , 0.02, 0.02, 0.  ,\n",
       "       0.03, 0.01, 0.02, 0.01, 0.  , 0.  , 0.02, 0.05, 0.01, 0.  , 0.01,\n",
       "       0.02, 0.  , 0.  , 0.01, 0.02, 0.05, 0.01, 0.03, 0.02, 0.01, 0.01,\n",
       "       0.02, 0.01, 0.  , 0.01, 0.  , 0.02, 0.01, 0.01, 0.03, 0.  , 0.  ,\n",
       "       0.  , 0.03, 0.02, 0.01, 0.01, 0.  , 0.  , 0.02, 0.02, 0.  , 0.  ,\n",
       "       0.03, 0.02, 0.02, 0.01, 0.02, 0.  , 0.01, 0.01, 0.02, 0.02, 0.  ,\n",
       "       0.03, 0.04, 0.01, 0.01, 0.03, 0.  , 0.  , 0.02, 0.01, 0.02, 0.04,\n",
       "       0.  , 0.03, 0.01, 0.01, 0.02, 0.01, 0.02, 0.02, 0.02, 0.01, 0.01,\n",
       "       0.  ])"
      ]
     },
     "execution_count": 33,
     "metadata": {},
     "output_type": "execute_result"
    }
   ],
   "source": [
    "plot1"
   ]
  },
  {
   "cell_type": "code",
   "execution_count": 34,
   "metadata": {},
   "outputs": [
    {
     "data": {
      "text/plain": [
       "array([0.12, 0.22, 0.07, 0.15, 0.13, 0.15, 0.14, 0.13, 0.18, 0.11, 0.13,\n",
       "       0.22, 0.1 , 0.18, 0.14, 0.07, 0.14, 0.17, 0.16, 0.15, 0.13, 0.15,\n",
       "       0.21, 0.18, 0.17, 0.21, 0.16, 0.14, 0.23, 0.25, 0.19, 0.18, 0.19,\n",
       "       0.19, 0.19, 0.17, 0.25, 0.18, 0.25, 0.25, 0.21, 0.21, 0.21, 0.23,\n",
       "       0.23, 0.22, 0.2 , 0.27, 0.25, 0.24, 0.25, 0.39, 0.28, 0.29, 0.34,\n",
       "       0.31, 0.29, 0.28, 0.3 , 0.26, 0.27, 0.21, 0.25, 0.22, 0.25, 0.29,\n",
       "       0.33, 0.34, 0.31, 0.32, 0.34, 0.37, 0.36, 0.25, 0.29, 0.26, 0.32,\n",
       "       0.28, 0.36, 0.34, 0.37, 0.24, 0.33, 0.29, 0.32, 0.35, 0.34, 0.39,\n",
       "       0.35, 0.33, 0.35, 0.35, 0.37, 0.4 , 0.35, 0.39, 0.37, 0.34, 0.35,\n",
       "       0.35])"
      ]
     },
     "execution_count": 34,
     "metadata": {},
     "output_type": "execute_result"
    }
   ],
   "source": [
    "plot2"
   ]
  },
  {
   "cell_type": "code",
   "execution_count": 14,
   "metadata": {},
   "outputs": [],
   "source": [
    "import matplotlib.pyplot as plt"
   ]
  },
  {
   "cell_type": "markdown",
   "metadata": {},
   "source": [
    "### График ошибок второго рода при изменении sigma"
   ]
  },
  {
   "cell_type": "code",
   "execution_count": 15,
   "metadata": {},
   "outputs": [
    {
     "data": {
      "image/png": "[encoded data removed]",
      "text/plain": [
       "<Figure size 432x288 with 1 Axes>"
      ]
     },
     "metadata": {
      "needs_background": "light"
     },
     "output_type": "display_data"
    }
   ],
   "source": [
    "x = np.linspace(16,30,100)\n",
    "y = plot1\n",
    "y2 = plot2\n",
    "fig, ax = plt.subplots()\n",
    "plt.title(\"Частота ошибок 2 рода при изменении sigma\")\n",
    "ax.plot(x, y, label = 'Wilcoxon',c = \"b\")\n",
    "ax.plot(x, y2, label = 'Student',c = \"r\")\n",
    "ax.legend()\n",
    "plt.xlabel(\"x\")\n",
    "plt.ylabel(\"y\")\n",
    "plt.grid()\n",
    "#plt.plot(x, y, c = \"b\")\n",
    "#plt.plot(x, y2, c = \"g\")"
   ]
  },
  {
   "cell_type": "markdown",
   "metadata": {},
   "source": [
    "### График ошибок второго рода при изменении delta"
   ]
  },
  {
   "cell_type": "code",
   "execution_count": 16,
   "metadata": {},
   "outputs": [],
   "source": [
    "delta = np.linspace(0,1,100)\n",
    "plot3 = np.zeros((100))\n",
    "plot4 = np.zeros((100))\n",
    "for i in range(0,100):\n",
    "    Student_error = 0\n",
    "    Wilcoxon_error = 0\n",
    "    for j in range(0,100):\n",
    "        X_Stud = Tukey(0, 3, 16, delta[i], 100)\n",
    "        Y_Stud = Tukey(2, 3, 16, delta[i], 100)\n",
    "        Wilcoxon_error += Wilc(X_Stud,Y_Stud)\n",
    "        Student_error += Stud(X_Stud,Y_Stud)\n",
    "    plot3[i] = (100-Wilcoxon_error)/100\n",
    "    plot4[i] = (100-Student_error)/100"
   ]
  },
  {
   "cell_type": "code",
   "execution_count": 17,
   "metadata": {},
   "outputs": [
    {
     "data": {
      "text/plain": [
       "array([0.  , 0.  , 0.01, 0.01, 0.  , 0.  , 0.02, 0.02, 0.01, 0.  , 0.02,\n",
       "       0.  , 0.02, 0.01, 0.03, 0.02, 0.05, 0.01, 0.06, 0.02, 0.06, 0.02,\n",
       "       0.1 , 0.11, 0.09, 0.13, 0.08, 0.04, 0.11, 0.15, 0.13, 0.16, 0.16,\n",
       "       0.23, 0.11, 0.17, 0.17, 0.24, 0.22, 0.21, 0.27, 0.25, 0.25, 0.31,\n",
       "       0.34, 0.32, 0.29, 0.34, 0.41, 0.38, 0.38, 0.43, 0.44, 0.39, 0.56,\n",
       "       0.52, 0.53, 0.41, 0.5 , 0.51, 0.58, 0.6 , 0.55, 0.58, 0.62, 0.51,\n",
       "       0.57, 0.62, 0.58, 0.62, 0.68, 0.69, 0.72, 0.59, 0.57, 0.65, 0.68,\n",
       "       0.75, 0.71, 0.75, 0.69, 0.65, 0.74, 0.78, 0.71, 0.67, 0.77, 0.78,\n",
       "       0.7 , 0.78, 0.71, 0.85, 0.7 , 0.87, 0.76, 0.76, 0.73, 0.76, 0.79,\n",
       "       0.79])"
      ]
     },
     "execution_count": 17,
     "metadata": {},
     "output_type": "execute_result"
    }
   ],
   "source": [
    "plot3"
   ]
  },
  {
   "cell_type": "code",
   "execution_count": 18,
   "metadata": {},
   "outputs": [
    {
     "data": {
      "text/plain": [
       "array([0.  , 0.01, 0.  , 0.02, 0.01, 0.03, 0.04, 0.06, 0.08, 0.07, 0.06,\n",
       "       0.11, 0.12, 0.16, 0.19, 0.14, 0.23, 0.22, 0.32, 0.18, 0.24, 0.21,\n",
       "       0.33, 0.28, 0.22, 0.31, 0.21, 0.25, 0.34, 0.32, 0.34, 0.38, 0.33,\n",
       "       0.41, 0.36, 0.36, 0.36, 0.4 , 0.38, 0.45, 0.5 , 0.45, 0.36, 0.46,\n",
       "       0.46, 0.46, 0.43, 0.39, 0.52, 0.43, 0.5 , 0.45, 0.55, 0.51, 0.56,\n",
       "       0.52, 0.54, 0.38, 0.44, 0.49, 0.51, 0.55, 0.53, 0.53, 0.57, 0.47,\n",
       "       0.49, 0.53, 0.52, 0.54, 0.55, 0.59, 0.58, 0.47, 0.43, 0.56, 0.55,\n",
       "       0.6 , 0.55, 0.63, 0.59, 0.52, 0.6 , 0.61, 0.62, 0.51, 0.65, 0.6 ,\n",
       "       0.57, 0.61, 0.53, 0.66, 0.52, 0.66, 0.63, 0.64, 0.5 , 0.57, 0.54,\n",
       "       0.54])"
      ]
     },
     "execution_count": 18,
     "metadata": {},
     "output_type": "execute_result"
    }
   ],
   "source": [
    "plot4"
   ]
  },
  {
   "cell_type": "code",
   "execution_count": 19,
   "metadata": {},
   "outputs": [
    {
     "data": {
      "image/png": "[encoded data removed]",
      "text/plain": [
       "<Figure size 432x288 with 1 Axes>"
      ]
     },
     "metadata": {
      "needs_background": "light"
     },
     "output_type": "display_data"
    }
   ],
   "source": [
    "x = np.linspace(0,1,100)\n",
    "y = plot3\n",
    "y2 = plot4\n",
    "fig, ax = plt.subplots()\n",
    "plt.title(\"Частота ошибок 2 рода при изменении delta\")\n",
    "ax.plot(x, y, label = 'Wilcoxon',c = \"b\")\n",
    "ax.plot(x, y2, label = 'Student',c = \"r\")\n",
    "ax.legend()\n",
    "plt.xlabel(\"x\")\n",
    "plt.ylabel(\"y\")\n",
    "plt.grid()\n",
    "#plt.plot(x, y, c = \"b\")\n",
    "#plt.plot(x, y2, c = \"g\")"
   ]
  },
  {
   "cell_type": "markdown",
   "metadata": {},
   "source": [
    "### График ошибок второго рода при изменении МО"
   ]
  },
  {
   "cell_type": "code",
   "execution_count": 20,
   "metadata": {},
   "outputs": [],
   "source": [
    "mo = np.linspace(0,3,100)\n",
    "plot5 = np.zeros((100))\n",
    "plot6 = np.zeros((100))\n",
    "for i in range(0,100):\n",
    "    Student_error = 0\n",
    "    Wilcoxon_error = 0\n",
    "    for j in range(0,100):\n",
    "        X_Stud = Tukey(0, 3, 16, 0.1, 100)\n",
    "        Y_Stud = Tukey(mo[i], 3, 16, 0.1, 100)\n",
    "        Wilcoxon_error += Wilc(X_Stud,Y_Stud)\n",
    "        Student_error += Stud(X_Stud,Y_Stud)\n",
    "    plot5[i] = (100-Wilcoxon_error)/100\n",
    "    plot6[i] = (100-Student_error)/100"
   ]
  },
  {
   "cell_type": "code",
   "execution_count": 21,
   "metadata": {},
   "outputs": [
    {
     "data": {
      "text/plain": [
       "array([0.89, 0.94, 0.97, 0.93, 0.91, 0.87, 0.88, 0.93, 0.84, 0.86, 0.85,\n",
       "       0.85, 0.82, 0.81, 0.76, 0.76, 0.71, 0.65, 0.62, 0.62, 0.66, 0.65,\n",
       "       0.7 , 0.62, 0.61, 0.58, 0.57, 0.52, 0.5 , 0.44, 0.4 , 0.3 , 0.41,\n",
       "       0.29, 0.37, 0.33, 0.32, 0.28, 0.18, 0.25, 0.2 , 0.19, 0.22, 0.13,\n",
       "       0.22, 0.14, 0.12, 0.12, 0.15, 0.15, 0.1 , 0.1 , 0.06, 0.08, 0.08,\n",
       "       0.03, 0.04, 0.04, 0.02, 0.02, 0.01, 0.02, 0.02, 0.02, 0.02, 0.  ,\n",
       "       0.01, 0.  , 0.02, 0.02, 0.  , 0.  , 0.  , 0.  , 0.  , 0.  , 0.  ,\n",
       "       0.  , 0.  , 0.  , 0.01, 0.  , 0.  , 0.  , 0.  , 0.  , 0.  , 0.  ,\n",
       "       0.  , 0.  , 0.  , 0.  , 0.  , 0.  , 0.  , 0.  , 0.  , 0.  , 0.  ,\n",
       "       0.  ])"
      ]
     },
     "execution_count": 21,
     "metadata": {},
     "output_type": "execute_result"
    }
   ],
   "source": [
    "plot5"
   ]
  },
  {
   "cell_type": "code",
   "execution_count": 22,
   "metadata": {},
   "outputs": [
    {
     "data": {
      "text/plain": [
       "array([0.8 , 0.86, 0.91, 0.89, 0.75, 0.77, 0.78, 0.86, 0.78, 0.8 , 0.8 ,\n",
       "       0.77, 0.75, 0.76, 0.79, 0.67, 0.67, 0.62, 0.61, 0.69, 0.58, 0.53,\n",
       "       0.63, 0.59, 0.55, 0.6 , 0.67, 0.55, 0.59, 0.48, 0.53, 0.43, 0.55,\n",
       "       0.46, 0.42, 0.44, 0.51, 0.44, 0.36, 0.34, 0.46, 0.33, 0.41, 0.23,\n",
       "       0.29, 0.27, 0.21, 0.26, 0.28, 0.33, 0.19, 0.32, 0.18, 0.22, 0.23,\n",
       "       0.21, 0.09, 0.19, 0.16, 0.21, 0.14, 0.08, 0.11, 0.1 , 0.12, 0.08,\n",
       "       0.11, 0.07, 0.08, 0.06, 0.08, 0.06, 0.1 , 0.08, 0.11, 0.04, 0.06,\n",
       "       0.02, 0.09, 0.05, 0.04, 0.03, 0.01, 0.06, 0.04, 0.01, 0.06, 0.03,\n",
       "       0.03, 0.01, 0.01, 0.02, 0.02, 0.01, 0.  , 0.  , 0.01, 0.03, 0.01,\n",
       "       0.01])"
      ]
     },
     "execution_count": 22,
     "metadata": {},
     "output_type": "execute_result"
    }
   ],
   "source": [
    "plot6"
   ]
  },
  {
   "cell_type": "code",
   "execution_count": 23,
   "metadata": {},
   "outputs": [
    {
     "data": {
      "image/png": "[encoded data removed]",
      "text/plain": [
       "<Figure size 432x288 with 1 Axes>"
      ]
     },
     "metadata": {
      "needs_background": "light"
     },
     "output_type": "display_data"
    }
   ],
   "source": [
    "x = np.linspace(0,3,100)\n",
    "y = plot5\n",
    "y2 = plot6\n",
    "fig, ax = plt.subplots()\n",
    "plt.title(\"Частота ошибок 2 рода при изменении МО\")\n",
    "ax.plot(x, y, label = 'Wilcoxon',c = \"b\")\n",
    "ax.plot(x, y2, label = 'Student',c = \"r\")\n",
    "ax.legend()\n",
    "plt.xlabel(\"x\")\n",
    "plt.ylabel(\"y\")\n",
    "plt.grid()\n",
    "#plt.plot(x, y, c = \"b\")\n",
    "#plt.plot(x, y2, c = \"g\")"
   ]
  }
 ],
 "metadata": {
  "kernelspec": {
   "display_name": "Python 3",
   "language": "python",
   "name": "python3"
  },
  "language_info": {
   "codemirror_mode": {
    "name": "ipython",
    "version": 3
   },
   "file_extension": ".py",
   "mimetype": "text/x-python",
   "name": "python",
   "nbconvert_exporter": "python",
   "pygments_lexer": "ipython3",
   "version": "3.7.9"
  }
 },
 "nbformat": 4,
 "nbformat_minor": 4
}
