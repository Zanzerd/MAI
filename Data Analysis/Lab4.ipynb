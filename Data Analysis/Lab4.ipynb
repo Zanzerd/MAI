{
 "cells": [
  {
   "cell_type": "markdown",
   "metadata": {},
   "source": [
    "## Лабораторная работа №4 "
   ]
  },
  {
   "cell_type": "code",
   "execution_count": 2,
   "metadata": {
    "scrolled": true
   },
   "outputs": [
    {
     "data": {
      "text/html": [
       "<div>\n",
       "<style scoped>\n",
       "    .dataframe tbody tr th:only-of-type {\n",
       "        vertical-align: middle;\n",
       "    }\n",
       "\n",
       "    .dataframe tbody tr th {\n",
       "        vertical-align: top;\n",
       "    }\n",
       "\n",
       "    .dataframe thead th {\n",
       "        text-align: right;\n",
       "    }\n",
       "</style>\n",
       "<table border=\"1\" class=\"dataframe\">\n",
       "  <thead>\n",
       "    <tr style=\"text-align: right;\">\n",
       "      <th></th>\n",
       "      <th>genre</th>\n",
       "      <th>artist_name</th>\n",
       "      <th>track_name</th>\n",
       "      <th>track_id</th>\n",
       "      <th>popularity</th>\n",
       "      <th>acousticness</th>\n",
       "      <th>danceability</th>\n",
       "      <th>duration_ms</th>\n",
       "      <th>energy</th>\n",
       "      <th>instrumentalness</th>\n",
       "      <th>key</th>\n",
       "      <th>liveness</th>\n",
       "      <th>loudness</th>\n",
       "      <th>mode</th>\n",
       "      <th>speechiness</th>\n",
       "      <th>tempo</th>\n",
       "      <th>time_signature</th>\n",
       "      <th>valence</th>\n",
       "    </tr>\n",
       "  </thead>\n",
       "  <tbody>\n",
       "    <tr>\n",
       "      <th>0</th>\n",
       "      <td>Movie</td>\n",
       "      <td>Henri Salvador</td>\n",
       "      <td>C'est beau de faire un Show</td>\n",
       "      <td>0BRjO6ga9RKCKjfDqeFgWV</td>\n",
       "      <td>0</td>\n",
       "      <td>0.611</td>\n",
       "      <td>0.389</td>\n",
       "      <td>99373</td>\n",
       "      <td>0.910</td>\n",
       "      <td>0.000</td>\n",
       "      <td>C#</td>\n",
       "      <td>0.3460</td>\n",
       "      <td>-1.828</td>\n",
       "      <td>Major</td>\n",
       "      <td>0.0525</td>\n",
       "      <td>166.969</td>\n",
       "      <td>4/4</td>\n",
       "      <td>0.814</td>\n",
       "    </tr>\n",
       "    <tr>\n",
       "      <th>1</th>\n",
       "      <td>Movie</td>\n",
       "      <td>Martin &amp; les fées</td>\n",
       "      <td>Perdu d'avance (par Gad Elmaleh)</td>\n",
       "      <td>0BjC1NfoEOOusryehmNudP</td>\n",
       "      <td>1</td>\n",
       "      <td>0.246</td>\n",
       "      <td>0.590</td>\n",
       "      <td>137373</td>\n",
       "      <td>0.737</td>\n",
       "      <td>0.000</td>\n",
       "      <td>F#</td>\n",
       "      <td>0.1510</td>\n",
       "      <td>-5.559</td>\n",
       "      <td>Minor</td>\n",
       "      <td>0.0868</td>\n",
       "      <td>174.003</td>\n",
       "      <td>4/4</td>\n",
       "      <td>0.816</td>\n",
       "    </tr>\n",
       "    <tr>\n",
       "      <th>2</th>\n",
       "      <td>Movie</td>\n",
       "      <td>Joseph Williams</td>\n",
       "      <td>Don't Let Me Be Lonely Tonight</td>\n",
       "      <td>0CoSDzoNIKCRs124s9uTVy</td>\n",
       "      <td>3</td>\n",
       "      <td>0.952</td>\n",
       "      <td>0.663</td>\n",
       "      <td>170267</td>\n",
       "      <td>0.131</td>\n",
       "      <td>0.000</td>\n",
       "      <td>C</td>\n",
       "      <td>0.1030</td>\n",
       "      <td>-13.879</td>\n",
       "      <td>Minor</td>\n",
       "      <td>0.0362</td>\n",
       "      <td>99.488</td>\n",
       "      <td>5/4</td>\n",
       "      <td>0.368</td>\n",
       "    </tr>\n",
       "    <tr>\n",
       "      <th>3</th>\n",
       "      <td>Movie</td>\n",
       "      <td>Henri Salvador</td>\n",
       "      <td>Dis-moi Monsieur Gordon Cooper</td>\n",
       "      <td>0Gc6TVm52BwZD07Ki6tIvf</td>\n",
       "      <td>0</td>\n",
       "      <td>0.703</td>\n",
       "      <td>0.240</td>\n",
       "      <td>152427</td>\n",
       "      <td>0.326</td>\n",
       "      <td>0.000</td>\n",
       "      <td>C#</td>\n",
       "      <td>0.0985</td>\n",
       "      <td>-12.178</td>\n",
       "      <td>Major</td>\n",
       "      <td>0.0395</td>\n",
       "      <td>171.758</td>\n",
       "      <td>4/4</td>\n",
       "      <td>0.227</td>\n",
       "    </tr>\n",
       "    <tr>\n",
       "      <th>4</th>\n",
       "      <td>Movie</td>\n",
       "      <td>Fabien Nataf</td>\n",
       "      <td>Ouverture</td>\n",
       "      <td>0IuslXpMROHdEPvSl1fTQK</td>\n",
       "      <td>4</td>\n",
       "      <td>0.950</td>\n",
       "      <td>0.331</td>\n",
       "      <td>82625</td>\n",
       "      <td>0.225</td>\n",
       "      <td>0.123</td>\n",
       "      <td>F</td>\n",
       "      <td>0.2020</td>\n",
       "      <td>-21.150</td>\n",
       "      <td>Major</td>\n",
       "      <td>0.0456</td>\n",
       "      <td>140.576</td>\n",
       "      <td>4/4</td>\n",
       "      <td>0.390</td>\n",
       "    </tr>\n",
       "  </tbody>\n",
       "</table>\n",
       "</div>"
      ],
      "text/plain": [
       "   genre        artist_name                        track_name  \\\n",
       "0  Movie     Henri Salvador       C'est beau de faire un Show   \n",
       "1  Movie  Martin & les fées  Perdu d'avance (par Gad Elmaleh)   \n",
       "2  Movie    Joseph Williams    Don't Let Me Be Lonely Tonight   \n",
       "3  Movie     Henri Salvador    Dis-moi Monsieur Gordon Cooper   \n",
       "4  Movie       Fabien Nataf                         Ouverture   \n",
       "\n",
       "                 track_id  popularity  acousticness  danceability  \\\n",
       "0  0BRjO6ga9RKCKjfDqeFgWV           0         0.611         0.389   \n",
       "1  0BjC1NfoEOOusryehmNudP           1         0.246         0.590   \n",
       "2  0CoSDzoNIKCRs124s9uTVy           3         0.952         0.663   \n",
       "3  0Gc6TVm52BwZD07Ki6tIvf           0         0.703         0.240   \n",
       "4  0IuslXpMROHdEPvSl1fTQK           4         0.950         0.331   \n",
       "\n",
       "   duration_ms  energy  instrumentalness key  liveness  loudness   mode  \\\n",
       "0        99373   0.910             0.000  C#    0.3460    -1.828  Major   \n",
       "1       137373   0.737             0.000  F#    0.1510    -5.559  Minor   \n",
       "2       170267   0.131             0.000   C    0.1030   -13.879  Minor   \n",
       "3       152427   0.326             0.000  C#    0.0985   -12.178  Major   \n",
       "4        82625   0.225             0.123   F    0.2020   -21.150  Major   \n",
       "\n",
       "   speechiness    tempo time_signature  valence  \n",
       "0       0.0525  166.969            4/4    0.814  \n",
       "1       0.0868  174.003            4/4    0.816  \n",
       "2       0.0362   99.488            5/4    0.368  \n",
       "3       0.0395  171.758            4/4    0.227  \n",
       "4       0.0456  140.576            4/4    0.390  "
      ]
     },
     "execution_count": 2,
     "metadata": {},
     "output_type": "execute_result"
    }
   ],
   "source": [
    "import pandas as pd\n",
    "import numpy as np\n",
    "import matplotlib.pyplot as plt\n",
    "import random \n",
    "import sys\n",
    "from scipy import stats\n",
    "\n",
    "Music_file_path = \"C:\\\\Users\\\\Pankratz\\\\Desktop\\\\SAD\\\\SpotifyFeatures.csv\"\n",
    "Music_data = pd.read_csv(Music_file_path)\n",
    "Music_data.head()"
   ]
  },
  {
   "cell_type": "code",
   "execution_count": 3,
   "metadata": {},
   "outputs": [
    {
     "data": {
      "text/plain": [
       "genre                object\n",
       "artist_name          object\n",
       "track_name           object\n",
       "track_id             object\n",
       "popularity            int64\n",
       "acousticness        float64\n",
       "danceability        float64\n",
       "duration_ms           int64\n",
       "energy              float64\n",
       "instrumentalness    float64\n",
       "key                  object\n",
       "liveness            float64\n",
       "loudness            float64\n",
       "mode                 object\n",
       "speechiness         float64\n",
       "tempo               float64\n",
       "time_signature       object\n",
       "valence             float64\n",
       "dtype: object"
      ]
     },
     "execution_count": 3,
     "metadata": {},
     "output_type": "execute_result"
    }
   ],
   "source": [
    "Music_data.dtypes"
   ]
  },
  {
   "cell_type": "code",
   "execution_count": 4,
   "metadata": {},
   "outputs": [],
   "source": [
    "Music_data1 = Music_data.head(1000)"
   ]
  },
  {
   "cell_type": "code",
   "execution_count": 5,
   "metadata": {},
   "outputs": [
    {
     "data": {
      "text/plain": [
       "<function matplotlib.pyplot.show(close=None, block=None)>"
      ]
     },
     "execution_count": 5,
     "metadata": {},
     "output_type": "execute_result"
    },
    {
     "data": {
      "image/png": "[encoded data removed]",
      "text/plain": [
       "<Figure size 432x288 with 1 Axes>"
      ]
     },
     "metadata": {
      "needs_background": "light"
     },
     "output_type": "display_data"
    }
   ],
   "source": [
    "\n",
    "energy = Music_data1['energy'].values.tolist()\n",
    "loudness = Music_data1['loudness'].values.tolist()\n",
    "plt.scatter(loudness, energy)\n",
    "plt.show"
   ]
  },
  {
   "cell_type": "markdown",
   "metadata": {},
   "source": [
    "### Подбор степени многочлена"
   ]
  },
  {
   "cell_type": "code",
   "execution_count": 6,
   "metadata": {},
   "outputs": [],
   "source": [
    "def design_matrix(x, m):\n",
    "    n = len(x)\n",
    "    D = np.zeros((n, m+1)) \n",
    "    for i in range(n):\n",
    "        for j in range(m+1):\n",
    "            D[i][j] = x[i]**j\n",
    "    return D\n",
    "    "
   ]
  },
  {
   "cell_type": "code",
   "execution_count": 7,
   "metadata": {},
   "outputs": [
    {
     "data": {
      "text/plain": [
       "array([[  1.,   1.,   1.,   1.],\n",
       "       [  1.,   2.,   4.,   8.],\n",
       "       [  1.,   3.,   9.,  27.],\n",
       "       [  1.,   4.,  16.,  64.],\n",
       "       [  1.,   5.,  25., 125.]])"
      ]
     },
     "execution_count": 7,
     "metadata": {},
     "output_type": "execute_result"
    }
   ],
   "source": [
    "x_test = [1,2,3,4, 5]\n",
    "D = design_matrix(x_test, 3)\n",
    "D"
   ]
  },
  {
   "cell_type": "markdown",
   "metadata": {},
   "source": [
    "С помощью этой функции мы можем строить матрицы для аппроксимации многочленами разного порядка m."
   ]
  },
  {
   "cell_type": "code",
   "execution_count": 8,
   "metadata": {},
   "outputs": [],
   "source": [
    "def R2(x, y, poly):\n",
    "    \n",
    "    y_mean = np.mean(y)\n",
    "    temp_arr = np.subtract(y, y_mean) ** 2\n",
    "    TSS = np.sum(temp_arr, dtype= 'float64')\n",
    "    \n",
    "    y_hat = np.array([poly(xi) for xi in x])\n",
    "    temp_arr2 = np.subtract(y, y_hat) ** 2\n",
    "    RSS = np.sum(temp_arr2, dtype= 'float64')\n",
    "\n",
    "    R2 = (TSS - RSS) / TSS\n",
    "    return R2"
   ]
  },
  {
   "cell_type": "markdown",
   "metadata": {},
   "source": [
    "Построим многочлен 1-го порядка:"
   ]
  },
  {
   "cell_type": "code",
   "execution_count": 9,
   "metadata": {},
   "outputs": [
    {
     "name": "stdout",
     "output_type": "stream",
     "text": [
      "Приближающий многочлен первой степени: 0.04188878151984961*x + 0.905781767559334\n"
     ]
    }
   ],
   "source": [
    "D = design_matrix(loudness, 1)\n",
    "A = D.T @ D\n",
    "b = D.T @ energy\n",
    "beta = np.linalg.solve(A, b)\n",
    "poly = lambda x: beta[0] + beta[1]*x\n",
    "print(\"Приближающий многочлен первой степени: \" + str(beta[1]) + \"*x + \" + str(beta[0]))"
   ]
  },
  {
   "cell_type": "code",
   "execution_count": 10,
   "metadata": {},
   "outputs": [
    {
     "data": {
      "text/plain": [
       "0.6594080270822186"
      ]
     },
     "execution_count": 10,
     "metadata": {},
     "output_type": "execute_result"
    }
   ],
   "source": [
    "R2(loudness, energy, poly)"
   ]
  },
  {
   "cell_type": "markdown",
   "metadata": {},
   "source": [
    "Построим многочлен 2-го порядка"
   ]
  },
  {
   "cell_type": "code",
   "execution_count": 11,
   "metadata": {},
   "outputs": [
    {
     "name": "stdout",
     "output_type": "stream",
     "text": [
      "Приближающий многочлен  степени: 0.0014707675244593154*x^2 + 0.07747122471214386*x + 1.0800124200620669\n"
     ]
    }
   ],
   "source": [
    "D = design_matrix(loudness, 2)\n",
    "A = D.T @ D\n",
    "b = D.T @ energy\n",
    "beta = np.linalg.solve(A, b)\n",
    "poly2 = lambda x: beta[0] + beta[1]*x + beta[2]*(x**2)\n",
    "print(\"Приближающий многочлен  степени: \" + str(beta[2]) + \"*x^2 + \" + str(beta[1]) + \"*x + \" + str(beta[0]))"
   ]
  },
  {
   "cell_type": "code",
   "execution_count": 12,
   "metadata": {},
   "outputs": [
    {
     "data": {
      "text/plain": [
       "0.6883736649664937"
      ]
     },
     "execution_count": 12,
     "metadata": {},
     "output_type": "execute_result"
    }
   ],
   "source": [
    "R2(loudness, energy, poly2)"
   ]
  },
  {
   "cell_type": "code",
   "execution_count": 13,
   "metadata": {},
   "outputs": [
    {
     "name": "stdout",
     "output_type": "stream",
     "text": [
      "Приближающий многочлен третьей степени: -1.138262649294267e-05*x^3 + 0.0010206519256443524*x^2 + 0.07230102358935747*x +  1.063302779469403\n"
     ]
    }
   ],
   "source": [
    "D = design_matrix(loudness, 3)\n",
    "A = D.T @ D\n",
    "b = D.T @ energy\n",
    "beta = np.linalg.solve(A, b)\n",
    "poly3 = lambda x: beta[0] + beta[1]*x + beta[2]*(x**2) + beta[3]*(x**3)\n",
    "print(\"Приближающий многочлен третьей степени: \" + str(beta[3]) + \"*x^3 + \" + str(beta[2]) + \"*x^2 + \" + str(beta[1]) + \"*x +  \" + str(beta[0]))"
   ]
  },
  {
   "cell_type": "code",
   "execution_count": 14,
   "metadata": {},
   "outputs": [
    {
     "data": {
      "text/plain": [
       "0.6884512163195011"
      ]
     },
     "execution_count": 14,
     "metadata": {},
     "output_type": "execute_result"
    }
   ],
   "source": [
    "R2(loudness, energy, poly3)"
   ]
  },
  {
   "cell_type": "code",
   "execution_count": 15,
   "metadata": {},
   "outputs": [
    {
     "name": "stdout",
     "output_type": "stream",
     "text": [
      "Приближающий многочлен четвёртой степени: -1.808463340669289e-06*x^4 + -0.00011253036469689066*x^3 + -0.000891784948438178*x^2 0.058141766848307234*x 1.0293769892214315\n"
     ]
    }
   ],
   "source": [
    "D = design_matrix(loudness, 4)\n",
    "A = D.T @ D\n",
    "b = D.T @ energy\n",
    "beta = np.linalg.solve(A, b)\n",
    "poly4 = lambda x: beta[0] + beta[1]*x + beta[2]*(x**2) + beta[3]*(x**3) + beta[4]*(x**4)\n",
    "print(\"Приближающий многочлен четвёртой степени: \" + str(beta[4]) + \"*x^4 + \" + str(beta[3]) + \"*x^3 + \" + str(beta[2]) + \"*x^2 \" + str(beta[1]) + \"*x \" + str(beta[0]))"
   ]
  },
  {
   "cell_type": "code",
   "execution_count": 16,
   "metadata": {},
   "outputs": [
    {
     "data": {
      "text/plain": [
       "0.6885686979196478"
      ]
     },
     "execution_count": 16,
     "metadata": {},
     "output_type": "execute_result"
    }
   ],
   "source": [
    "R2(loudness, energy, poly4)"
   ]
  },
  {
   "cell_type": "code",
   "execution_count": 17,
   "metadata": {},
   "outputs": [
    {
     "name": "stdout",
     "output_type": "stream",
     "text": [
      "Приближающий многочлен четвёртой степени: 1.0149778274496306*x^4 + 0.05042519727723862*x^3 + -0.002332808322828157*x^2 -0.00023154963895609845*x -0.00023154963895609845\n"
     ]
    }
   ],
   "source": [
    "D = design_matrix(loudness, 5)\n",
    "A = D.T @ D\n",
    "b = D.T @ energy\n",
    "beta = np.linalg.solve(A, b)\n",
    "poly4 = lambda x: beta[0] + beta[1]*x + beta[2]*(x**2) + beta[3]*(x**3) + beta[4]*(x**4) + beta[5]*(x**5)\n",
    "print(\"Приближающий многочлен четвёртой степени: \" + str(beta[0]) + \"*x^4 + \" + str(beta[1]) + \"*x^3 + \" + str(beta[2]) + \"*x^2 \" + str(beta[3]) + \"*x \" + str(beta[3]))"
   ]
  },
  {
   "cell_type": "markdown",
   "metadata": {},
   "source": [
    "Коэффициенты при $x^{4}$ и $x^{3}$ близки к нулю и $R^{2}$ почти не изменяется, поэтому берем многочлен второй степени."
   ]
  },
  {
   "cell_type": "code",
   "execution_count": 18,
   "metadata": {},
   "outputs": [
    {
     "data": {
      "text/plain": [
       "<matplotlib.collections.PathCollection at 0x1f9cd196c08>"
      ]
     },
     "execution_count": 18,
     "metadata": {},
     "output_type": "execute_result"
    },
    {
     "data": {
      "image/png": "[encoded data removed]",
      "text/plain": [
       "<Figure size 576x432 with 1 Axes>"
      ]
     },
     "metadata": {
      "needs_background": "light"
     },
     "output_type": "display_data"
    }
   ],
   "source": [
    "x_full = np.arange(min(loudness), max(loudness), 0.01)\n",
    "\n",
    "p1_vals = [poly(xi) for xi in x_full]\n",
    "p2_vals = [poly2(xi) for xi in x_full]\n",
    "p3_vals = [poly3(xi) for xi in x_full]\n",
    "p4_vals = [poly4(xi) for xi in x_full]\n",
    "\n",
    "fig, ax = plt.subplots(figsize=(8,6))\n",
    "ax.plot(x_full, p1_vals , color = 'blue')\n",
    "ax.plot(x_full, p2_vals, color = 'red')\n",
    "ax.plot(x_full, p3_vals , color = 'green')\n",
    "ax.plot(x_full, p4_vals, color = 'magenta')\n",
    "ax.scatter(loudness, energy, color = 'black')\n"
   ]
  },
  {
   "cell_type": "markdown",
   "metadata": {},
   "source": [
    "Из графика видно, что на самом деле многочлены третьей и четвёртой степеней приближают лучше, чем многочлен второй степени (вероятно, из-за выброса). Возьмём многочлен третьей степени."
   ]
  },
  {
   "cell_type": "markdown",
   "metadata": {},
   "source": [
    "### Проверка нормальности распределения остатков (Хи-квадрат)"
   ]
  },
  {
   "cell_type": "code",
   "execution_count": 19,
   "metadata": {},
   "outputs": [],
   "source": [
    "def to_nominal(X, numIntervals = 100):\n",
    "    meshX = np.linspace(min(X), max(X), numIntervals)\n",
    "    XNominal = np.zeros(numIntervals)\n",
    "    for xi in X: \n",
    "        for i in range(1, numIntervals, 1):\n",
    "            if meshX[i-1] < xi and xi <= meshX[i]:\n",
    "                XNominal[i-1] += 1\n",
    "    return XNominal, meshX"
   ]
  },
  {
   "cell_type": "code",
   "execution_count": 20,
   "metadata": {},
   "outputs": [],
   "source": [
    "def chi_square(X, alpha = 0.05, numIntervals = 100):\n",
    "    X_nominal, meshX = to_nominal(X, numIntervals)\n",
    "    p_arr = np.zeros(numIntervals)\n",
    "    for i in range(1, numIntervals):\n",
    "        p = stats.norm.cdf(meshX[i]) - stats.norm.cdf(meshX[i-1])\n",
    "        p_arr[i-1] = p\n",
    "    temp_arr = np.divide(X_nominal, X.shape[0])\n",
    "    temp_arr2 = np.subtract(temp_arr, p_arr) ** 2\n",
    "    summa_chlen = np.divide(temp_arr2, p_arr)\n",
    "    summa_chlen[summa_chlen == np.inf] = 0\n",
    "    t_value = X.shape[0] * np.nansum(summa_chlen)\n",
    "    pValue = 1 - stats.chi2.cdf(t_value, df = numIntervals)\n",
    "    print(pValue)\n",
    "    if pValue > alpha:\n",
    "        complete = 0\n",
    "    else:\n",
    "        complete = 1\n",
    "    return complete"
   ]
  },
  {
   "cell_type": "code",
   "execution_count": 21,
   "metadata": {},
   "outputs": [],
   "source": [
    "y_hat = np.array([poly3(xi) for xi in loudness])\n",
    "temp_arr2 = np.subtract(energy, y_hat) ** 2"
   ]
  },
  {
   "cell_type": "code",
   "execution_count": 22,
   "metadata": {},
   "outputs": [
    {
     "ename": "NameError",
     "evalue": "name 'eps' is not defined",
     "output_type": "error",
     "traceback": [
      "\u001b[1;31m---------------------------------------------------------------------------\u001b[0m",
      "\u001b[1;31mNameError\u001b[0m                                 Traceback (most recent call last)",
      "\u001b[1;32m<ipython-input-22-458cb51e2ba2>\u001b[0m in \u001b[0;36m<module>\u001b[1;34m\u001b[0m\n\u001b[1;32m----> 1\u001b[1;33m \u001b[0mchi_square\u001b[0m\u001b[1;33m(\u001b[0m\u001b[0meps\u001b[0m\u001b[1;33m,\u001b[0m \u001b[1;36m0.05\u001b[0m\u001b[1;33m)\u001b[0m\u001b[1;33m\u001b[0m\u001b[1;33m\u001b[0m\u001b[0m\n\u001b[0m",
      "\u001b[1;31mNameError\u001b[0m: name 'eps' is not defined"
     ]
    }
   ],
   "source": [
    "chi_square(eps, 0.05)"
   ]
  },
  {
   "cell_type": "markdown",
   "metadata": {},
   "source": [
    "Наша проверка показала, что остатки не распределены нормально."
   ]
  },
  {
   "cell_type": "markdown",
   "metadata": {},
   "source": [
    "### Строим М-оценки"
   ]
  },
  {
   "cell_type": "code",
   "execution_count": 23,
   "metadata": {},
   "outputs": [],
   "source": [
    "def MHuber(delta, x): \n",
    "    return (x ** 2) / 2 if abs(x) < delta else delta*(abs(x) - delta/2)\n",
    "\n",
    "def MTukey(delta, x):\n",
    "    return 1 - (1 - (x/delta) ** 2) ** 3 if abs(x) < delta else 1\n",
    "\n",
    "def MHuber_hat(theta, D, y, delta):\n",
    "    return np.sum( [MHuber(delta, yi - np.sum(theta * di)) for yi, di in zip(y, D)] )\n",
    "\n",
    "def MTukey_hat(theta, D, y, delta):\n",
    "    return np.sum( [MTukey(delta, yi - np.sum(theta * di)) for yi, di in zip(y, D)] )"
   ]
  },
  {
   "cell_type": "code",
   "execution_count": 24,
   "metadata": {},
   "outputs": [],
   "source": [
    "D = design_matrix(loudness, 3)\n",
    "A = D.T @ D\n",
    "b = D.T @ energy\n",
    "beta = np.linalg.solve(A, b)"
   ]
  },
  {
   "cell_type": "code",
   "execution_count": 25,
   "metadata": {},
   "outputs": [
    {
     "name": "stdout",
     "output_type": "stream",
     "text": [
      "Optimization terminated successfully.\n",
      "         Current function value: 9.434256\n",
      "         Iterations: 34\n",
      "         Function evaluations: 66\n"
     ]
    }
   ],
   "source": [
    "from scipy.optimize import fmin\n",
    "res_Huber = fmin(MHuber_hat, beta, args = (D, energy, 1))"
   ]
  },
  {
   "cell_type": "code",
   "execution_count": 26,
   "metadata": {},
   "outputs": [
    {
     "name": "stdout",
     "output_type": "stream",
     "text": [
      "Optimization terminated successfully.\n",
      "         Current function value: 53.212806\n",
      "         Iterations: 139\n",
      "         Function evaluations: 234\n"
     ]
    }
   ],
   "source": [
    "res_Tukey = fmin(MTukey_hat, beta, args = (D, energy, 1))"
   ]
  },
  {
   "cell_type": "code",
   "execution_count": 27,
   "metadata": {},
   "outputs": [],
   "source": [
    "y_pred_Huber = D @ res_Huber\n",
    "y_pred_Tukey = D @ res_Tukey"
   ]
  },
  {
   "cell_type": "code",
   "execution_count": 30,
   "metadata": {},
   "outputs": [
    {
     "data": {
      "text/plain": [
       "<matplotlib.collections.PathCollection at 0x1f9d0572108>"
      ]
     },
     "execution_count": 30,
     "metadata": {},
     "output_type": "execute_result"
    },
    {
     "data": {
      "image/png": "[encoded data removed]",
      "text/plain": [
       "<Figure size 576x432 with 1 Axes>"
      ]
     },
     "metadata": {
      "needs_background": "light"
     },
     "output_type": "display_data"
    }
   ],
   "source": [
    "fig, ax = plt.subplots(figsize=(8,6))\n",
    "ax.plot(x_full, p4_vals , color = 'blue')\n",
    "ax.plot(loudness, y_pred_Huber, color = 'red')\n",
    "ax.scatter(loudness, energy, color = 'black')"
   ]
  },
  {
   "cell_type": "code",
   "execution_count": 31,
   "metadata": {},
   "outputs": [
    {
     "data": {
      "text/plain": [
       "<matplotlib.collections.PathCollection at 0x1f9d2272288>"
      ]
     },
     "execution_count": 31,
     "metadata": {},
     "output_type": "execute_result"
    },
    {
     "data": {
      "image/png": "[encoded data removed]",
      "text/plain": [
       "<Figure size 576x432 with 1 Axes>"
      ]
     },
     "metadata": {
      "needs_background": "light"
     },
     "output_type": "display_data"
    }
   ],
   "source": [
    "fig, ax = plt.subplots(figsize=(8,6))\n",
    "ax.plot(x_full, p4_vals , color = 'blue')\n",
    "ax.plot(loudness, y_pred_Tukey, color = 'red')\n",
    "ax.scatter(loudness, energy, color = 'black')"
   ]
  },
  {
   "cell_type": "code",
   "execution_count": null,
   "metadata": {},
   "outputs": [],
   "source": []
  }
 ],
 "metadata": {
  "kernelspec": {
   "display_name": "Python 3",
   "language": "python",
   "name": "python3"
  },
  "language_info": {
   "codemirror_mode": {
    "name": "ipython",
    "version": 3
   },
   "file_extension": ".py",
   "mimetype": "text/x-python",
   "name": "python",
   "nbconvert_exporter": "python",
   "pygments_lexer": "ipython3",
   "version": "3.7.9"
  }
 },
 "nbformat": 4,
 "nbformat_minor": 4
}
