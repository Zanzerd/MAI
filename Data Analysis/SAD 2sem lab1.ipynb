{
 "cells": [
  {
   "cell_type": "code",
   "execution_count": 497,
   "metadata": {},
   "outputs": [],
   "source": [
    "import pandas as pd\n",
    "import matplotlib.pyplot as plt\n",
    "import seaborn as sn\n",
    "import sklearn \n",
    "import numpy as np"
   ]
  },
  {
   "cell_type": "code",
   "execution_count": 498,
   "metadata": {},
   "outputs": [],
   "source": [
    "dataset_file_path = \"C:\\\\Users\\\\Pankratz\\\\Desktop\\\\SAD\\\\Lab 2 sem\\\\heart.csv\"\n",
    "data = pd.read_csv(dataset_file_path)"
   ]
  },
  {
   "cell_type": "code",
   "execution_count": 499,
   "metadata": {},
   "outputs": [
    {
     "data": {
      "text/html": [
       "<div>\n",
       "<style scoped>\n",
       "    .dataframe tbody tr th:only-of-type {\n",
       "        vertical-align: middle;\n",
       "    }\n",
       "\n",
       "    .dataframe tbody tr th {\n",
       "        vertical-align: top;\n",
       "    }\n",
       "\n",
       "    .dataframe thead th {\n",
       "        text-align: right;\n",
       "    }\n",
       "</style>\n",
       "<table border=\"1\" class=\"dataframe\">\n",
       "  <thead>\n",
       "    <tr style=\"text-align: right;\">\n",
       "      <th></th>\n",
       "      <th>age</th>\n",
       "      <th>sex</th>\n",
       "      <th>cp</th>\n",
       "      <th>trestbps</th>\n",
       "      <th>chol</th>\n",
       "      <th>fbs</th>\n",
       "      <th>restecg</th>\n",
       "      <th>thalach</th>\n",
       "      <th>exang</th>\n",
       "      <th>oldpeak</th>\n",
       "      <th>slope</th>\n",
       "      <th>ca</th>\n",
       "      <th>thal</th>\n",
       "      <th>target</th>\n",
       "    </tr>\n",
       "  </thead>\n",
       "  <tbody>\n",
       "    <tr>\n",
       "      <th>0</th>\n",
       "      <td>63</td>\n",
       "      <td>1</td>\n",
       "      <td>3</td>\n",
       "      <td>145</td>\n",
       "      <td>233</td>\n",
       "      <td>1</td>\n",
       "      <td>0</td>\n",
       "      <td>150</td>\n",
       "      <td>0</td>\n",
       "      <td>2.3</td>\n",
       "      <td>0</td>\n",
       "      <td>0</td>\n",
       "      <td>1</td>\n",
       "      <td>1</td>\n",
       "    </tr>\n",
       "    <tr>\n",
       "      <th>1</th>\n",
       "      <td>37</td>\n",
       "      <td>1</td>\n",
       "      <td>2</td>\n",
       "      <td>130</td>\n",
       "      <td>250</td>\n",
       "      <td>0</td>\n",
       "      <td>1</td>\n",
       "      <td>187</td>\n",
       "      <td>0</td>\n",
       "      <td>3.5</td>\n",
       "      <td>0</td>\n",
       "      <td>0</td>\n",
       "      <td>2</td>\n",
       "      <td>1</td>\n",
       "    </tr>\n",
       "    <tr>\n",
       "      <th>2</th>\n",
       "      <td>41</td>\n",
       "      <td>0</td>\n",
       "      <td>1</td>\n",
       "      <td>130</td>\n",
       "      <td>204</td>\n",
       "      <td>0</td>\n",
       "      <td>0</td>\n",
       "      <td>172</td>\n",
       "      <td>0</td>\n",
       "      <td>1.4</td>\n",
       "      <td>2</td>\n",
       "      <td>0</td>\n",
       "      <td>2</td>\n",
       "      <td>1</td>\n",
       "    </tr>\n",
       "    <tr>\n",
       "      <th>3</th>\n",
       "      <td>56</td>\n",
       "      <td>1</td>\n",
       "      <td>1</td>\n",
       "      <td>120</td>\n",
       "      <td>236</td>\n",
       "      <td>0</td>\n",
       "      <td>1</td>\n",
       "      <td>178</td>\n",
       "      <td>0</td>\n",
       "      <td>0.8</td>\n",
       "      <td>2</td>\n",
       "      <td>0</td>\n",
       "      <td>2</td>\n",
       "      <td>1</td>\n",
       "    </tr>\n",
       "    <tr>\n",
       "      <th>4</th>\n",
       "      <td>57</td>\n",
       "      <td>0</td>\n",
       "      <td>0</td>\n",
       "      <td>120</td>\n",
       "      <td>354</td>\n",
       "      <td>0</td>\n",
       "      <td>1</td>\n",
       "      <td>163</td>\n",
       "      <td>1</td>\n",
       "      <td>0.6</td>\n",
       "      <td>2</td>\n",
       "      <td>0</td>\n",
       "      <td>2</td>\n",
       "      <td>1</td>\n",
       "    </tr>\n",
       "  </tbody>\n",
       "</table>\n",
       "</div>"
      ],
      "text/plain": [
       "   age  sex  cp  trestbps  chol  fbs  restecg  thalach  exang  oldpeak  slope  \\\n",
       "0   63    1   3       145   233    1        0      150      0      2.3      0   \n",
       "1   37    1   2       130   250    0        1      187      0      3.5      0   \n",
       "2   41    0   1       130   204    0        0      172      0      1.4      2   \n",
       "3   56    1   1       120   236    0        1      178      0      0.8      2   \n",
       "4   57    0   0       120   354    0        1      163      1      0.6      2   \n",
       "\n",
       "   ca  thal  target  \n",
       "0   0     1       1  \n",
       "1   0     2       1  \n",
       "2   0     2       1  \n",
       "3   0     2       1  \n",
       "4   0     2       1  "
      ]
     },
     "execution_count": 499,
     "metadata": {},
     "output_type": "execute_result"
    }
   ],
   "source": [
    "data.head()"
   ]
  },
  {
   "cell_type": "code",
   "execution_count": 468,
   "metadata": {},
   "outputs": [
    {
     "data": {
      "text/plain": [
       "array([[<AxesSubplot:title={'center':'age'}>,\n",
       "        <AxesSubplot:title={'center':'sex'}>,\n",
       "        <AxesSubplot:title={'center':'cp'}>,\n",
       "        <AxesSubplot:title={'center':'trestbps'}>],\n",
       "       [<AxesSubplot:title={'center':'chol'}>,\n",
       "        <AxesSubplot:title={'center':'fbs'}>,\n",
       "        <AxesSubplot:title={'center':'restecg'}>,\n",
       "        <AxesSubplot:title={'center':'thalach'}>],\n",
       "       [<AxesSubplot:title={'center':'exang'}>,\n",
       "        <AxesSubplot:title={'center':'oldpeak'}>,\n",
       "        <AxesSubplot:title={'center':'slope'}>,\n",
       "        <AxesSubplot:title={'center':'ca'}>],\n",
       "       [<AxesSubplot:title={'center':'thal'}>,\n",
       "        <AxesSubplot:title={'center':'target'}>, <AxesSubplot:>,\n",
       "        <AxesSubplot:>]], dtype=object)"
      ]
     },
     "execution_count": 468,
     "metadata": {},
     "output_type": "execute_result"
    },
    {
     "data": {
      "image/png": "[encoded data removed]",
      "text/plain": [
       "<Figure size 1440x1080 with 16 Axes>"
      ]
     },
     "metadata": {
      "needs_background": "light"
     },
     "output_type": "display_data"
    }
   ],
   "source": [
    "%matplotlib inline\n",
    "data.hist(bins=50,figsize=(20,15))"
   ]
  },
  {
   "cell_type": "code",
   "execution_count": 505,
   "metadata": {},
   "outputs": [],
   "source": [
    "def ME_est(xi): # оценка матожидания признака\n",
    "    n = len(xi)\n",
    "    summ = 0\n",
    "    for i in range(n):\n",
    "        summ += xi.iloc[i]\n",
    "    summ *= (1/n)\n",
    "    return summ"
   ]
  },
  {
   "cell_type": "code",
   "execution_count": 506,
   "metadata": {},
   "outputs": [
    {
     "name": "stdout",
     "output_type": "stream",
     "text": [
      "['age', 'sex', 'cp', 'trestbps', 'chol', 'fbs', 'restecg', 'thalach', 'exang', 'oldpeak', 'slope', 'ca', 'thal', 'target']\n"
     ]
    }
   ],
   "source": [
    "col_names = [col for col in data.columns]\n",
    "print(col_names)\n",
    "n = len(col_names)"
   ]
  },
  {
   "cell_type": "code",
   "execution_count": 507,
   "metadata": {},
   "outputs": [],
   "source": [
    "ME_est_vec = np.zeros(n)\n",
    "for i in range(len(col_names)):\n",
    "    ME_est_vec[i] = ME_est(data[col_names[i]])"
   ]
  },
  {
   "cell_type": "code",
   "execution_count": 508,
   "metadata": {},
   "outputs": [],
   "source": [
    "def cov_est(xj, xk, j, k, ME_est_vec): #оценка ковариации j-го признака с k-м\n",
    "    n = len(xj)\n",
    "    summ = 0\n",
    "    for i in range(n):\n",
    "        summ += (xj.iloc[i] - ME_est_vec[j])*(xk.iloc[i] - ME_est_vec[k])\n",
    "    summ *= (1/n)\n",
    "    return summ"
   ]
  },
  {
   "cell_type": "code",
   "execution_count": 509,
   "metadata": {},
   "outputs": [],
   "source": [
    "cov_matrix = np.zeros((n,n)) #оценка ковариационной матрицы\n",
    "for i in range(n):\n",
    "    for j in range(n):\n",
    "        cov_matrix[i,j] = cov_est(data[col_names[i]], data[col_names[j]], i, j, ME_est_vec)\n",
    "disp_vec_est = [cov_matrix[i,i] for i in range(n)]"
   ]
  },
  {
   "cell_type": "code",
   "execution_count": 510,
   "metadata": {},
   "outputs": [],
   "source": [
    "data_cn = data.subtract(ME_est_vec)\n",
    "data_cn = data_cn.divide(np.sqrt(disp_vec_est))"
   ]
  },
  {
   "cell_type": "code",
   "execution_count": 511,
   "metadata": {},
   "outputs": [],
   "source": [
    "import collections\n",
    "eig_tuple = np.linalg.eig(cov_matrix) #находим СЗ и СВ ковариационной матрицы признаков\n",
    "eigvals_cov_pre = eig_tuple[0] \n",
    "eigvecs_cov_pre = eig_tuple[1]\n",
    "\n",
    "dict_eigs = {eigvals_cov_pre[i] : eigvecs_cov_pre[:,i] for i in range(n)}\n",
    "dict_eigs_sorted = collections.OrderedDict(sorted(dict_eigs.items(), reverse = True))\n",
    "\n",
    "eigvals_cov_sorted = [k for k, v in dict_eigs_sorted.items()]\n",
    "eigvecs_cov_sorted = [v for k, v in dict_eigs_sorted.items()]"
   ]
  },
  {
   "cell_type": "code",
   "execution_count": 512,
   "metadata": {},
   "outputs": [],
   "source": [
    "V = np.array([e for e in eigvecs_cov_sorted]) # матрица из СВ\n",
    "Lam = np.zeros((n,n))\n",
    "for i in range(n):\n",
    "    Lam[i,i] = eigvals_cov_sorted[i] # диагональная матрица с СЗ\n",
    "V = np.column_stack(eigvecs_cov_sorted)"
   ]
  },
  {
   "cell_type": "code",
   "execution_count": 513,
   "metadata": {},
   "outputs": [],
   "source": [
    "LamT = np.sqrt(Lam)\n",
    "LamT = np.linalg.inv(LamT) #нормировка\n",
    "\n",
    "result_A = LamT @ V.T #матрица перехода к ГК"
   ]
  },
  {
   "cell_type": "code",
   "execution_count": 514,
   "metadata": {},
   "outputs": [
    {
     "name": "stdout",
     "output_type": "stream",
     "text": [
      "Преобразованный датасет:\n"
     ]
    },
    {
     "data": {
      "text/html": [
       "<div>\n",
       "<style scoped>\n",
       "    .dataframe tbody tr th:only-of-type {\n",
       "        vertical-align: middle;\n",
       "    }\n",
       "\n",
       "    .dataframe tbody tr th {\n",
       "        vertical-align: top;\n",
       "    }\n",
       "\n",
       "    .dataframe thead th {\n",
       "        text-align: right;\n",
       "    }\n",
       "</style>\n",
       "<table border=\"1\" class=\"dataframe\">\n",
       "  <thead>\n",
       "    <tr style=\"text-align: right;\">\n",
       "      <th></th>\n",
       "      <th>1</th>\n",
       "      <th>2</th>\n",
       "      <th>3</th>\n",
       "      <th>4</th>\n",
       "      <th>5</th>\n",
       "      <th>6</th>\n",
       "      <th>7</th>\n",
       "      <th>8</th>\n",
       "      <th>9</th>\n",
       "      <th>10</th>\n",
       "      <th>11</th>\n",
       "      <th>12</th>\n",
       "      <th>13</th>\n",
       "      <th>14</th>\n",
       "    </tr>\n",
       "  </thead>\n",
       "  <tbody>\n",
       "    <tr>\n",
       "      <th>0</th>\n",
       "      <td>-0.003619</td>\n",
       "      <td>0.010217</td>\n",
       "      <td>-0.052508</td>\n",
       "      <td>-0.109318</td>\n",
       "      <td>-0.252336</td>\n",
       "      <td>-2.900044</td>\n",
       "      <td>0.637622</td>\n",
       "      <td>-3.012943</td>\n",
       "      <td>-3.804933</td>\n",
       "      <td>-2.448470</td>\n",
       "      <td>2.201175</td>\n",
       "      <td>-2.100638</td>\n",
       "      <td>6.273231</td>\n",
       "      <td>0.111192</td>\n",
       "    </tr>\n",
       "    <tr>\n",
       "      <th>1</th>\n",
       "      <td>-0.000463</td>\n",
       "      <td>-0.083007</td>\n",
       "      <td>0.005948</td>\n",
       "      <td>0.209420</td>\n",
       "      <td>0.925575</td>\n",
       "      <td>-2.780245</td>\n",
       "      <td>-0.313728</td>\n",
       "      <td>-1.206850</td>\n",
       "      <td>0.776914</td>\n",
       "      <td>-2.662491</td>\n",
       "      <td>1.121820</td>\n",
       "      <td>-3.266438</td>\n",
       "      <td>-0.156794</td>\n",
       "      <td>-3.234173</td>\n",
       "    </tr>\n",
       "    <tr>\n",
       "      <th>2</th>\n",
       "      <td>-0.017043</td>\n",
       "      <td>-0.053545</td>\n",
       "      <td>0.006333</td>\n",
       "      <td>0.161487</td>\n",
       "      <td>-0.601254</td>\n",
       "      <td>-0.443177</td>\n",
       "      <td>-0.488363</td>\n",
       "      <td>-1.723987</td>\n",
       "      <td>-0.266297</td>\n",
       "      <td>2.486137</td>\n",
       "      <td>-4.005533</td>\n",
       "      <td>0.531979</td>\n",
       "      <td>-0.313777</td>\n",
       "      <td>-0.016787</td>\n",
       "    </tr>\n",
       "    <tr>\n",
       "      <th>3</th>\n",
       "      <td>-0.004583</td>\n",
       "      <td>-0.055102</td>\n",
       "      <td>0.027164</td>\n",
       "      <td>-0.061939</td>\n",
       "      <td>-0.815633</td>\n",
       "      <td>-0.136273</td>\n",
       "      <td>-0.367410</td>\n",
       "      <td>-0.503639</td>\n",
       "      <td>1.968030</td>\n",
       "      <td>1.982431</td>\n",
       "      <td>1.059071</td>\n",
       "      <td>-2.251136</td>\n",
       "      <td>0.134568</td>\n",
       "      <td>-1.931478</td>\n",
       "    </tr>\n",
       "    <tr>\n",
       "      <th>4</th>\n",
       "      <td>0.039626</td>\n",
       "      <td>-0.027565</td>\n",
       "      <td>0.038180</td>\n",
       "      <td>-0.050855</td>\n",
       "      <td>-0.590540</td>\n",
       "      <td>0.681724</td>\n",
       "      <td>-1.351525</td>\n",
       "      <td>-1.447859</td>\n",
       "      <td>2.442859</td>\n",
       "      <td>0.689406</td>\n",
       "      <td>-0.705050</td>\n",
       "      <td>4.721396</td>\n",
       "      <td>-0.304449</td>\n",
       "      <td>-1.823701</td>\n",
       "    </tr>\n",
       "  </tbody>\n",
       "</table>\n",
       "</div>"
      ],
      "text/plain": [
       "          1         2         3         4         5         6         7  \\\n",
       "0 -0.003619  0.010217 -0.052508 -0.109318 -0.252336 -2.900044  0.637622   \n",
       "1 -0.000463 -0.083007  0.005948  0.209420  0.925575 -2.780245 -0.313728   \n",
       "2 -0.017043 -0.053545  0.006333  0.161487 -0.601254 -0.443177 -0.488363   \n",
       "3 -0.004583 -0.055102  0.027164 -0.061939 -0.815633 -0.136273 -0.367410   \n",
       "4  0.039626 -0.027565  0.038180 -0.050855 -0.590540  0.681724 -1.351525   \n",
       "\n",
       "          8         9        10        11        12        13        14  \n",
       "0 -3.012943 -3.804933 -2.448470  2.201175 -2.100638  6.273231  0.111192  \n",
       "1 -1.206850  0.776914 -2.662491  1.121820 -3.266438 -0.156794 -3.234173  \n",
       "2 -1.723987 -0.266297  2.486137 -4.005533  0.531979 -0.313777 -0.016787  \n",
       "3 -0.503639  1.968030  1.982431  1.059071 -2.251136  0.134568 -1.931478  \n",
       "4 -1.447859  2.442859  0.689406 -0.705050  4.721396 -0.304449 -1.823701  "
      ]
     },
     "execution_count": 514,
     "metadata": {},
     "output_type": "execute_result"
    }
   ],
   "source": [
    "arr_data_pca = np.zeros((len(data_cn), n))\n",
    "for i in range(len(data_cn)):\n",
    "    arr_data_pca[i] = result_A @ data_cn.iloc[i] #преобразуем датасет \n",
    "\n",
    "new_col_names = ['{}'.format(i+1) for i in range(n)]\n",
    "data_pca = pd.DataFrame(arr_data_pca, columns = new_col_names)\n",
    "print('Преобразованный датасет:')\n",
    "data_pca.head() "
   ]
  },
  {
   "cell_type": "markdown",
   "metadata": {},
   "source": [
    "##### Оставим две главные компоненты, посмотрим, сколько информации мы потеряем и построим график точек."
   ]
  },
  {
   "cell_type": "code",
   "execution_count": 515,
   "metadata": {},
   "outputs": [
    {
     "name": "stdout",
     "output_type": "stream",
     "text": [
      "Доля объяснённой дисперсии для двух первых ГК: 0.8978857904939239\n"
     ]
    }
   ],
   "source": [
    "d1 = (eigvals_cov_sorted[0] + eigvals_cov_sorted[1]) / sum(eigvals_cov_sorted)\n",
    "print('Доля объяснённой дисперсии для двух первых ГК: {}'.format(d1))"
   ]
  },
  {
   "cell_type": "code",
   "execution_count": 516,
   "metadata": {},
   "outputs": [
    {
     "data": {
      "text/html": [
       "<div>\n",
       "<style scoped>\n",
       "    .dataframe tbody tr th:only-of-type {\n",
       "        vertical-align: middle;\n",
       "    }\n",
       "\n",
       "    .dataframe tbody tr th {\n",
       "        vertical-align: top;\n",
       "    }\n",
       "\n",
       "    .dataframe thead th {\n",
       "        text-align: right;\n",
       "    }\n",
       "</style>\n",
       "<table border=\"1\" class=\"dataframe\">\n",
       "  <thead>\n",
       "    <tr style=\"text-align: right;\">\n",
       "      <th></th>\n",
       "      <th>1</th>\n",
       "      <th>2</th>\n",
       "    </tr>\n",
       "  </thead>\n",
       "  <tbody>\n",
       "    <tr>\n",
       "      <th>0</th>\n",
       "      <td>-0.003619</td>\n",
       "      <td>0.010217</td>\n",
       "    </tr>\n",
       "    <tr>\n",
       "      <th>1</th>\n",
       "      <td>-0.000463</td>\n",
       "      <td>-0.083007</td>\n",
       "    </tr>\n",
       "    <tr>\n",
       "      <th>2</th>\n",
       "      <td>-0.017043</td>\n",
       "      <td>-0.053545</td>\n",
       "    </tr>\n",
       "    <tr>\n",
       "      <th>3</th>\n",
       "      <td>-0.004583</td>\n",
       "      <td>-0.055102</td>\n",
       "    </tr>\n",
       "    <tr>\n",
       "      <th>4</th>\n",
       "      <td>0.039626</td>\n",
       "      <td>-0.027565</td>\n",
       "    </tr>\n",
       "  </tbody>\n",
       "</table>\n",
       "</div>"
      ],
      "text/plain": [
       "          1         2\n",
       "0 -0.003619  0.010217\n",
       "1 -0.000463 -0.083007\n",
       "2 -0.017043 -0.053545\n",
       "3 -0.004583 -0.055102\n",
       "4  0.039626 -0.027565"
      ]
     },
     "execution_count": 516,
     "metadata": {},
     "output_type": "execute_result"
    }
   ],
   "source": [
    "data_pca_2cols = data_pca[['1', '2']].copy()\n",
    "data_pca_2cols.head() #датасет с двумя признаками (ГК)"
   ]
  },
  {
   "cell_type": "code",
   "execution_count": 517,
   "metadata": {},
   "outputs": [
    {
     "data": {
      "text/plain": [
       "<matplotlib.collections.PathCollection at 0x2caf70d40c8>"
      ]
     },
     "execution_count": 517,
     "metadata": {},
     "output_type": "execute_result"
    },
    {
     "data": {
      "image/png": "[encoded data removed]",
      "text/plain": [
       "<Figure size 432x288 with 1 Axes>"
      ]
     },
     "metadata": {
      "needs_background": "light"
     },
     "output_type": "display_data"
    }
   ],
   "source": [
    "X = np.array(data_pca_2cols['1'])\n",
    "Y = np.array(data_pca_2cols['2'])\n",
    "plt.scatter(X,Y)"
   ]
  },
  {
   "cell_type": "markdown",
   "metadata": {},
   "source": [
    "### Кластеризация. Метод k средних."
   ]
  },
  {
   "cell_type": "code",
   "execution_count": 518,
   "metadata": {},
   "outputs": [],
   "source": [
    "#Функции расстояния \n",
    "\n",
    "def Euclidian_dist(Xi, Xj):\n",
    "    return np.sqrt((Xi - Xj).T @ (Xi - Xj))\n",
    "\n",
    "def Euclidian_dist_weighted(Xi, Xj, Lam):\n",
    "    return np.sqrt((Xi - Xj).T @ Lam @ (Xi - Xj))\n",
    "\n",
    "def Mahalanobis_dist(Xi, Xj, cov_matrix):\n",
    "    return (Xi - Xj).T @ np.linalg.inv(cov_matrix) @ (Xi - Xj)\n",
    "    \n",
    "def Manhattan_dist(Xi, Xj):\n",
    "    summ = 0\n",
    "    for k in range(len(Xi)):\n",
    "        summ += abs(Xi[k] - Xj[k])\n",
    "    return summ\n",
    "\n",
    "def Chebyshev_dist(Xi, Xj):\n",
    "    dists = Xi - Xj\n",
    "    return max(dists)"
   ]
  },
  {
   "cell_type": "code",
   "execution_count": 493,
   "metadata": {},
   "outputs": [],
   "source": [
    "def k_mean(data, p, dist_func):\n",
    "    n = len(data)\n",
    "    m = len(data.iloc[0])\n",
    "    indexes = np.random.randint(n, size = p) #случайно выбираем центроиды кластеров\n",
    "    centroids = [data.iloc[i] for i in indexes] \n",
    "    objects_to_clusters = np.full(n, -1)\n",
    "    centroids_prev = np.zeros(p)\n",
    "    i = 0\n",
    "    while(not(equality_for_arr_of_series(centroids, centroids_prev))):\n",
    "        centroids_prev = centroids.copy()\n",
    "        distances = np.zeros((p,n))\n",
    "        for k in range(p):\n",
    "            for j in range(n):\n",
    "                distances[k, j] = dist_func(centroids[k], data.iloc[j])\n",
    "        for j in range(n):\n",
    "            dist_obj_from_centroids = distances[:, j]\n",
    "            objects_to_clusters[j] = np.argmin(dist_obj_from_centroids)\n",
    "            for k in range(p):\n",
    "                summ = np.zeros(m)\n",
    "                ns = 1\n",
    "                for j in range(n):\n",
    "                    if objects_to_clusters[j] == k:\n",
    "                        summ += data.iloc[j]\n",
    "                        ns += 1\n",
    "                #print(ns)\n",
    "                centroids[k] = (1/ns) * summ \n",
    "        i+=1\n",
    "        print(i)\n",
    "            \n",
    "    return objects_to_clusters\n",
    "\n",
    "def equality_for_arr_of_series(arr1, arr2):\n",
    "    for i in range(len(arr1)):\n",
    "        if (not (arr1[i].equals(arr2[i]))):\n",
    "            return False\n",
    "    return True"
   ]
  },
  {
   "cell_type": "code",
   "execution_count": 494,
   "metadata": {},
   "outputs": [
    {
     "name": "stdout",
     "output_type": "stream",
     "text": [
      "1\n",
      "2\n",
      "3\n",
      "4\n",
      "5\n",
      "6\n"
     ]
    },
    {
     "data": {
      "text/plain": [
       "array([0, 0, 0, 0, 1, 0, 1, 1, 0, 0, 0, 1, 1, 0, 1, 0, 1, 0, 0, 0, 0, 0,\n",
       "       0, 0, 0, 1, 0, 0, 1, 0, 0, 0, 0, 1, 0, 0, 1, 0, 1, 1, 1, 0, 0, 1,\n",
       "       1, 1, 0, 1, 0, 0, 1, 1, 0, 0, 0, 0, 0, 1, 0, 1, 1, 1, 0, 0, 0, 0,\n",
       "       0, 0, 0, 0, 1, 0, 0, 1, 0, 0, 0, 0, 0, 0, 0, 1, 1, 1, 1, 1, 1, 0,\n",
       "       0, 0, 1, 0, 0, 1, 0, 0, 1, 0, 1, 0, 0, 1, 0, 0, 0, 0, 0, 0, 0, 0,\n",
       "       1, 0, 1, 0, 1, 0, 0, 0, 0, 0, 1, 1, 1, 1, 0, 0, 0, 1, 0, 1, 0, 1,\n",
       "       1, 0, 1, 1, 0, 0, 0, 1, 1, 1, 0, 0, 0, 0, 0, 0, 0, 0, 0, 0, 0, 1,\n",
       "       0, 0, 0, 0, 0, 0, 0, 1, 0, 0, 0, 1, 0, 1, 1, 0, 1, 0, 1, 0, 0, 0,\n",
       "       0, 1, 0, 1, 1, 0, 1, 0, 0, 1, 1, 1, 0, 0, 1, 0, 0, 1, 0, 1, 0, 1,\n",
       "       1, 0, 0, 1, 1, 1, 0, 1, 0, 1, 0, 0, 0, 1, 0, 1, 0, 1, 1, 1, 1, 1,\n",
       "       1, 0, 1, 1, 0, 0, 1, 0, 1, 1, 0, 1, 1, 0, 1, 1, 1, 1, 1, 1, 1, 0,\n",
       "       0, 1, 0, 1, 1, 0, 1, 1, 1, 0, 1, 1, 1, 1, 1, 0, 0, 0, 0, 0, 1, 1,\n",
       "       0, 0, 1, 0, 1, 1, 0, 0, 0, 0, 1, 0, 0, 1, 1, 0, 1, 0, 0, 0, 0, 1,\n",
       "       0, 0, 1, 0, 0, 1, 0, 0, 0, 0, 0, 0, 0, 1, 0, 0, 0])"
      ]
     },
     "execution_count": 494,
     "metadata": {},
     "output_type": "execute_result"
    }
   ],
   "source": [
    "clustered = k_mean(data, 2, Euclidian_dist)\n",
    "clustered"
   ]
  },
  {
   "cell_type": "code",
   "execution_count": 520,
   "metadata": {},
   "outputs": [
    {
     "data": {
      "text/html": [
       "<div>\n",
       "<style scoped>\n",
       "    .dataframe tbody tr th:only-of-type {\n",
       "        vertical-align: middle;\n",
       "    }\n",
       "\n",
       "    .dataframe tbody tr th {\n",
       "        vertical-align: top;\n",
       "    }\n",
       "\n",
       "    .dataframe thead th {\n",
       "        text-align: right;\n",
       "    }\n",
       "</style>\n",
       "<table border=\"1\" class=\"dataframe\">\n",
       "  <thead>\n",
       "    <tr style=\"text-align: right;\">\n",
       "      <th></th>\n",
       "      <th>age</th>\n",
       "      <th>sex</th>\n",
       "      <th>cp</th>\n",
       "      <th>trestbps</th>\n",
       "      <th>chol</th>\n",
       "      <th>fbs</th>\n",
       "      <th>restecg</th>\n",
       "      <th>thalach</th>\n",
       "      <th>exang</th>\n",
       "      <th>oldpeak</th>\n",
       "      <th>slope</th>\n",
       "      <th>ca</th>\n",
       "      <th>thal</th>\n",
       "      <th>target</th>\n",
       "      <th>clusters</th>\n",
       "    </tr>\n",
       "  </thead>\n",
       "  <tbody>\n",
       "    <tr>\n",
       "      <th>0</th>\n",
       "      <td>63</td>\n",
       "      <td>1</td>\n",
       "      <td>3</td>\n",
       "      <td>145</td>\n",
       "      <td>233</td>\n",
       "      <td>1</td>\n",
       "      <td>0</td>\n",
       "      <td>150</td>\n",
       "      <td>0</td>\n",
       "      <td>2.3</td>\n",
       "      <td>0</td>\n",
       "      <td>0</td>\n",
       "      <td>1</td>\n",
       "      <td>1</td>\n",
       "      <td>0</td>\n",
       "    </tr>\n",
       "    <tr>\n",
       "      <th>1</th>\n",
       "      <td>37</td>\n",
       "      <td>1</td>\n",
       "      <td>2</td>\n",
       "      <td>130</td>\n",
       "      <td>250</td>\n",
       "      <td>0</td>\n",
       "      <td>1</td>\n",
       "      <td>187</td>\n",
       "      <td>0</td>\n",
       "      <td>3.5</td>\n",
       "      <td>0</td>\n",
       "      <td>0</td>\n",
       "      <td>2</td>\n",
       "      <td>1</td>\n",
       "      <td>0</td>\n",
       "    </tr>\n",
       "    <tr>\n",
       "      <th>2</th>\n",
       "      <td>41</td>\n",
       "      <td>0</td>\n",
       "      <td>1</td>\n",
       "      <td>130</td>\n",
       "      <td>204</td>\n",
       "      <td>0</td>\n",
       "      <td>0</td>\n",
       "      <td>172</td>\n",
       "      <td>0</td>\n",
       "      <td>1.4</td>\n",
       "      <td>2</td>\n",
       "      <td>0</td>\n",
       "      <td>2</td>\n",
       "      <td>1</td>\n",
       "      <td>0</td>\n",
       "    </tr>\n",
       "    <tr>\n",
       "      <th>3</th>\n",
       "      <td>56</td>\n",
       "      <td>1</td>\n",
       "      <td>1</td>\n",
       "      <td>120</td>\n",
       "      <td>236</td>\n",
       "      <td>0</td>\n",
       "      <td>1</td>\n",
       "      <td>178</td>\n",
       "      <td>0</td>\n",
       "      <td>0.8</td>\n",
       "      <td>2</td>\n",
       "      <td>0</td>\n",
       "      <td>2</td>\n",
       "      <td>1</td>\n",
       "      <td>0</td>\n",
       "    </tr>\n",
       "    <tr>\n",
       "      <th>4</th>\n",
       "      <td>57</td>\n",
       "      <td>0</td>\n",
       "      <td>0</td>\n",
       "      <td>120</td>\n",
       "      <td>354</td>\n",
       "      <td>0</td>\n",
       "      <td>1</td>\n",
       "      <td>163</td>\n",
       "      <td>1</td>\n",
       "      <td>0.6</td>\n",
       "      <td>2</td>\n",
       "      <td>0</td>\n",
       "      <td>2</td>\n",
       "      <td>1</td>\n",
       "      <td>1</td>\n",
       "    </tr>\n",
       "    <tr>\n",
       "      <th>...</th>\n",
       "      <td>...</td>\n",
       "      <td>...</td>\n",
       "      <td>...</td>\n",
       "      <td>...</td>\n",
       "      <td>...</td>\n",
       "      <td>...</td>\n",
       "      <td>...</td>\n",
       "      <td>...</td>\n",
       "      <td>...</td>\n",
       "      <td>...</td>\n",
       "      <td>...</td>\n",
       "      <td>...</td>\n",
       "      <td>...</td>\n",
       "      <td>...</td>\n",
       "      <td>...</td>\n",
       "    </tr>\n",
       "    <tr>\n",
       "      <th>298</th>\n",
       "      <td>57</td>\n",
       "      <td>0</td>\n",
       "      <td>0</td>\n",
       "      <td>140</td>\n",
       "      <td>241</td>\n",
       "      <td>0</td>\n",
       "      <td>1</td>\n",
       "      <td>123</td>\n",
       "      <td>1</td>\n",
       "      <td>0.2</td>\n",
       "      <td>1</td>\n",
       "      <td>0</td>\n",
       "      <td>3</td>\n",
       "      <td>0</td>\n",
       "      <td>0</td>\n",
       "    </tr>\n",
       "    <tr>\n",
       "      <th>299</th>\n",
       "      <td>45</td>\n",
       "      <td>1</td>\n",
       "      <td>3</td>\n",
       "      <td>110</td>\n",
       "      <td>264</td>\n",
       "      <td>0</td>\n",
       "      <td>1</td>\n",
       "      <td>132</td>\n",
       "      <td>0</td>\n",
       "      <td>1.2</td>\n",
       "      <td>1</td>\n",
       "      <td>0</td>\n",
       "      <td>3</td>\n",
       "      <td>0</td>\n",
       "      <td>1</td>\n",
       "    </tr>\n",
       "    <tr>\n",
       "      <th>300</th>\n",
       "      <td>68</td>\n",
       "      <td>1</td>\n",
       "      <td>0</td>\n",
       "      <td>144</td>\n",
       "      <td>193</td>\n",
       "      <td>1</td>\n",
       "      <td>1</td>\n",
       "      <td>141</td>\n",
       "      <td>0</td>\n",
       "      <td>3.4</td>\n",
       "      <td>1</td>\n",
       "      <td>2</td>\n",
       "      <td>3</td>\n",
       "      <td>0</td>\n",
       "      <td>0</td>\n",
       "    </tr>\n",
       "    <tr>\n",
       "      <th>301</th>\n",
       "      <td>57</td>\n",
       "      <td>1</td>\n",
       "      <td>0</td>\n",
       "      <td>130</td>\n",
       "      <td>131</td>\n",
       "      <td>0</td>\n",
       "      <td>1</td>\n",
       "      <td>115</td>\n",
       "      <td>1</td>\n",
       "      <td>1.2</td>\n",
       "      <td>1</td>\n",
       "      <td>1</td>\n",
       "      <td>3</td>\n",
       "      <td>0</td>\n",
       "      <td>0</td>\n",
       "    </tr>\n",
       "    <tr>\n",
       "      <th>302</th>\n",
       "      <td>57</td>\n",
       "      <td>0</td>\n",
       "      <td>1</td>\n",
       "      <td>130</td>\n",
       "      <td>236</td>\n",
       "      <td>0</td>\n",
       "      <td>0</td>\n",
       "      <td>174</td>\n",
       "      <td>0</td>\n",
       "      <td>0.0</td>\n",
       "      <td>1</td>\n",
       "      <td>1</td>\n",
       "      <td>2</td>\n",
       "      <td>0</td>\n",
       "      <td>0</td>\n",
       "    </tr>\n",
       "  </tbody>\n",
       "</table>\n",
       "<p>303 rows × 15 columns</p>\n",
       "</div>"
      ],
      "text/plain": [
       "     age  sex  cp  trestbps  chol  fbs  restecg  thalach  exang  oldpeak  \\\n",
       "0     63    1   3       145   233    1        0      150      0      2.3   \n",
       "1     37    1   2       130   250    0        1      187      0      3.5   \n",
       "2     41    0   1       130   204    0        0      172      0      1.4   \n",
       "3     56    1   1       120   236    0        1      178      0      0.8   \n",
       "4     57    0   0       120   354    0        1      163      1      0.6   \n",
       "..   ...  ...  ..       ...   ...  ...      ...      ...    ...      ...   \n",
       "298   57    0   0       140   241    0        1      123      1      0.2   \n",
       "299   45    1   3       110   264    0        1      132      0      1.2   \n",
       "300   68    1   0       144   193    1        1      141      0      3.4   \n",
       "301   57    1   0       130   131    0        1      115      1      1.2   \n",
       "302   57    0   1       130   236    0        0      174      0      0.0   \n",
       "\n",
       "     slope  ca  thal  target  clusters  \n",
       "0        0   0     1       1         0  \n",
       "1        0   0     2       1         0  \n",
       "2        2   0     2       1         0  \n",
       "3        2   0     2       1         0  \n",
       "4        2   0     2       1         1  \n",
       "..     ...  ..   ...     ...       ...  \n",
       "298      1   0     3       0         0  \n",
       "299      1   0     3       0         1  \n",
       "300      1   2     3       0         0  \n",
       "301      1   1     3       0         0  \n",
       "302      1   1     2       0         0  \n",
       "\n",
       "[303 rows x 15 columns]"
      ]
     },
     "execution_count": 520,
     "metadata": {},
     "output_type": "execute_result"
    }
   ],
   "source": [
    "data['clusters'] = clustered\n",
    "data"
   ]
  },
  {
   "cell_type": "code",
   "execution_count": 521,
   "metadata": {},
   "outputs": [],
   "source": [
    "clusters_set = set()"
   ]
  },
  {
   "cell_type": "markdown",
   "metadata": {},
   "source": [
    "### Классификация алгоритмом \"k ближайших соседей\""
   ]
  },
  {
   "cell_type": "code",
   "execution_count": 522,
   "metadata": {},
   "outputs": [],
   "source": [
    "from sklearn.model_selection import train_test_split\n",
    "\n",
    "X_names = [col for col in data_cn.columns if col != 'target' and col != 'clusters']\n",
    "y_name = 'target'\n",
    "X = data[X_names]\n",
    "y = data[y_name]\n",
    "\n",
    "train_X, val_X, train_y, val_y = train_test_split(X, y, test_size = 0.2, random_state = 0)"
   ]
  },
  {
   "cell_type": "code",
   "execution_count": 523,
   "metadata": {},
   "outputs": [],
   "source": [
    "from collections import Counter\n",
    "\n",
    "def knn(train_X, train_y, val_X, dist_func, weights_arr):\n",
    "    \n",
    "    if (len(weights_arr) != len(train_X)):\n",
    "        print(\"Неправильная длина массива весов\")\n",
    "    val_y_hat = np.zeros(len(val_y))\n",
    "    \n",
    "    for j in range(len(val_X)): #для каждой точки в контрольной выборке\n",
    "        distances = np.zeros(len(train_X)) \n",
    "        for i in range(len(train_X)): # измеряем расстояния до всех точек в тренировочной выборке\n",
    "            distances[i] = dist_func(val_X.iloc[j], train_X.iloc[i]) \n",
    "        \n",
    "        df_dists = pd.DataFrame(data=distances, columns=['dist'], index=train_y.index) #создаём датасет расстояний\n",
    "        df_dists['t_y'] = train_y\n",
    "        df_nn = df_dists.sort_values(by=['dist'], axis=0) #сортируем его \n",
    "        df_nn['weights'] = weights_arr\n",
    "    \n",
    "        classes_set = set(train_y)\n",
    "        classes_list = list(classes_set)\n",
    "        dic = {c : 0 for c in classes_list}\n",
    "        \n",
    "        for c in classes_list: # ищем номер класса  для которого сумма весов максимальна\n",
    "            summ = 0\n",
    "            for i in range(len(df_nn)):\n",
    "                if (df_nn.iloc[i])['t_y'] == c:\n",
    "                    summ += (df_nn.iloc[i])['weights'] \n",
    "            dic[c] = summ\n",
    "            \n",
    "        max_c = max(dic, key = dic.get)\n",
    "        val_y_hat[j] = max_c\n",
    "        \n",
    "    return val_y_hat\n",
    "            "
   ]
  },
  {
   "cell_type": "code",
   "execution_count": 524,
   "metadata": {},
   "outputs": [
    {
     "ename": "NameError",
     "evalue": "name 'acc_arr2' is not defined",
     "output_type": "error",
     "traceback": [
      "\u001b[1;31m---------------------------------------------------------------------------\u001b[0m",
      "\u001b[1;31mNameError\u001b[0m                                 Traceback (most recent call last)",
      "\u001b[1;32m<ipython-input-524-ca9e2a8cebdb>\u001b[0m in \u001b[0;36m<module>\u001b[1;34m\u001b[0m\n\u001b[0;32m      3\u001b[0m     \u001b[0mweights_arr\u001b[0m \u001b[1;33m=\u001b[0m \u001b[1;33m[\u001b[0m\u001b[0mq\u001b[0m \u001b[1;33m**\u001b[0m \u001b[0mi\u001b[0m \u001b[1;32mfor\u001b[0m \u001b[0mi\u001b[0m \u001b[1;32min\u001b[0m \u001b[0mrange\u001b[0m\u001b[1;33m(\u001b[0m\u001b[0mlen\u001b[0m\u001b[1;33m(\u001b[0m\u001b[0mtrain_X\u001b[0m\u001b[1;33m)\u001b[0m\u001b[1;33m)\u001b[0m\u001b[1;33m]\u001b[0m\u001b[1;33m\u001b[0m\u001b[1;33m\u001b[0m\u001b[0m\n\u001b[0;32m      4\u001b[0m     \u001b[0mval_y_hat\u001b[0m \u001b[1;33m=\u001b[0m \u001b[0mknn\u001b[0m\u001b[1;33m(\u001b[0m\u001b[0mtrain_X\u001b[0m\u001b[1;33m,\u001b[0m \u001b[0mtrain_y\u001b[0m\u001b[1;33m,\u001b[0m \u001b[0mval_X\u001b[0m\u001b[1;33m,\u001b[0m \u001b[0mEuclidian_dist\u001b[0m\u001b[1;33m,\u001b[0m \u001b[0mweights_arr\u001b[0m\u001b[1;33m)\u001b[0m\u001b[1;33m\u001b[0m\u001b[1;33m\u001b[0m\u001b[0m\n\u001b[1;32m----> 5\u001b[1;33m     \u001b[0macc_arr2\u001b[0m\u001b[1;33m.\u001b[0m\u001b[0mappend\u001b[0m\u001b[1;33m(\u001b[0m\u001b[0maccuracy_score\u001b[0m\u001b[1;33m(\u001b[0m\u001b[0mval_y\u001b[0m\u001b[1;33m,\u001b[0m \u001b[0mval_y_hat\u001b[0m\u001b[1;33m)\u001b[0m\u001b[1;33m)\u001b[0m\u001b[1;33m\u001b[0m\u001b[1;33m\u001b[0m\u001b[0m\n\u001b[0m\u001b[0;32m      6\u001b[0m \u001b[0mfig\u001b[0m\u001b[1;33m,\u001b[0m \u001b[0max\u001b[0m \u001b[1;33m=\u001b[0m \u001b[0mplt\u001b[0m\u001b[1;33m.\u001b[0m\u001b[0msubplots\u001b[0m\u001b[1;33m(\u001b[0m\u001b[0mfigsize\u001b[0m\u001b[1;33m=\u001b[0m\u001b[1;33m(\u001b[0m\u001b[1;36m8\u001b[0m\u001b[1;33m,\u001b[0m\u001b[1;36m6\u001b[0m\u001b[1;33m)\u001b[0m\u001b[1;33m)\u001b[0m\u001b[1;33m\u001b[0m\u001b[1;33m\u001b[0m\u001b[0m\n\u001b[0;32m      7\u001b[0m \u001b[0max\u001b[0m\u001b[1;33m.\u001b[0m\u001b[0mplot\u001b[0m\u001b[1;33m(\u001b[0m\u001b[0mq_arr\u001b[0m\u001b[1;33m,\u001b[0m \u001b[0macc_arr1\u001b[0m\u001b[1;33m)\u001b[0m\u001b[1;33m\u001b[0m\u001b[1;33m\u001b[0m\u001b[0m\n",
      "\u001b[1;31mNameError\u001b[0m: name 'acc_arr2' is not defined"
     ]
    }
   ],
   "source": [
    "q_arr = np.arange(0.1, 1, 0.1)\n",
    "for q in q_arr:\n",
    "    weights_arr = [q ** i for i in range(len(train_X))]\n",
    "    val_y_hat = knn(train_X, train_y, val_X, Euclidian_dist, weights_arr)\n",
    "    acc_arr2.append(accuracy_score(val_y, val_y_hat))\n",
    "fig, ax = plt.subplots(figsize=(8,6))\n",
    "ax.plot(q_arr, acc_arr1)\n",
    "ax.set_xlabel('q - число между 0 и 1')"
   ]
  },
  {
   "cell_type": "markdown",
   "metadata": {},
   "source": [
    "knn с весами, убывающими как: $w = q^i$, где  $q = 0.75$"
   ]
  },
  {
   "cell_type": "code",
   "execution_count": 454,
   "metadata": {},
   "outputs": [
    {
     "data": {
      "text/plain": [
       "0.639344262295082"
      ]
     },
     "execution_count": 454,
     "metadata": {},
     "output_type": "execute_result"
    }
   ],
   "source": [
    "weights_arr = [0.8 ** i for i in range(len(train_X))]\n",
    "val_y_hat = knn(train_X, train_y, val_X, Euclidian_dist, weights_arr)\n",
    "accuracy_score(val_y, val_y_hat)"
   ]
  },
  {
   "cell_type": "markdown",
   "metadata": {},
   "source": [
    "На центрированных и нормированных данных точность существенно возрастает:"
   ]
  },
  {
   "cell_type": "code",
   "execution_count": 459,
   "metadata": {},
   "outputs": [
    {
     "name": "stdout",
     "output_type": "stream",
     "text": [
      "0.8360655737704918\n"
     ]
    }
   ],
   "source": [
    "X = data_cn[X_names]\n",
    "y = data_cn[y_name]\n",
    "\n",
    "train_X, val_X, train_y, val_y = train_test_split(X, y, test_size = 0.2, random_state = 0)\n",
    "\n",
    "weights_arr = [0.8 ** i for i in range(len(train_X))]\n",
    "val_y_hat = knn(train_X, train_y, val_X, Euclidian_dist, weights_arr)\n",
    "\n",
    "mistakes = 0\n",
    "for y_true, y_est in zip(val_y, val_y_hat):\n",
    "    if y_true != y_est:\n",
    "        mistakes+=1\n",
    "print(1 - mistakes/len(val_X))"
   ]
  },
  {
   "cell_type": "markdown",
   "metadata": {},
   "source": [
    "Классический knn (k = 15):"
   ]
  },
  {
   "cell_type": "code",
   "execution_count": 460,
   "metadata": {},
   "outputs": [
    {
     "name": "stdout",
     "output_type": "stream",
     "text": [
      "0.8524590163934427\n"
     ]
    }
   ],
   "source": [
    "weights_arr = [1/15 if i <= 15 else 0 for i in range(len(train_X))]\n",
    "val_y_hat = knn(train_X, train_y, val_X, Euclidian_dist, weights_arr)\n",
    "\n",
    "mistakes = 0\n",
    "for y_true, y_est in zip(val_y, val_y_hat):\n",
    "    if y_true != y_est:\n",
    "        mistakes+=1\n",
    "print(1 - mistakes/len(val_X))"
   ]
  },
  {
   "cell_type": "markdown",
   "metadata": {},
   "source": [
    "### Классификация алгоритмом \"Наивный Байесовский классификатор\""
   ]
  },
  {
   "cell_type": "markdown",
   "metadata": {},
   "source": [
    "Ядерные функции:"
   ]
  },
  {
   "cell_type": "code",
   "execution_count": 417,
   "metadata": {},
   "outputs": [],
   "source": [
    "def kernel_gauss(x): # гауссовское ядро\n",
    "    return (1/(np.sqrt(2*np.pi))) * np.exp(-0.5*(x**2))\n",
    "\n",
    "def kernel_epanech(x): # ядро Епанечникова\n",
    "    return 0.75*(1-x**2) if np.abs(x) < 1 else 0\n",
    "\n",
    "def kernel_bisquare(x): # биквадратное ядро\n",
    "    return (15/16)*((1-x**2)**2) if np.abs(x) < 1 else 0"
   ]
  },
  {
   "cell_type": "code",
   "execution_count": 429,
   "metadata": {},
   "outputs": [],
   "source": [
    "def kde(xj, j, h, X, y, kernel, c):\n",
    "    summ = 0\n",
    "    for i in range(len(X)):\n",
    "        if y.iloc[i] == c:\n",
    "            summ += kernel((xj - X.iloc[i, j]) / h)\n",
    "            #print(summ)\n",
    "    summ *= 1/(len(data) * h)\n",
    "    return summ"
   ]
  },
  {
   "cell_type": "code",
   "execution_count": 438,
   "metadata": {},
   "outputs": [],
   "source": [
    "def naive_bayes(train_X, train_y, val_X, kernel, h):\n",
    "    \n",
    "    val_y_hat = np.full(len(val_X), -1.0)\n",
    "    classes_set = set(train_y)\n",
    "    classes_list = list(classes_set) \n",
    "    dicc = {c : 0 for c in classes_list} \n",
    "    for c in dicc.keys():\n",
    "        for i in range(len(train_y)):\n",
    "            if train_y.iloc[i] == c:\n",
    "                dicc[c] += 1 # считаем количество экземпляров каждого класс\n",
    "                \n",
    "    dicPk = {k: v/len(train_y) for k, v in dicc.items()} #считаем вероятности попадания в каждый из классов\n",
    "    #print(dicPk)\n",
    "    \n",
    "    for i in range(len(val_X)):\n",
    "        dics = {c : 0 for c in classes_list}\n",
    "        for c in dics.keys():\n",
    "            prod = dicPk[c]\n",
    "            for j in range(len(val_X.columns)): #перемножаем вероятность на плотности\n",
    "                #print(kde(val_X.iloc[i, j], j, h, train_X, kernel))\n",
    "                prod *= kde(val_X.iloc[i, j], j, h, train_X, train_y, kernel, c) #считаем ядерную оценку условных плотностей\n",
    "            #print(prod)\n",
    "            dics[c] = prod  \n",
    "        #print(dics)\n",
    "        max_c = max(dics, key = dics.get) # выбираем класс с максимальным значением \n",
    "        val_y_hat[i] = max_c\n",
    "        \n",
    "    return val_y_hat"
   ]
  },
  {
   "cell_type": "markdown",
   "metadata": {},
   "source": [
    "Подбираем сносную ширину полосы для каждого ядра (по какому-нибудь одному признаку)."
   ]
  },
  {
   "cell_type": "markdown",
   "metadata": {},
   "source": [
    "Гауссовское:"
   ]
  },
  {
   "cell_type": "code",
   "execution_count": 450,
   "metadata": {},
   "outputs": [],
   "source": [
    "X = data[X_names]\n",
    "y = data[y_name]\n",
    "train_X, val_X, train_y, val_y = train_test_split(X, y, test_size = 0.2, random_state = 123)"
   ]
  },
  {
   "cell_type": "code",
   "execution_count": 432,
   "metadata": {},
   "outputs": [
    {
     "data": {
      "text/plain": [
       "Text(0.5, 1.0, 'h = 1')"
      ]
     },
     "execution_count": 432,
     "metadata": {},
     "output_type": "execute_result"
    },
    {
     "data": {
      "image/png": "[encoded data removed]",
      "text/plain": [
       "<Figure size 576x432 with 4 Axes>"
      ]
     },
     "metadata": {
      "needs_background": "light"
     },
     "output_type": "display_data"
    }
   ],
   "source": [
    "kde_list1 = [kde(xj, 1 ,0.1, train_X, train_y, kernel_gauss, 1) for xj in np.arange(-5, 5, 0.1)]\n",
    "kde_list2 = [kde(xj, 1 ,0.5, train_X, train_y, kernel_gauss, 1) for xj in np.arange(-5, 5, 0.1)]\n",
    "kde_list3 = [kde(xj, 1 ,0.7, train_X, train_y, kernel_gauss, 1) for xj in np.arange(-5, 5, 0.1)]\n",
    "kde_list4 = [kde(xj, 1 , 1, train_X, train_y, kernel_gauss, 1) for xj in np.arange(-5, 5, 0.1)]\n",
    "fig, ((ax1, ax2), (ax3, ax4)) = plt.subplots(2, 2, figsize=(8,6))\n",
    "ax1.plot(np.arange(-5, 5, 0.1), kde_list1)\n",
    "ax1.set_title(\"h = 0.1\")\n",
    "ax2.plot(np.arange(-5, 5, 0.1), kde_list2)\n",
    "ax2.set_title(\"h = 0.5\")\n",
    "ax3.plot(np.arange(-5, 5, 0.1), kde_list3)\n",
    "ax3.set_title(\"h = 0.7\")\n",
    "ax4.plot(np.arange(-5, 5, 0.1), kde_list4)\n",
    "ax4.set_title(\"h = 1\")"
   ]
  },
  {
   "cell_type": "markdown",
   "metadata": {},
   "source": [
    "Епанечникова:"
   ]
  },
  {
   "cell_type": "code",
   "execution_count": 435,
   "metadata": {},
   "outputs": [
    {
     "data": {
      "text/plain": [
       "Text(0.5, 1.0, 'h = 1')"
      ]
     },
     "execution_count": 435,
     "metadata": {},
     "output_type": "execute_result"
    },
    {
     "data": {
      "image/png": "[encoded data removed]",
      "text/plain": [
       "<Figure size 576x432 with 4 Axes>"
      ]
     },
     "metadata": {
      "needs_background": "light"
     },
     "output_type": "display_data"
    }
   ],
   "source": [
    "kde_list1 = [kde(xj, 1 ,0.1, train_X, train_y, kernel_epanech, 1) for xj in np.arange(-5, 5, 0.1)]\n",
    "kde_list2 = [kde(xj, 1 ,0.5, train_X, train_y, kernel_epanech, 1) for xj in np.arange(-5, 5, 0.1)]\n",
    "kde_list3 = [kde(xj, 1 ,0.7, train_X, train_y, kernel_epanech, 1) for xj in np.arange(-5, 5, 0.1)]\n",
    "kde_list4 = [kde(xj, 1 , 1, train_X, train_y, kernel_epanech, 1) for xj in np.arange(-5, 5, 0.1)]\n",
    "fig, ((ax1, ax2), (ax3, ax4)) = plt.subplots(2, 2, figsize=(8,6))\n",
    "ax1.plot(np.arange(-5, 5, 0.1), kde_list1)\n",
    "ax1.set_title(\"h = 0.1\")\n",
    "ax2.plot(np.arange(-5, 5, 0.1), kde_list2)\n",
    "ax2.set_title(\"h = 0.5\")\n",
    "ax3.plot(np.arange(-5, 5, 0.1), kde_list3)\n",
    "ax3.set_title(\"h = 0.7\")\n",
    "ax4.plot(np.arange(-5, 5, 0.1), kde_list4)\n",
    "ax4.set_title(\"h = 1\")"
   ]
  },
  {
   "cell_type": "code",
   "execution_count": 436,
   "metadata": {},
   "outputs": [
    {
     "data": {
      "text/plain": [
       "Text(0.5, 1.0, 'h = 1')"
      ]
     },
     "execution_count": 436,
     "metadata": {},
     "output_type": "execute_result"
    },
    {
     "data": {
      "image/png": "[encoded data removed]",
      "text/plain": [
       "<Figure size 576x432 with 4 Axes>"
      ]
     },
     "metadata": {
      "needs_background": "light"
     },
     "output_type": "display_data"
    }
   ],
   "source": [
    "kde_list1 = [kde(xj, 1 ,0.1, train_X, train_y, kernel_bisquare, 1) for xj in np.arange(-5, 5, 0.1)]\n",
    "kde_list2 = [kde(xj, 1 ,0.5, train_X, train_y, kernel_bisquare, 1) for xj in np.arange(-5, 5, 0.1)]\n",
    "kde_list3 = [kde(xj, 1 ,0.7, train_X, train_y, kernel_bisquare, 1) for xj in np.arange(-5, 5, 0.1)]\n",
    "kde_list4 = [kde(xj, 1 , 1, train_X, train_y, kernel_bisquare, 1) for xj in np.arange(-5, 5, 0.1)]\n",
    "fig, ((ax1, ax2), (ax3, ax4)) = plt.subplots(2, 2, figsize=(8,6))\n",
    "ax1.plot(np.arange(-5, 5, 0.1), kde_list1)\n",
    "ax1.set_title(\"h = 0.1\")\n",
    "ax2.plot(np.arange(-5, 5, 0.1), kde_list2)\n",
    "ax2.set_title(\"h = 0.5\")\n",
    "ax3.plot(np.arange(-5, 5, 0.1), kde_list3)\n",
    "ax3.set_title(\"h = 0.7\")\n",
    "ax4.plot(np.arange(-5, 5, 0.1), kde_list4)\n",
    "ax4.set_title(\"h = 1\")"
   ]
  },
  {
   "cell_type": "markdown",
   "metadata": {},
   "source": [
    "Точность классификации (гауссовское ядро):"
   ]
  },
  {
   "cell_type": "code",
   "execution_count": 451,
   "metadata": {},
   "outputs": [
    {
     "data": {
      "text/plain": [
       "0.6885245901639344"
      ]
     },
     "execution_count": 451,
     "metadata": {},
     "output_type": "execute_result"
    }
   ],
   "source": [
    "from sklearn.metrics import accuracy_score\n",
    "\n",
    "val_y_hat_bayes = naive_bayes(train_X, train_y, val_X, kernel_gauss, 0.7)\n",
    "accuracy_score(val_y, val_y_hat_bayes)"
   ]
  },
  {
   "cell_type": "markdown",
   "metadata": {},
   "source": [
    "Для центрированных и нормированных данных точность возрастает:"
   ]
  },
  {
   "cell_type": "code",
   "execution_count": 440,
   "metadata": {},
   "outputs": [],
   "source": [
    "X = data_cn[X_names]\n",
    "y = data_cn[y_name]\n",
    "train_X, val_X, train_y, val_y = train_test_split(X, y, test_size = 0.2, random_state = 213)"
   ]
  },
  {
   "cell_type": "code",
   "execution_count": 447,
   "metadata": {},
   "outputs": [
    {
     "name": "stdout",
     "output_type": "stream",
     "text": [
      "0.819672131147541\n"
     ]
    }
   ],
   "source": [
    "from sklearn.metrics import accuracy_score\n",
    "\n",
    "val_y_hat_bayes = naive_bayes(train_X, train_y, val_X, kernel_gauss, 0.7)\n",
    "#accuracy_score(val_y, val_y_hat_bayes)\n",
    "mistakes = 0\n",
    "for y_true, y_est in zip(val_y, val_y_hat_bayes):\n",
    "    if y_true != y_est:\n",
    "        mistakes+=1\n",
    "print(1 - mistakes/len(val_X))\n",
    "acc_gauss_cn = 1 - mistakes/len(val_X)"
   ]
  },
  {
   "cell_type": "code",
   "execution_count": 442,
   "metadata": {},
   "outputs": [
    {
     "name": "stdout",
     "output_type": "stream",
     "text": [
      "0.7704918032786885\n"
     ]
    }
   ],
   "source": [
    "val_y_hat_bayes = naive_bayes(train_X, train_y, val_X, kernel_epanech, 1.0)\n",
    "#accuracy_score(val_y, val_y_hat_bayes)\n",
    "mistakes = 0\n",
    "for y_true, y_est in zip(val_y, val_y_hat_bayes):\n",
    "    if y_true != y_est:\n",
    "        mistakes+=1\n",
    "print(1 - mistakes/len(val_X))\n",
    "acc_epanech_cn = 1 - mistakes/len(val_X)"
   ]
  },
  {
   "cell_type": "code",
   "execution_count": 445,
   "metadata": {},
   "outputs": [
    {
     "name": "stdout",
     "output_type": "stream",
     "text": [
      "0.8032786885245902\n"
     ]
    }
   ],
   "source": [
    "val_y_hat_bayes = naive_bayes(train_X, train_y, val_X, kernel_bisquare, 1.0)\n",
    "#accuracy_score(val_y, val_y_hat_bayes)\n",
    "mistakes = 0\n",
    "for y_true, y_est in zip(val_y, val_y_hat_bayes):\n",
    "    if y_true != y_est:\n",
    "        mistakes+=1\n",
    "print(1 - mistakes/len(val_X))\n",
    "acc_bisquare_cn = 1 - mistakes/len(val_X)"
   ]
  },
  {
   "cell_type": "code",
   "execution_count": 449,
   "metadata": {},
   "outputs": [
    {
     "data": {
      "image/png": "[encoded data removed]",
      "text/plain": [
       "<Figure size 432x288 with 1 Axes>"
      ]
     },
     "metadata": {
      "needs_background": "light"
     },
     "output_type": "display_data"
    }
   ],
   "source": [
    "Values = [acc_gauss_cn, acc_epanech_cn, acc_bisquare_cn]\n",
    "Names = ['Гаусс', 'Епанечников', 'Биквадратичное']\n",
    "plt.bar(Names, Values)\n",
    "plt.xlabel('Точность в зависимости от выбора ядра')\n",
    "plt.show()"
   ]
  }
 ],
 "metadata": {
  "kernelspec": {
   "display_name": "Python 3",
   "language": "python",
   "name": "python3"
  },
  "language_info": {
   "codemirror_mode": {
    "name": "ipython",
    "version": 3
   },
   "file_extension": ".py",
   "mimetype": "text/x-python",
   "name": "python",
   "nbconvert_exporter": "python",
   "pygments_lexer": "ipython3",
   "version": "3.7.9"
  }
 },
 "nbformat": 4,
 "nbformat_minor": 4
}
